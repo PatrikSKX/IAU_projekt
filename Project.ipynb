{
 "cells": [
  {
   "cell_type": "markdown",
   "id": "64169299",
   "metadata": {},
   "source": [
    "Uvod"
   ]
  },
  {
   "cell_type": "code",
   "execution_count": 1,
   "id": "faa1975c",
   "metadata": {},
   "outputs": [],
   "source": [
    "import matplotlib.pyplot as plt\n",
    "import seaborn as sns\n",
    "import pandas as pd\n",
    "import numpy as np\n",
    "import scipy.stats as stats"
   ]
  },
  {
   "cell_type": "code",
   "execution_count": 2,
   "id": "087663da",
   "metadata": {},
   "outputs": [
    {
     "data": {
      "text/html": [
       "<div>\n",
       "<style scoped>\n",
       "    .dataframe tbody tr th:only-of-type {\n",
       "        vertical-align: middle;\n",
       "    }\n",
       "\n",
       "    .dataframe tbody tr th {\n",
       "        vertical-align: top;\n",
       "    }\n",
       "\n",
       "    .dataframe thead th {\n",
       "        text-align: right;\n",
       "    }\n",
       "</style>\n",
       "<table border=\"1\" class=\"dataframe\">\n",
       "  <thead>\n",
       "    <tr style=\"text-align: right;\">\n",
       "      <th></th>\n",
       "      <th>sex</th>\n",
       "      <th>job</th>\n",
       "      <th>blood_group</th>\n",
       "      <th>name</th>\n",
       "      <th>race</th>\n",
       "      <th>address</th>\n",
       "      <th>birthdate</th>\n",
       "      <th>current_location</th>\n",
       "      <th>ssn</th>\n",
       "    </tr>\n",
       "  </thead>\n",
       "  <tbody>\n",
       "    <tr>\n",
       "      <th>0</th>\n",
       "      <td>M</td>\n",
       "      <td>Secretary/administrator</td>\n",
       "      <td>O+</td>\n",
       "      <td>Colton Garcia</td>\n",
       "      <td>Hawaiian</td>\n",
       "      <td>222 Smith Shoals\\nOrtegaland, NM 25312</td>\n",
       "      <td>1990-04-02</td>\n",
       "      <td>(Decimal('81.068645'), Decimal('-61.887841'))</td>\n",
       "      <td>224-40-1972</td>\n",
       "    </tr>\n",
       "    <tr>\n",
       "      <th>1</th>\n",
       "      <td>M</td>\n",
       "      <td>Hydrogeologist</td>\n",
       "      <td>AB+</td>\n",
       "      <td>James Gray</td>\n",
       "      <td>Hawaiian</td>\n",
       "      <td>755 Graham Lake\\nValdezfurt, IN 21739</td>\n",
       "      <td>03/25/1926, 00:00:00</td>\n",
       "      <td>(Decimal('-5.4110755'), Decimal('-172.109419'))</td>\n",
       "      <td>351-11-1730</td>\n",
       "    </tr>\n",
       "    <tr>\n",
       "      <th>2</th>\n",
       "      <td>M</td>\n",
       "      <td>Tourism officer</td>\n",
       "      <td>AB-</td>\n",
       "      <td>Franklin Moore</td>\n",
       "      <td>White</td>\n",
       "      <td>42832 Patrick Island\\nEast Bradton, DE 36334</td>\n",
       "      <td>05/06/1958, 00:00:00</td>\n",
       "      <td>(Decimal('-88.540956'), Decimal('-94.396339'))</td>\n",
       "      <td>824-41-6795</td>\n",
       "    </tr>\n",
       "    <tr>\n",
       "      <th>3</th>\n",
       "      <td>F</td>\n",
       "      <td>Social worker</td>\n",
       "      <td>A+</td>\n",
       "      <td>Jennifer Anderson</td>\n",
       "      <td>White</td>\n",
       "      <td>Unit 8158 Box 0225\\nDPO AP 69059</td>\n",
       "      <td>1908-06-07</td>\n",
       "      <td>(Decimal('85.9643255'), Decimal('-165.105180'))</td>\n",
       "      <td>077-59-6064</td>\n",
       "    </tr>\n",
       "    <tr>\n",
       "      <th>4</th>\n",
       "      <td>F</td>\n",
       "      <td>Naval architect</td>\n",
       "      <td>A+</td>\n",
       "      <td>Carrie Wilson</td>\n",
       "      <td>Black</td>\n",
       "      <td>0994 Daniel Park Apt. 137\\nWest Melinda, KS 34770</td>\n",
       "      <td>13 Jan 1974</td>\n",
       "      <td>(Decimal('-27.169289'), Decimal('96.479444'))</td>\n",
       "      <td>004-15-9553</td>\n",
       "    </tr>\n",
       "  </tbody>\n",
       "</table>\n",
       "</div>"
      ],
      "text/plain": [
       "  sex                      job blood_group               name      race  \\\n",
       "0   M  Secretary/administrator          O+      Colton Garcia  Hawaiian   \n",
       "1   M           Hydrogeologist         AB+         James Gray  Hawaiian   \n",
       "2   M          Tourism officer         AB-     Franklin Moore     White   \n",
       "3   F            Social worker          A+  Jennifer Anderson     White   \n",
       "4   F          Naval architect          A+      Carrie Wilson     Black   \n",
       "\n",
       "                                             address             birthdate  \\\n",
       "0             222 Smith Shoals\\nOrtegaland, NM 25312            1990-04-02   \n",
       "1              755 Graham Lake\\nValdezfurt, IN 21739  03/25/1926, 00:00:00   \n",
       "2       42832 Patrick Island\\nEast Bradton, DE 36334  05/06/1958, 00:00:00   \n",
       "3                   Unit 8158 Box 0225\\nDPO AP 69059            1908-06-07   \n",
       "4  0994 Daniel Park Apt. 137\\nWest Melinda, KS 34770           13 Jan 1974   \n",
       "\n",
       "                                  current_location          ssn  \n",
       "0    (Decimal('81.068645'), Decimal('-61.887841'))  224-40-1972  \n",
       "1  (Decimal('-5.4110755'), Decimal('-172.109419'))  351-11-1730  \n",
       "2   (Decimal('-88.540956'), Decimal('-94.396339'))  824-41-6795  \n",
       "3  (Decimal('85.9643255'), Decimal('-165.105180'))  077-59-6064  \n",
       "4    (Decimal('-27.169289'), Decimal('96.479444'))  004-15-9553  "
      ]
     },
     "execution_count": 2,
     "metadata": {},
     "output_type": "execute_result"
    }
   ],
   "source": [
    "filename = \"020/profiles.csv\"\n",
    "profiles = pd.read_csv(filename, sep='\\t', index_col=0)\n",
    "profiles.head()"
   ]
  },
  {
   "cell_type": "code",
   "execution_count": 24,
   "id": "79767c1a",
   "metadata": {},
   "outputs": [
    {
     "data": {
      "text/html": [
       "<div>\n",
       "<style scoped>\n",
       "    .dataframe tbody tr th:only-of-type {\n",
       "        vertical-align: middle;\n",
       "    }\n",
       "\n",
       "    .dataframe tbody tr th {\n",
       "        vertical-align: top;\n",
       "    }\n",
       "\n",
       "    .dataframe thead th {\n",
       "        text-align: right;\n",
       "    }\n",
       "</style>\n",
       "<table border=\"1\" class=\"dataframe\">\n",
       "  <thead>\n",
       "    <tr style=\"text-align: right;\">\n",
       "      <th></th>\n",
       "      <th>er-cv</th>\n",
       "      <th>name</th>\n",
       "      <th>indicator</th>\n",
       "      <th>leukocyty</th>\n",
       "      <th>weight</th>\n",
       "      <th>ssn</th>\n",
       "      <th>relationship</th>\n",
       "      <th>etytr</th>\n",
       "      <th>smoker</th>\n",
       "      <th>erytrocyty</th>\n",
       "      <th>trombocyty</th>\n",
       "      <th>hemoglobin</th>\n",
       "      <th>ast</th>\n",
       "      <th>alp</th>\n",
       "      <th>alt</th>\n",
       "      <th>hematokrit</th>\n",
       "      <th>hbver</th>\n",
       "    </tr>\n",
       "  </thead>\n",
       "  <tbody>\n",
       "    <tr>\n",
       "      <th>0</th>\n",
       "      <td>43.09887</td>\n",
       "      <td>Devin Diaz</td>\n",
       "      <td>1.0</td>\n",
       "      <td>4.47526</td>\n",
       "      <td>65.57593</td>\n",
       "      <td>597-97-9078</td>\n",
       "      <td>single</td>\n",
       "      <td>5.96219</td>\n",
       "      <td>no</td>\n",
       "      <td>6.20665</td>\n",
       "      <td>5.71427</td>\n",
       "      <td>5.06667</td>\n",
       "      <td>57.92930</td>\n",
       "      <td>57.60257</td>\n",
       "      <td>5.12934</td>\n",
       "      <td>7.11081</td>\n",
       "      <td>6.32708</td>\n",
       "    </tr>\n",
       "    <tr>\n",
       "      <th>1</th>\n",
       "      <td>32.51734</td>\n",
       "      <td>Theodore Morris</td>\n",
       "      <td>1.0</td>\n",
       "      <td>4.41339</td>\n",
       "      <td>58.47779</td>\n",
       "      <td>100-19-5038</td>\n",
       "      <td>divoced</td>\n",
       "      <td>5.44840</td>\n",
       "      <td>no</td>\n",
       "      <td>5.58217</td>\n",
       "      <td>6.29619</td>\n",
       "      <td>6.90945</td>\n",
       "      <td>61.47846</td>\n",
       "      <td>83.38342</td>\n",
       "      <td>10.59365</td>\n",
       "      <td>8.52324</td>\n",
       "      <td>9.06429</td>\n",
       "    </tr>\n",
       "    <tr>\n",
       "      <th>2</th>\n",
       "      <td>54.39106</td>\n",
       "      <td>Ashley Mccormick</td>\n",
       "      <td>1.0</td>\n",
       "      <td>4.71119</td>\n",
       "      <td>37.58396</td>\n",
       "      <td>241-30-2551</td>\n",
       "      <td>widowed</td>\n",
       "      <td>6.75478</td>\n",
       "      <td>Y</td>\n",
       "      <td>6.36030</td>\n",
       "      <td>6.67129</td>\n",
       "      <td>4.08668</td>\n",
       "      <td>59.37033</td>\n",
       "      <td>31.60935</td>\n",
       "      <td>10.72644</td>\n",
       "      <td>8.41874</td>\n",
       "      <td>7.11435</td>\n",
       "    </tr>\n",
       "    <tr>\n",
       "      <th>3</th>\n",
       "      <td>45.79943</td>\n",
       "      <td>Brent Howard</td>\n",
       "      <td>1.0</td>\n",
       "      <td>5.38079</td>\n",
       "      <td>88.06628</td>\n",
       "      <td>667-52-4116</td>\n",
       "      <td>married</td>\n",
       "      <td>6.33099</td>\n",
       "      <td>no</td>\n",
       "      <td>5.45784</td>\n",
       "      <td>6.24957</td>\n",
       "      <td>5.57164</td>\n",
       "      <td>50.31551</td>\n",
       "      <td>75.29715</td>\n",
       "      <td>9.26557</td>\n",
       "      <td>4.69702</td>\n",
       "      <td>7.00724</td>\n",
       "    </tr>\n",
       "    <tr>\n",
       "      <th>4</th>\n",
       "      <td>48.81261</td>\n",
       "      <td>Paul Jordan</td>\n",
       "      <td>0.0</td>\n",
       "      <td>4.72469</td>\n",
       "      <td>44.59816</td>\n",
       "      <td>368-59-5827</td>\n",
       "      <td>divoced</td>\n",
       "      <td>6.62153</td>\n",
       "      <td>no</td>\n",
       "      <td>6.36262</td>\n",
       "      <td>6.44608</td>\n",
       "      <td>6.49617</td>\n",
       "      <td>50.44424</td>\n",
       "      <td>84.90135</td>\n",
       "      <td>9.31196</td>\n",
       "      <td>6.31221</td>\n",
       "      <td>8.54503</td>\n",
       "    </tr>\n",
       "  </tbody>\n",
       "</table>\n",
       "</div>"
      ],
      "text/plain": [
       "      er-cv              name  indicator  leukocyty    weight          ssn  \\\n",
       "0  43.09887        Devin Diaz        1.0    4.47526  65.57593  597-97-9078   \n",
       "1  32.51734   Theodore Morris        1.0    4.41339  58.47779  100-19-5038   \n",
       "2  54.39106  Ashley Mccormick        1.0    4.71119  37.58396  241-30-2551   \n",
       "3  45.79943      Brent Howard        1.0    5.38079  88.06628  667-52-4116   \n",
       "4  48.81261       Paul Jordan        0.0    4.72469  44.59816  368-59-5827   \n",
       "\n",
       "  relationship    etytr smoker  erytrocyty  trombocyty  hemoglobin       ast  \\\n",
       "0       single  5.96219     no     6.20665     5.71427     5.06667  57.92930   \n",
       "1      divoced  5.44840     no     5.58217     6.29619     6.90945  61.47846   \n",
       "2      widowed  6.75478      Y     6.36030     6.67129     4.08668  59.37033   \n",
       "3      married  6.33099     no     5.45784     6.24957     5.57164  50.31551   \n",
       "4      divoced  6.62153     no     6.36262     6.44608     6.49617  50.44424   \n",
       "\n",
       "        alp       alt  hematokrit    hbver  \n",
       "0  57.60257   5.12934     7.11081  6.32708  \n",
       "1  83.38342  10.59365     8.52324  9.06429  \n",
       "2  31.60935  10.72644     8.41874  7.11435  \n",
       "3  75.29715   9.26557     4.69702  7.00724  \n",
       "4  84.90135   9.31196     6.31221  8.54503  "
      ]
     },
     "execution_count": 24,
     "metadata": {},
     "output_type": "execute_result"
    }
   ],
   "source": [
    "filename2 = \"020/labor.csv\"\n",
    "labor = pd.read_csv(filename2, sep='\\t', index_col=0)\n",
    "labor.head()"
   ]
  },
  {
   "cell_type": "code",
   "execution_count": 23,
   "id": "84fb53c1",
   "metadata": {},
   "outputs": [
    {
     "data": {
      "text/plain": [
       "(3112, 9)"
      ]
     },
     "execution_count": 23,
     "metadata": {},
     "output_type": "execute_result"
    }
   ],
   "source": [
    "profiles.shape"
   ]
  },
  {
   "cell_type": "code",
   "execution_count": 4,
   "id": "958bea98",
   "metadata": {},
   "outputs": [
    {
     "name": "stdout",
     "output_type": "stream",
     "text": [
      "<class 'pandas.core.frame.DataFrame'>\n",
      "Int64Index: 3112 entries, 0 to 3111\n",
      "Data columns (total 9 columns):\n",
      " #   Column            Non-Null Count  Dtype \n",
      "---  ------            --------------  ----- \n",
      " 0   sex               3112 non-null   object\n",
      " 1   job               3112 non-null   object\n",
      " 2   blood_group       3112 non-null   object\n",
      " 3   name              3112 non-null   object\n",
      " 4   race              3112 non-null   object\n",
      " 5   address           3112 non-null   object\n",
      " 6   birthdate         3112 non-null   object\n",
      " 7   current_location  3112 non-null   object\n",
      " 8   ssn               3112 non-null   object\n",
      "dtypes: object(9)\n",
      "memory usage: 243.1+ KB\n"
     ]
    }
   ],
   "source": [
    "profiles.info()"
   ]
  },
  {
   "cell_type": "code",
   "execution_count": 5,
   "id": "46862241",
   "metadata": {},
   "outputs": [
    {
     "data": {
      "text/plain": [
       "array(['O+', 'AB+', 'AB-', 'A+', 'B-', 'O-', 'B+', 'A-'], dtype=object)"
      ]
     },
     "execution_count": 5,
     "metadata": {},
     "output_type": "execute_result"
    }
   ],
   "source": [
    "profiles.blood_group.unique()"
   ]
  },
  {
   "cell_type": "code",
   "execution_count": 6,
   "id": "441f83c4",
   "metadata": {},
   "outputs": [
    {
     "data": {
      "text/plain": [
       "array(['Hawaiian', 'White', 'Black', 'Asian', 'Indian', 'black', 'blsck',\n",
       "       'white'], dtype=object)"
      ]
     },
     "execution_count": 6,
     "metadata": {},
     "output_type": "execute_result"
    }
   ],
   "source": [
    "profiles.race.unique()"
   ]
  },
  {
   "cell_type": "code",
   "execution_count": 7,
   "id": "959be102",
   "metadata": {},
   "outputs": [
    {
     "data": {
      "text/plain": [
       "array(['M', 'F'], dtype=object)"
      ]
     },
     "execution_count": 7,
     "metadata": {},
     "output_type": "execute_result"
    }
   ],
   "source": [
    "profiles.sex.unique()"
   ]
  },
  {
   "cell_type": "code",
   "execution_count": 22,
   "id": "324c31ea",
   "metadata": {},
   "outputs": [
    {
     "data": {
      "text/plain": [
       "(9987, 17)"
      ]
     },
     "execution_count": 22,
     "metadata": {},
     "output_type": "execute_result"
    }
   ],
   "source": [
    "labor.shape"
   ]
  },
  {
   "cell_type": "code",
   "execution_count": 8,
   "id": "7fda73e1",
   "metadata": {},
   "outputs": [
    {
     "name": "stdout",
     "output_type": "stream",
     "text": [
      "<class 'pandas.core.frame.DataFrame'>\n",
      "Int64Index: 9987 entries, 0 to 9986\n",
      "Data columns (total 17 columns):\n",
      " #   Column        Non-Null Count  Dtype  \n",
      "---  ------        --------------  -----  \n",
      " 0   er-cv         9957 non-null   float64\n",
      " 1   name          9987 non-null   object \n",
      " 2   indicator     9987 non-null   float64\n",
      " 3   leukocyty     9957 non-null   float64\n",
      " 4   weight        9987 non-null   float64\n",
      " 5   ssn           9987 non-null   object \n",
      " 6   relationship  9987 non-null   object \n",
      " 7   etytr         9957 non-null   float64\n",
      " 8   smoker        9987 non-null   object \n",
      " 9   erytrocyty    9957 non-null   float64\n",
      " 10  trombocyty    9957 non-null   float64\n",
      " 11  hemoglobin    9957 non-null   float64\n",
      " 12  ast           9957 non-null   float64\n",
      " 13  alp           9956 non-null   float64\n",
      " 14  alt           9957 non-null   float64\n",
      " 15  hematokrit    9957 non-null   float64\n",
      " 16  hbver         9956 non-null   float64\n",
      "dtypes: float64(13), object(4)\n",
      "memory usage: 1.4+ MB\n"
     ]
    }
   ],
   "source": [
    "labor.info()"
   ]
  },
  {
   "cell_type": "code",
   "execution_count": 9,
   "id": "d748493e",
   "metadata": {},
   "outputs": [
    {
     "data": {
      "text/html": [
       "<div>\n",
       "<style scoped>\n",
       "    .dataframe tbody tr th:only-of-type {\n",
       "        vertical-align: middle;\n",
       "    }\n",
       "\n",
       "    .dataframe tbody tr th {\n",
       "        vertical-align: top;\n",
       "    }\n",
       "\n",
       "    .dataframe thead th {\n",
       "        text-align: right;\n",
       "    }\n",
       "</style>\n",
       "<table border=\"1\" class=\"dataframe\">\n",
       "  <thead>\n",
       "    <tr style=\"text-align: right;\">\n",
       "      <th></th>\n",
       "      <th>er-cv</th>\n",
       "      <th>indicator</th>\n",
       "      <th>leukocyty</th>\n",
       "      <th>weight</th>\n",
       "      <th>etytr</th>\n",
       "      <th>erytrocyty</th>\n",
       "      <th>trombocyty</th>\n",
       "      <th>hemoglobin</th>\n",
       "      <th>ast</th>\n",
       "      <th>alp</th>\n",
       "      <th>alt</th>\n",
       "      <th>hematokrit</th>\n",
       "      <th>hbver</th>\n",
       "    </tr>\n",
       "  </thead>\n",
       "  <tbody>\n",
       "    <tr>\n",
       "      <th>count</th>\n",
       "      <td>9957.000000</td>\n",
       "      <td>9987.000000</td>\n",
       "      <td>9957.000000</td>\n",
       "      <td>9987.000000</td>\n",
       "      <td>9957.000000</td>\n",
       "      <td>9957.000000</td>\n",
       "      <td>9957.000000</td>\n",
       "      <td>9957.000000</td>\n",
       "      <td>9957.000000</td>\n",
       "      <td>9956.000000</td>\n",
       "      <td>9957.000000</td>\n",
       "      <td>9957.000000</td>\n",
       "      <td>9956.000000</td>\n",
       "    </tr>\n",
       "    <tr>\n",
       "      <th>mean</th>\n",
       "      <td>48.425748</td>\n",
       "      <td>0.643036</td>\n",
       "      <td>6.649040</td>\n",
       "      <td>69.606618</td>\n",
       "      <td>6.193915</td>\n",
       "      <td>6.236316</td>\n",
       "      <td>6.213423</td>\n",
       "      <td>5.421372</td>\n",
       "      <td>49.469559</td>\n",
       "      <td>55.509917</td>\n",
       "      <td>11.496663</td>\n",
       "      <td>6.633143</td>\n",
       "      <td>7.397443</td>\n",
       "    </tr>\n",
       "    <tr>\n",
       "      <th>std</th>\n",
       "      <td>13.726128</td>\n",
       "      <td>0.479128</td>\n",
       "      <td>1.566503</td>\n",
       "      <td>34.914156</td>\n",
       "      <td>0.997552</td>\n",
       "      <td>0.992777</td>\n",
       "      <td>0.980931</td>\n",
       "      <td>1.620002</td>\n",
       "      <td>13.796167</td>\n",
       "      <td>27.049256</td>\n",
       "      <td>5.958054</td>\n",
       "      <td>1.755006</td>\n",
       "      <td>1.149620</td>\n",
       "    </tr>\n",
       "    <tr>\n",
       "      <th>min</th>\n",
       "      <td>0.000000</td>\n",
       "      <td>0.000000</td>\n",
       "      <td>2.217920</td>\n",
       "      <td>-77.211600</td>\n",
       "      <td>2.278160</td>\n",
       "      <td>2.370300</td>\n",
       "      <td>2.243970</td>\n",
       "      <td>0.707220</td>\n",
       "      <td>0.000000</td>\n",
       "      <td>0.000000</td>\n",
       "      <td>0.000000</td>\n",
       "      <td>0.000000</td>\n",
       "      <td>2.330940</td>\n",
       "    </tr>\n",
       "    <tr>\n",
       "      <th>25%</th>\n",
       "      <td>39.104980</td>\n",
       "      <td>0.000000</td>\n",
       "      <td>5.197150</td>\n",
       "      <td>45.966525</td>\n",
       "      <td>5.522740</td>\n",
       "      <td>5.567770</td>\n",
       "      <td>5.560160</td>\n",
       "      <td>4.344490</td>\n",
       "      <td>40.141510</td>\n",
       "      <td>30.777518</td>\n",
       "      <td>8.202420</td>\n",
       "      <td>5.517100</td>\n",
       "      <td>6.677130</td>\n",
       "    </tr>\n",
       "    <tr>\n",
       "      <th>50%</th>\n",
       "      <td>48.429690</td>\n",
       "      <td>1.000000</td>\n",
       "      <td>6.602370</td>\n",
       "      <td>69.283390</td>\n",
       "      <td>6.179510</td>\n",
       "      <td>6.228810</td>\n",
       "      <td>6.211510</td>\n",
       "      <td>5.254600</td>\n",
       "      <td>49.560750</td>\n",
       "      <td>59.361045</td>\n",
       "      <td>10.461270</td>\n",
       "      <td>6.849510</td>\n",
       "      <td>7.392865</td>\n",
       "    </tr>\n",
       "    <tr>\n",
       "      <th>75%</th>\n",
       "      <td>57.726030</td>\n",
       "      <td>1.000000</td>\n",
       "      <td>7.861560</td>\n",
       "      <td>93.614410</td>\n",
       "      <td>6.868990</td>\n",
       "      <td>6.900100</td>\n",
       "      <td>6.877920</td>\n",
       "      <td>6.301200</td>\n",
       "      <td>58.766980</td>\n",
       "      <td>80.739665</td>\n",
       "      <td>13.165980</td>\n",
       "      <td>7.869410</td>\n",
       "      <td>8.118615</td>\n",
       "    </tr>\n",
       "    <tr>\n",
       "      <th>max</th>\n",
       "      <td>100.000000</td>\n",
       "      <td>1.000000</td>\n",
       "      <td>12.131510</td>\n",
       "      <td>211.399600</td>\n",
       "      <td>9.707420</td>\n",
       "      <td>9.859350</td>\n",
       "      <td>9.527610</td>\n",
       "      <td>13.310770</td>\n",
       "      <td>100.000000</td>\n",
       "      <td>100.000000</td>\n",
       "      <td>100.000000</td>\n",
       "      <td>12.580070</td>\n",
       "      <td>12.383660</td>\n",
       "    </tr>\n",
       "  </tbody>\n",
       "</table>\n",
       "</div>"
      ],
      "text/plain": [
       "             er-cv    indicator    leukocyty       weight        etytr  \\\n",
       "count  9957.000000  9987.000000  9957.000000  9987.000000  9957.000000   \n",
       "mean     48.425748     0.643036     6.649040    69.606618     6.193915   \n",
       "std      13.726128     0.479128     1.566503    34.914156     0.997552   \n",
       "min       0.000000     0.000000     2.217920   -77.211600     2.278160   \n",
       "25%      39.104980     0.000000     5.197150    45.966525     5.522740   \n",
       "50%      48.429690     1.000000     6.602370    69.283390     6.179510   \n",
       "75%      57.726030     1.000000     7.861560    93.614410     6.868990   \n",
       "max     100.000000     1.000000    12.131510   211.399600     9.707420   \n",
       "\n",
       "        erytrocyty   trombocyty   hemoglobin          ast          alp  \\\n",
       "count  9957.000000  9957.000000  9957.000000  9957.000000  9956.000000   \n",
       "mean      6.236316     6.213423     5.421372    49.469559    55.509917   \n",
       "std       0.992777     0.980931     1.620002    13.796167    27.049256   \n",
       "min       2.370300     2.243970     0.707220     0.000000     0.000000   \n",
       "25%       5.567770     5.560160     4.344490    40.141510    30.777518   \n",
       "50%       6.228810     6.211510     5.254600    49.560750    59.361045   \n",
       "75%       6.900100     6.877920     6.301200    58.766980    80.739665   \n",
       "max       9.859350     9.527610    13.310770   100.000000   100.000000   \n",
       "\n",
       "               alt   hematokrit        hbver  \n",
       "count  9957.000000  9957.000000  9956.000000  \n",
       "mean     11.496663     6.633143     7.397443  \n",
       "std       5.958054     1.755006     1.149620  \n",
       "min       0.000000     0.000000     2.330940  \n",
       "25%       8.202420     5.517100     6.677130  \n",
       "50%      10.461270     6.849510     7.392865  \n",
       "75%      13.165980     7.869410     8.118615  \n",
       "max     100.000000    12.580070    12.383660  "
      ]
     },
     "execution_count": 9,
     "metadata": {},
     "output_type": "execute_result"
    }
   ],
   "source": [
    "labor.describe()"
   ]
  },
  {
   "cell_type": "code",
   "execution_count": 25,
   "id": "14b62512",
   "metadata": {},
   "outputs": [
    {
     "data": {
      "text/plain": [
       "array(['no', 'Y', 'N', 'yes'], dtype=object)"
      ]
     },
     "execution_count": 25,
     "metadata": {},
     "output_type": "execute_result"
    }
   ],
   "source": [
    "labor.smoker.unique()"
   ]
  },
  {
   "cell_type": "code",
   "execution_count": 11,
   "id": "cd1ac3d5",
   "metadata": {},
   "outputs": [
    {
     "data": {
      "text/plain": [
       "array(['single', 'divoced', 'widowed', 'married', 'separated', 'nop'],\n",
       "      dtype=object)"
      ]
     },
     "execution_count": 11,
     "metadata": {},
     "output_type": "execute_result"
    }
   ],
   "source": [
    "labor.relationship.unique()"
   ]
  },
  {
   "cell_type": "code",
   "execution_count": 12,
   "id": "29f03d58",
   "metadata": {},
   "outputs": [
    {
     "data": {
      "text/plain": [
       "sex                 3112\n",
       "job                 3112\n",
       "blood_group         3112\n",
       "name                3112\n",
       "race                3112\n",
       "address             3112\n",
       "birthdate           3112\n",
       "current_location    3112\n",
       "ssn                 3112\n",
       "dtype: int64"
      ]
     },
     "execution_count": 12,
     "metadata": {},
     "output_type": "execute_result"
    }
   ],
   "source": [
    "profiles.count()"
   ]
  },
  {
   "cell_type": "code",
   "execution_count": 13,
   "id": "5bc969fd",
   "metadata": {},
   "outputs": [
    {
     "data": {
      "text/plain": [
       "er-cv           9957\n",
       "name            9987\n",
       "indicator       9987\n",
       "leukocyty       9957\n",
       "weight          9987\n",
       "ssn             9987\n",
       "relationship    9987\n",
       "etytr           9957\n",
       "smoker          9987\n",
       "erytrocyty      9957\n",
       "trombocyty      9957\n",
       "hemoglobin      9957\n",
       "ast             9957\n",
       "alp             9956\n",
       "alt             9957\n",
       "hematokrit      9957\n",
       "hbver           9956\n",
       "dtype: int64"
      ]
     },
     "execution_count": 13,
     "metadata": {},
     "output_type": "execute_result"
    }
   ],
   "source": [
    "labor.count()"
   ]
  },
  {
   "cell_type": "code",
   "execution_count": 14,
   "id": "24f605b3",
   "metadata": {},
   "outputs": [
    {
     "data": {
      "text/plain": [
       "9987"
      ]
     },
     "execution_count": 14,
     "metadata": {},
     "output_type": "execute_result"
    }
   ],
   "source": [
    "len(labor)"
   ]
  },
  {
   "cell_type": "code",
   "execution_count": 15,
   "id": "9f318e68",
   "metadata": {},
   "outputs": [
    {
     "data": {
      "text/plain": [
       "3112"
      ]
     },
     "execution_count": 15,
     "metadata": {},
     "output_type": "execute_result"
    }
   ],
   "source": [
    "len(profiles)"
   ]
  },
  {
   "cell_type": "code",
   "execution_count": 26,
   "id": "61f9a424",
   "metadata": {},
   "outputs": [
    {
     "data": {
      "text/plain": [
       "no     5460\n",
       "yes    2039\n",
       "Y      1985\n",
       "N       503\n",
       "Name: smoker, dtype: int64"
      ]
     },
     "execution_count": 26,
     "metadata": {},
     "output_type": "execute_result"
    }
   ],
   "source": [
    "labor['smoker'].value_counts()"
   ]
  },
  {
   "cell_type": "code",
   "execution_count": 27,
   "id": "ffd18ebc",
   "metadata": {},
   "outputs": [],
   "source": [
    "labor.loc[labor['smoker'] == 'yes', 'smoker']='Y'"
   ]
  },
  {
   "cell_type": "code",
   "execution_count": 28,
   "id": "d49635f5",
   "metadata": {},
   "outputs": [],
   "source": [
    "labor.loc[labor['smoker'] == 'no', 'smoker']='N'"
   ]
  },
  {
   "cell_type": "code",
   "execution_count": 29,
   "id": "dd50a6fd",
   "metadata": {},
   "outputs": [
    {
     "data": {
      "text/plain": [
       "array(['N', 'Y'], dtype=object)"
      ]
     },
     "execution_count": 29,
     "metadata": {},
     "output_type": "execute_result"
    }
   ],
   "source": [
    "labor.smoker.unique()"
   ]
  },
  {
   "cell_type": "code",
   "execution_count": 31,
   "id": "047b1ed1",
   "metadata": {},
   "outputs": [
    {
     "data": {
      "text/plain": [
       "N    5963\n",
       "Y    4024\n",
       "Name: smoker, dtype: int64"
      ]
     },
     "execution_count": 31,
     "metadata": {},
     "output_type": "execute_result"
    }
   ],
   "source": [
    "labor['smoker'].value_counts()"
   ]
  },
  {
   "cell_type": "code",
   "execution_count": null,
   "id": "c0d6facf",
   "metadata": {},
   "outputs": [],
   "source": []
  }
 ],
 "metadata": {
  "kernelspec": {
   "display_name": "Python 3 (ipykernel)",
   "language": "python",
   "name": "python3"
  },
  "language_info": {
   "codemirror_mode": {
    "name": "ipython",
    "version": 3
   },
   "file_extension": ".py",
   "mimetype": "text/x-python",
   "name": "python",
   "nbconvert_exporter": "python",
   "pygments_lexer": "ipython3",
   "version": "3.9.2"
  }
 },
 "nbformat": 4,
 "nbformat_minor": 5
}
