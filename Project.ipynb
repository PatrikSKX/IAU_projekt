{
 "cells": [
  {
   "cell_type": "markdown",
   "id": "64169299",
   "metadata": {},
   "source": [
    "# Prvá fáza projektu IAU\n",
    "## Nemšovský, Hradský\n",
    "### Analýza dát 020\n",
    "#### Percentuálny podiel práce: Nemšovsný 50%, Hradský 50%"
   ]
  },
  {
   "cell_type": "markdown",
   "id": "e603c7b3",
   "metadata": {},
   "source": [
    "Pre začiatok je potrebné importovať potrebné knižnice"
   ]
  },
  {
   "cell_type": "code",
   "execution_count": 1,
   "id": "faa1975c",
   "metadata": {},
   "outputs": [],
   "source": [
    "import matplotlib.pyplot as plt\n",
    "import seaborn as sns\n",
    "import pandas as pd\n",
    "import numpy as np\n",
    "import scipy.stats as stats"
   ]
  },
  {
   "cell_type": "markdown",
   "id": "106fb07e",
   "metadata": {},
   "source": [
    "Následne môžeme načítavať oba súbory a pozrieť sa na ich obsah"
   ]
  },
  {
   "cell_type": "code",
   "execution_count": 2,
   "id": "087663da",
   "metadata": {},
   "outputs": [
    {
     "data": {
      "text/html": [
       "<div>\n",
       "<style scoped>\n",
       "    .dataframe tbody tr th:only-of-type {\n",
       "        vertical-align: middle;\n",
       "    }\n",
       "\n",
       "    .dataframe tbody tr th {\n",
       "        vertical-align: top;\n",
       "    }\n",
       "\n",
       "    .dataframe thead th {\n",
       "        text-align: right;\n",
       "    }\n",
       "</style>\n",
       "<table border=\"1\" class=\"dataframe\">\n",
       "  <thead>\n",
       "    <tr style=\"text-align: right;\">\n",
       "      <th></th>\n",
       "      <th>sex</th>\n",
       "      <th>job</th>\n",
       "      <th>blood_group</th>\n",
       "      <th>name</th>\n",
       "      <th>race</th>\n",
       "      <th>address</th>\n",
       "      <th>birthdate</th>\n",
       "      <th>current_location</th>\n",
       "      <th>ssn</th>\n",
       "    </tr>\n",
       "  </thead>\n",
       "  <tbody>\n",
       "    <tr>\n",
       "      <th>0</th>\n",
       "      <td>M</td>\n",
       "      <td>Secretary/administrator</td>\n",
       "      <td>O+</td>\n",
       "      <td>Colton Garcia</td>\n",
       "      <td>Hawaiian</td>\n",
       "      <td>222 Smith Shoals\\nOrtegaland, NM 25312</td>\n",
       "      <td>1990-04-02</td>\n",
       "      <td>(Decimal('81.068645'), Decimal('-61.887841'))</td>\n",
       "      <td>224-40-1972</td>\n",
       "    </tr>\n",
       "    <tr>\n",
       "      <th>1</th>\n",
       "      <td>M</td>\n",
       "      <td>Hydrogeologist</td>\n",
       "      <td>AB+</td>\n",
       "      <td>James Gray</td>\n",
       "      <td>Hawaiian</td>\n",
       "      <td>755 Graham Lake\\nValdezfurt, IN 21739</td>\n",
       "      <td>03/25/1926, 00:00:00</td>\n",
       "      <td>(Decimal('-5.4110755'), Decimal('-172.109419'))</td>\n",
       "      <td>351-11-1730</td>\n",
       "    </tr>\n",
       "    <tr>\n",
       "      <th>2</th>\n",
       "      <td>M</td>\n",
       "      <td>Tourism officer</td>\n",
       "      <td>AB-</td>\n",
       "      <td>Franklin Moore</td>\n",
       "      <td>White</td>\n",
       "      <td>42832 Patrick Island\\nEast Bradton, DE 36334</td>\n",
       "      <td>05/06/1958, 00:00:00</td>\n",
       "      <td>(Decimal('-88.540956'), Decimal('-94.396339'))</td>\n",
       "      <td>824-41-6795</td>\n",
       "    </tr>\n",
       "    <tr>\n",
       "      <th>3</th>\n",
       "      <td>F</td>\n",
       "      <td>Social worker</td>\n",
       "      <td>A+</td>\n",
       "      <td>Jennifer Anderson</td>\n",
       "      <td>White</td>\n",
       "      <td>Unit 8158 Box 0225\\nDPO AP 69059</td>\n",
       "      <td>1908-06-07</td>\n",
       "      <td>(Decimal('85.9643255'), Decimal('-165.105180'))</td>\n",
       "      <td>077-59-6064</td>\n",
       "    </tr>\n",
       "    <tr>\n",
       "      <th>4</th>\n",
       "      <td>F</td>\n",
       "      <td>Naval architect</td>\n",
       "      <td>A+</td>\n",
       "      <td>Carrie Wilson</td>\n",
       "      <td>Black</td>\n",
       "      <td>0994 Daniel Park Apt. 137\\nWest Melinda, KS 34770</td>\n",
       "      <td>13 Jan 1974</td>\n",
       "      <td>(Decimal('-27.169289'), Decimal('96.479444'))</td>\n",
       "      <td>004-15-9553</td>\n",
       "    </tr>\n",
       "  </tbody>\n",
       "</table>\n",
       "</div>"
      ],
      "text/plain": [
       "  sex                      job blood_group               name      race  \\\n",
       "0   M  Secretary/administrator          O+      Colton Garcia  Hawaiian   \n",
       "1   M           Hydrogeologist         AB+         James Gray  Hawaiian   \n",
       "2   M          Tourism officer         AB-     Franklin Moore     White   \n",
       "3   F            Social worker          A+  Jennifer Anderson     White   \n",
       "4   F          Naval architect          A+      Carrie Wilson     Black   \n",
       "\n",
       "                                             address             birthdate  \\\n",
       "0             222 Smith Shoals\\nOrtegaland, NM 25312            1990-04-02   \n",
       "1              755 Graham Lake\\nValdezfurt, IN 21739  03/25/1926, 00:00:00   \n",
       "2       42832 Patrick Island\\nEast Bradton, DE 36334  05/06/1958, 00:00:00   \n",
       "3                   Unit 8158 Box 0225\\nDPO AP 69059            1908-06-07   \n",
       "4  0994 Daniel Park Apt. 137\\nWest Melinda, KS 34770           13 Jan 1974   \n",
       "\n",
       "                                  current_location          ssn  \n",
       "0    (Decimal('81.068645'), Decimal('-61.887841'))  224-40-1972  \n",
       "1  (Decimal('-5.4110755'), Decimal('-172.109419'))  351-11-1730  \n",
       "2   (Decimal('-88.540956'), Decimal('-94.396339'))  824-41-6795  \n",
       "3  (Decimal('85.9643255'), Decimal('-165.105180'))  077-59-6064  \n",
       "4    (Decimal('-27.169289'), Decimal('96.479444'))  004-15-9553  "
      ]
     },
     "execution_count": 2,
     "metadata": {},
     "output_type": "execute_result"
    }
   ],
   "source": [
    "filename = \"020/profiles.csv\"\n",
    "profiles = pd.read_csv(filename, sep='\\t', index_col=0)\n",
    "profiles.head()"
   ]
  },
  {
   "cell_type": "code",
   "execution_count": 3,
   "id": "270ad90e",
   "metadata": {},
   "outputs": [
    {
     "data": {
      "text/html": [
       "<div>\n",
       "<style scoped>\n",
       "    .dataframe tbody tr th:only-of-type {\n",
       "        vertical-align: middle;\n",
       "    }\n",
       "\n",
       "    .dataframe tbody tr th {\n",
       "        vertical-align: top;\n",
       "    }\n",
       "\n",
       "    .dataframe thead th {\n",
       "        text-align: right;\n",
       "    }\n",
       "</style>\n",
       "<table border=\"1\" class=\"dataframe\">\n",
       "  <thead>\n",
       "    <tr style=\"text-align: right;\">\n",
       "      <th></th>\n",
       "      <th>er-cv</th>\n",
       "      <th>name</th>\n",
       "      <th>indicator</th>\n",
       "      <th>leukocyty</th>\n",
       "      <th>weight</th>\n",
       "      <th>ssn</th>\n",
       "      <th>relationship</th>\n",
       "      <th>etytr</th>\n",
       "      <th>smoker</th>\n",
       "      <th>erytrocyty</th>\n",
       "      <th>trombocyty</th>\n",
       "      <th>hemoglobin</th>\n",
       "      <th>ast</th>\n",
       "      <th>alp</th>\n",
       "      <th>alt</th>\n",
       "      <th>hematokrit</th>\n",
       "      <th>hbver</th>\n",
       "    </tr>\n",
       "  </thead>\n",
       "  <tbody>\n",
       "    <tr>\n",
       "      <th>0</th>\n",
       "      <td>43.09887</td>\n",
       "      <td>Devin Diaz</td>\n",
       "      <td>1.0</td>\n",
       "      <td>4.47526</td>\n",
       "      <td>65.57593</td>\n",
       "      <td>597-97-9078</td>\n",
       "      <td>single</td>\n",
       "      <td>5.96219</td>\n",
       "      <td>no</td>\n",
       "      <td>6.20665</td>\n",
       "      <td>5.71427</td>\n",
       "      <td>5.06667</td>\n",
       "      <td>57.92930</td>\n",
       "      <td>57.60257</td>\n",
       "      <td>5.12934</td>\n",
       "      <td>7.11081</td>\n",
       "      <td>6.32708</td>\n",
       "    </tr>\n",
       "    <tr>\n",
       "      <th>1</th>\n",
       "      <td>32.51734</td>\n",
       "      <td>Theodore Morris</td>\n",
       "      <td>1.0</td>\n",
       "      <td>4.41339</td>\n",
       "      <td>58.47779</td>\n",
       "      <td>100-19-5038</td>\n",
       "      <td>divoced</td>\n",
       "      <td>5.44840</td>\n",
       "      <td>no</td>\n",
       "      <td>5.58217</td>\n",
       "      <td>6.29619</td>\n",
       "      <td>6.90945</td>\n",
       "      <td>61.47846</td>\n",
       "      <td>83.38342</td>\n",
       "      <td>10.59365</td>\n",
       "      <td>8.52324</td>\n",
       "      <td>9.06429</td>\n",
       "    </tr>\n",
       "    <tr>\n",
       "      <th>2</th>\n",
       "      <td>54.39106</td>\n",
       "      <td>Ashley Mccormick</td>\n",
       "      <td>1.0</td>\n",
       "      <td>4.71119</td>\n",
       "      <td>37.58396</td>\n",
       "      <td>241-30-2551</td>\n",
       "      <td>widowed</td>\n",
       "      <td>6.75478</td>\n",
       "      <td>Y</td>\n",
       "      <td>6.36030</td>\n",
       "      <td>6.67129</td>\n",
       "      <td>4.08668</td>\n",
       "      <td>59.37033</td>\n",
       "      <td>31.60935</td>\n",
       "      <td>10.72644</td>\n",
       "      <td>8.41874</td>\n",
       "      <td>7.11435</td>\n",
       "    </tr>\n",
       "    <tr>\n",
       "      <th>3</th>\n",
       "      <td>45.79943</td>\n",
       "      <td>Brent Howard</td>\n",
       "      <td>1.0</td>\n",
       "      <td>5.38079</td>\n",
       "      <td>88.06628</td>\n",
       "      <td>667-52-4116</td>\n",
       "      <td>married</td>\n",
       "      <td>6.33099</td>\n",
       "      <td>no</td>\n",
       "      <td>5.45784</td>\n",
       "      <td>6.24957</td>\n",
       "      <td>5.57164</td>\n",
       "      <td>50.31551</td>\n",
       "      <td>75.29715</td>\n",
       "      <td>9.26557</td>\n",
       "      <td>4.69702</td>\n",
       "      <td>7.00724</td>\n",
       "    </tr>\n",
       "    <tr>\n",
       "      <th>4</th>\n",
       "      <td>48.81261</td>\n",
       "      <td>Paul Jordan</td>\n",
       "      <td>0.0</td>\n",
       "      <td>4.72469</td>\n",
       "      <td>44.59816</td>\n",
       "      <td>368-59-5827</td>\n",
       "      <td>divoced</td>\n",
       "      <td>6.62153</td>\n",
       "      <td>no</td>\n",
       "      <td>6.36262</td>\n",
       "      <td>6.44608</td>\n",
       "      <td>6.49617</td>\n",
       "      <td>50.44424</td>\n",
       "      <td>84.90135</td>\n",
       "      <td>9.31196</td>\n",
       "      <td>6.31221</td>\n",
       "      <td>8.54503</td>\n",
       "    </tr>\n",
       "  </tbody>\n",
       "</table>\n",
       "</div>"
      ],
      "text/plain": [
       "      er-cv              name  indicator  leukocyty    weight          ssn  \\\n",
       "0  43.09887        Devin Diaz        1.0    4.47526  65.57593  597-97-9078   \n",
       "1  32.51734   Theodore Morris        1.0    4.41339  58.47779  100-19-5038   \n",
       "2  54.39106  Ashley Mccormick        1.0    4.71119  37.58396  241-30-2551   \n",
       "3  45.79943      Brent Howard        1.0    5.38079  88.06628  667-52-4116   \n",
       "4  48.81261       Paul Jordan        0.0    4.72469  44.59816  368-59-5827   \n",
       "\n",
       "  relationship    etytr smoker  erytrocyty  trombocyty  hemoglobin       ast  \\\n",
       "0       single  5.96219     no     6.20665     5.71427     5.06667  57.92930   \n",
       "1      divoced  5.44840     no     5.58217     6.29619     6.90945  61.47846   \n",
       "2      widowed  6.75478      Y     6.36030     6.67129     4.08668  59.37033   \n",
       "3      married  6.33099     no     5.45784     6.24957     5.57164  50.31551   \n",
       "4      divoced  6.62153     no     6.36262     6.44608     6.49617  50.44424   \n",
       "\n",
       "        alp       alt  hematokrit    hbver  \n",
       "0  57.60257   5.12934     7.11081  6.32708  \n",
       "1  83.38342  10.59365     8.52324  9.06429  \n",
       "2  31.60935  10.72644     8.41874  7.11435  \n",
       "3  75.29715   9.26557     4.69702  7.00724  \n",
       "4  84.90135   9.31196     6.31221  8.54503  "
      ]
     },
     "execution_count": 3,
     "metadata": {},
     "output_type": "execute_result"
    }
   ],
   "source": [
    "filename2 = \"020/labor.csv\"\n",
    "labor = pd.read_csv(filename2, sep='\\t', index_col=0)\n",
    "labor.head()"
   ]
  },
  {
   "cell_type": "markdown",
   "id": "c7a470f3",
   "metadata": {},
   "source": [
    "# Základný opis dát a ich charakteristika"
   ]
  },
  {
   "cell_type": "markdown",
   "id": "b1b4fc9e",
   "metadata": {},
   "source": [
    "## Analýza dát framu profiles"
   ]
  },
  {
   "cell_type": "code",
   "execution_count": 4,
   "id": "4a8c78fb",
   "metadata": {},
   "outputs": [
    {
     "data": {
      "text/plain": [
       "(3112, 9)"
      ]
     },
     "execution_count": 4,
     "metadata": {},
     "output_type": "execute_result"
    }
   ],
   "source": [
    "profiles.shape"
   ]
  },
  {
   "cell_type": "markdown",
   "id": "1a20a8b4",
   "metadata": {},
   "source": [
    "Profiles obsahuje 3112 záznamov s 9 atribútami"
   ]
  },
  {
   "cell_type": "code",
   "execution_count": 5,
   "id": "5d9371da",
   "metadata": {},
   "outputs": [
    {
     "name": "stdout",
     "output_type": "stream",
     "text": [
      "<class 'pandas.core.frame.DataFrame'>\n",
      "Int64Index: 3112 entries, 0 to 3111\n",
      "Data columns (total 9 columns):\n",
      " #   Column            Non-Null Count  Dtype \n",
      "---  ------            --------------  ----- \n",
      " 0   sex               3112 non-null   object\n",
      " 1   job               3112 non-null   object\n",
      " 2   blood_group       3112 non-null   object\n",
      " 3   name              3112 non-null   object\n",
      " 4   race              3112 non-null   object\n",
      " 5   address           3112 non-null   object\n",
      " 6   birthdate         3112 non-null   object\n",
      " 7   current_location  3112 non-null   object\n",
      " 8   ssn               3112 non-null   object\n",
      "dtypes: object(9)\n",
      "memory usage: 243.1+ KB\n"
     ]
    }
   ],
   "source": [
    "profiles.info()"
   ]
  },
  {
   "cell_type": "markdown",
   "id": "f574d82a",
   "metadata": {},
   "source": [
    "## Popis stĺpcov\n",
    "- sex -> pohlavie (M/F)\n",
    "- job -> profesia\n",
    "- blood_group -> krvná skupina\n",
    "- name -> meno pacienta\n",
    "- race -> rasa \n",
    "- address -> adresa pacienta\n",
    "- birthdate -> dátum narodenia\n",
    "- current_location -> momentálna lokácia (súradnice -> tuple)\n",
    "- ssn -> Social Secure Number (Niečo ako číslo občianského)"
   ]
  },
  {
   "cell_type": "code",
   "execution_count": 6,
   "id": "2c840c61",
   "metadata": {},
   "outputs": [
    {
     "data": {
      "text/plain": [
       "array(['O+', 'AB+', 'AB-', 'A+', 'B-', 'O-', 'B+', 'A-'], dtype=object)"
      ]
     },
     "execution_count": 6,
     "metadata": {},
     "output_type": "execute_result"
    }
   ],
   "source": [
    "profiles.blood_group.unique()"
   ]
  },
  {
   "cell_type": "markdown",
   "id": "ba2aee50",
   "metadata": {},
   "source": [
    "Podľa očakávaní obsahuje len hodnoty krvných skupín (0+, 0-, AB+, AB-, A+, A-, B+, B-)"
   ]
  },
  {
   "cell_type": "code",
   "execution_count": 7,
   "id": "e1a7a091",
   "metadata": {},
   "outputs": [
    {
     "data": {
      "text/plain": [
       "<AxesSubplot:xlabel='blood_group', ylabel='Count'>"
      ]
     },
     "execution_count": 7,
     "metadata": {},
     "output_type": "execute_result"
    },
    {
     "data": {
      "image/png": "[encoded data removed]",
      "text/plain": [
       "<Figure size 432x288 with 1 Axes>"
      ]
     },
     "metadata": {
      "needs_background": "light"
     },
     "output_type": "display_data"
    }
   ],
   "source": [
    "sns.histplot(data = profiles.blood_group)"
   ]
  },
  {
   "cell_type": "markdown",
   "id": "2e243d82",
   "metadata": {},
   "source": [
    "Na grafe môžme vidieť počty ľudí pre každú krvnú skupinu"
   ]
  },
  {
   "cell_type": "code",
   "execution_count": 8,
   "id": "bf4921ee",
   "metadata": {},
   "outputs": [
    {
     "data": {
      "text/plain": [
       "array(['Hawaiian', 'White', 'Black', 'Asian', 'Indian', 'black', 'blsck',\n",
       "       'white'], dtype=object)"
      ]
     },
     "execution_count": 8,
     "metadata": {},
     "output_type": "execute_result"
    }
   ],
   "source": [
    "profiles.race.unique()"
   ]
  },
  {
   "cell_type": "markdown",
   "id": "41d14df4",
   "metadata": {},
   "source": [
    "Okrem očakávaných hodnôt (Hawaiian, White, Black, Asian, Indian) sa tu nachádzajú aj hodnoty s chybným zápisom (black, blsck, white)ktorých sa neskôr zbavíme."
   ]
  },
  {
   "cell_type": "markdown",
   "id": "d982f7ea",
   "metadata": {},
   "source": [
    "## Analýza dát framu labor"
   ]
  },
  {
   "cell_type": "code",
   "execution_count": 9,
   "id": "324c31ea",
   "metadata": {},
   "outputs": [
    {
     "data": {
      "text/plain": [
       "(9987, 17)"
      ]
     },
     "execution_count": 9,
     "metadata": {},
     "output_type": "execute_result"
    }
   ],
   "source": [
    "labor.shape"
   ]
  },
  {
   "cell_type": "markdown",
   "id": "0aded1c6",
   "metadata": {},
   "source": [
    "Labor obsahuje 9987 záznamov so 17 atribútami"
   ]
  },
  {
   "cell_type": "code",
   "execution_count": 10,
   "id": "7fda73e1",
   "metadata": {},
   "outputs": [
    {
     "name": "stdout",
     "output_type": "stream",
     "text": [
      "<class 'pandas.core.frame.DataFrame'>\n",
      "Int64Index: 9987 entries, 0 to 9986\n",
      "Data columns (total 17 columns):\n",
      " #   Column        Non-Null Count  Dtype  \n",
      "---  ------        --------------  -----  \n",
      " 0   er-cv         9957 non-null   float64\n",
      " 1   name          9987 non-null   object \n",
      " 2   indicator     9987 non-null   float64\n",
      " 3   leukocyty     9957 non-null   float64\n",
      " 4   weight        9987 non-null   float64\n",
      " 5   ssn           9987 non-null   object \n",
      " 6   relationship  9987 non-null   object \n",
      " 7   etytr         9957 non-null   float64\n",
      " 8   smoker        9987 non-null   object \n",
      " 9   erytrocyty    9957 non-null   float64\n",
      " 10  trombocyty    9957 non-null   float64\n",
      " 11  hemoglobin    9957 non-null   float64\n",
      " 12  ast           9957 non-null   float64\n",
      " 13  alp           9956 non-null   float64\n",
      " 14  alt           9957 non-null   float64\n",
      " 15  hematokrit    9957 non-null   float64\n",
      " 16  hbver         9956 non-null   float64\n",
      "dtypes: float64(13), object(4)\n",
      "memory usage: 1.4+ MB\n"
     ]
    }
   ],
   "source": [
    "labor.info()"
   ]
  },
  {
   "cell_type": "markdown",
   "id": "3dfb6766",
   "metadata": {},
   "source": [
    "## Popis stĺpcov\n",
    "- er-cv -> ?estimated red cell volume?\n",
    "- name -> meno pacienta\n",
    "- indicator -> bool (0, 1), indikátor či má človek leukémiu\n",
    "- leukocyty -> biele krvinky\n",
    "- weight -> váha pacienta\n",
    "- ssn -> Social Secure Number (Niečo ako číslo občianského)\n",
    "- relationship -> rodinný stav (single, divorced, widowed, married, separated, nop - bude asi nieco co nepatri ani medzi jedno idk)\n",
    "- etytr -> ?netusim?\n",
    "- smoker -> fajčiar\n",
    "- erytrocity -> červené krvinky\n",
    "- trombocyty -> krvné doštičky\n",
    "- hemoglobin -> červené farbivo v krvi\n",
    "- ast -> Aspartátaminotransferáza (pečeňové enzýmy)\n",
    "- alp -> Alkalická fosfatáza (pečeňové enzýmy)\n",
    "- alt -> Alaninaminotransferáza (pečeňové enzýmy)\n",
    "- hematokrit -> pomer medzi objemom bunkovej časti krvi (teda najmä erytrocytov) a objemom celej krvi.\n",
    "- hbver -> ??"
   ]
  },
  {
   "cell_type": "markdown",
   "id": "e3e17cb2",
   "metadata": {},
   "source": [
    "Číselne atribúty vieme jednocuho analizovať za pomoci describe"
   ]
  },
  {
   "cell_type": "code",
   "execution_count": 11,
   "id": "d748493e",
   "metadata": {
    "scrolled": true
   },
   "outputs": [
    {
     "data": {
      "text/html": [
       "<div>\n",
       "<style scoped>\n",
       "    .dataframe tbody tr th:only-of-type {\n",
       "        vertical-align: middle;\n",
       "    }\n",
       "\n",
       "    .dataframe tbody tr th {\n",
       "        vertical-align: top;\n",
       "    }\n",
       "\n",
       "    .dataframe thead th {\n",
       "        text-align: right;\n",
       "    }\n",
       "</style>\n",
       "<table border=\"1\" class=\"dataframe\">\n",
       "  <thead>\n",
       "    <tr style=\"text-align: right;\">\n",
       "      <th></th>\n",
       "      <th>er-cv</th>\n",
       "      <th>indicator</th>\n",
       "      <th>leukocyty</th>\n",
       "      <th>weight</th>\n",
       "      <th>etytr</th>\n",
       "      <th>erytrocyty</th>\n",
       "      <th>trombocyty</th>\n",
       "      <th>hemoglobin</th>\n",
       "      <th>ast</th>\n",
       "      <th>alp</th>\n",
       "      <th>alt</th>\n",
       "      <th>hematokrit</th>\n",
       "      <th>hbver</th>\n",
       "    </tr>\n",
       "  </thead>\n",
       "  <tbody>\n",
       "    <tr>\n",
       "      <th>count</th>\n",
       "      <td>9957.000000</td>\n",
       "      <td>9987.000000</td>\n",
       "      <td>9957.000000</td>\n",
       "      <td>9987.000000</td>\n",
       "      <td>9957.000000</td>\n",
       "      <td>9957.000000</td>\n",
       "      <td>9957.000000</td>\n",
       "      <td>9957.000000</td>\n",
       "      <td>9957.000000</td>\n",
       "      <td>9956.000000</td>\n",
       "      <td>9957.000000</td>\n",
       "      <td>9957.000000</td>\n",
       "      <td>9956.000000</td>\n",
       "    </tr>\n",
       "    <tr>\n",
       "      <th>mean</th>\n",
       "      <td>48.425748</td>\n",
       "      <td>0.643036</td>\n",
       "      <td>6.649040</td>\n",
       "      <td>69.606618</td>\n",
       "      <td>6.193915</td>\n",
       "      <td>6.236316</td>\n",
       "      <td>6.213423</td>\n",
       "      <td>5.421372</td>\n",
       "      <td>49.469559</td>\n",
       "      <td>55.509917</td>\n",
       "      <td>11.496663</td>\n",
       "      <td>6.633143</td>\n",
       "      <td>7.397443</td>\n",
       "    </tr>\n",
       "    <tr>\n",
       "      <th>std</th>\n",
       "      <td>13.726128</td>\n",
       "      <td>0.479128</td>\n",
       "      <td>1.566503</td>\n",
       "      <td>34.914156</td>\n",
       "      <td>0.997552</td>\n",
       "      <td>0.992777</td>\n",
       "      <td>0.980931</td>\n",
       "      <td>1.620002</td>\n",
       "      <td>13.796167</td>\n",
       "      <td>27.049256</td>\n",
       "      <td>5.958054</td>\n",
       "      <td>1.755006</td>\n",
       "      <td>1.149620</td>\n",
       "    </tr>\n",
       "    <tr>\n",
       "      <th>min</th>\n",
       "      <td>0.000000</td>\n",
       "      <td>0.000000</td>\n",
       "      <td>2.217920</td>\n",
       "      <td>-77.211600</td>\n",
       "      <td>2.278160</td>\n",
       "      <td>2.370300</td>\n",
       "      <td>2.243970</td>\n",
       "      <td>0.707220</td>\n",
       "      <td>0.000000</td>\n",
       "      <td>0.000000</td>\n",
       "      <td>0.000000</td>\n",
       "      <td>0.000000</td>\n",
       "      <td>2.330940</td>\n",
       "    </tr>\n",
       "    <tr>\n",
       "      <th>25%</th>\n",
       "      <td>39.104980</td>\n",
       "      <td>0.000000</td>\n",
       "      <td>5.197150</td>\n",
       "      <td>45.966525</td>\n",
       "      <td>5.522740</td>\n",
       "      <td>5.567770</td>\n",
       "      <td>5.560160</td>\n",
       "      <td>4.344490</td>\n",
       "      <td>40.141510</td>\n",
       "      <td>30.777518</td>\n",
       "      <td>8.202420</td>\n",
       "      <td>5.517100</td>\n",
       "      <td>6.677130</td>\n",
       "    </tr>\n",
       "    <tr>\n",
       "      <th>50%</th>\n",
       "      <td>48.429690</td>\n",
       "      <td>1.000000</td>\n",
       "      <td>6.602370</td>\n",
       "      <td>69.283390</td>\n",
       "      <td>6.179510</td>\n",
       "      <td>6.228810</td>\n",
       "      <td>6.211510</td>\n",
       "      <td>5.254600</td>\n",
       "      <td>49.560750</td>\n",
       "      <td>59.361045</td>\n",
       "      <td>10.461270</td>\n",
       "      <td>6.849510</td>\n",
       "      <td>7.392865</td>\n",
       "    </tr>\n",
       "    <tr>\n",
       "      <th>75%</th>\n",
       "      <td>57.726030</td>\n",
       "      <td>1.000000</td>\n",
       "      <td>7.861560</td>\n",
       "      <td>93.614410</td>\n",
       "      <td>6.868990</td>\n",
       "      <td>6.900100</td>\n",
       "      <td>6.877920</td>\n",
       "      <td>6.301200</td>\n",
       "      <td>58.766980</td>\n",
       "      <td>80.739665</td>\n",
       "      <td>13.165980</td>\n",
       "      <td>7.869410</td>\n",
       "      <td>8.118615</td>\n",
       "    </tr>\n",
       "    <tr>\n",
       "      <th>max</th>\n",
       "      <td>100.000000</td>\n",
       "      <td>1.000000</td>\n",
       "      <td>12.131510</td>\n",
       "      <td>211.399600</td>\n",
       "      <td>9.707420</td>\n",
       "      <td>9.859350</td>\n",
       "      <td>9.527610</td>\n",
       "      <td>13.310770</td>\n",
       "      <td>100.000000</td>\n",
       "      <td>100.000000</td>\n",
       "      <td>100.000000</td>\n",
       "      <td>12.580070</td>\n",
       "      <td>12.383660</td>\n",
       "    </tr>\n",
       "  </tbody>\n",
       "</table>\n",
       "</div>"
      ],
      "text/plain": [
       "             er-cv    indicator    leukocyty       weight        etytr  \\\n",
       "count  9957.000000  9987.000000  9957.000000  9987.000000  9957.000000   \n",
       "mean     48.425748     0.643036     6.649040    69.606618     6.193915   \n",
       "std      13.726128     0.479128     1.566503    34.914156     0.997552   \n",
       "min       0.000000     0.000000     2.217920   -77.211600     2.278160   \n",
       "25%      39.104980     0.000000     5.197150    45.966525     5.522740   \n",
       "50%      48.429690     1.000000     6.602370    69.283390     6.179510   \n",
       "75%      57.726030     1.000000     7.861560    93.614410     6.868990   \n",
       "max     100.000000     1.000000    12.131510   211.399600     9.707420   \n",
       "\n",
       "        erytrocyty   trombocyty   hemoglobin          ast          alp  \\\n",
       "count  9957.000000  9957.000000  9957.000000  9957.000000  9956.000000   \n",
       "mean      6.236316     6.213423     5.421372    49.469559    55.509917   \n",
       "std       0.992777     0.980931     1.620002    13.796167    27.049256   \n",
       "min       2.370300     2.243970     0.707220     0.000000     0.000000   \n",
       "25%       5.567770     5.560160     4.344490    40.141510    30.777518   \n",
       "50%       6.228810     6.211510     5.254600    49.560750    59.361045   \n",
       "75%       6.900100     6.877920     6.301200    58.766980    80.739665   \n",
       "max       9.859350     9.527610    13.310770   100.000000   100.000000   \n",
       "\n",
       "               alt   hematokrit        hbver  \n",
       "count  9957.000000  9957.000000  9956.000000  \n",
       "mean     11.496663     6.633143     7.397443  \n",
       "std       5.958054     1.755006     1.149620  \n",
       "min       0.000000     0.000000     2.330940  \n",
       "25%       8.202420     5.517100     6.677130  \n",
       "50%      10.461270     6.849510     7.392865  \n",
       "75%      13.165980     7.869410     8.118615  \n",
       "max     100.000000    12.580070    12.383660  "
      ]
     },
     "execution_count": 11,
     "metadata": {},
     "output_type": "execute_result"
    }
   ],
   "source": [
    "labor.describe()"
   ]
  },
  {
   "cell_type": "markdown",
   "id": "5c6a79a2",
   "metadata": {},
   "source": [
    "Okrem základnej analýzy vidíme aj chybné údaje v kategórií weight, ktorá nemá dôvod obsahovať mínusové hodnoty"
   ]
  },
  {
   "cell_type": "markdown",
   "id": "f521da19",
   "metadata": {},
   "source": [
    "Pre analízu nečíselných vieme znova použit veci ako unique."
   ]
  },
  {
   "cell_type": "code",
   "execution_count": 12,
   "id": "14b62512",
   "metadata": {},
   "outputs": [
    {
     "data": {
      "text/plain": [
       "array(['no', 'Y', 'N', 'yes'], dtype=object)"
      ]
     },
     "execution_count": 12,
     "metadata": {},
     "output_type": "execute_result"
    }
   ],
   "source": [
    "labor.smoker.unique()"
   ]
  },
  {
   "cell_type": "markdown",
   "id": "e4fc99d8",
   "metadata": {},
   "source": [
    "Smoker znova obsahuje duplicitne pomenovania ktoré budú neskôr odstránené."
   ]
  },
  {
   "cell_type": "code",
   "execution_count": 13,
   "id": "cd1ac3d5",
   "metadata": {},
   "outputs": [
    {
     "data": {
      "text/plain": [
       "array(['single', 'divoced', 'widowed', 'married', 'separated', 'nop'],\n",
       "      dtype=object)"
      ]
     },
     "execution_count": 13,
     "metadata": {},
     "output_type": "execute_result"
    }
   ],
   "source": [
    "labor.relationship.unique()"
   ]
  },
  {
   "cell_type": "markdown",
   "id": "68bc4a1c",
   "metadata": {},
   "source": [
    "## Grafové spracovanie zloženia krvy"
   ]
  },
  {
   "cell_type": "code",
   "execution_count": 14,
   "id": "ed8b4386",
   "metadata": {},
   "outputs": [
    {
     "data": {
      "text/plain": [
       "<AxesSubplot:xlabel='leukocyty', ylabel='Count'>"
      ]
     },
     "execution_count": 14,
     "metadata": {},
     "output_type": "execute_result"
    },
    {
     "data": {
      "image/png": "[encoded data removed]",
      "text/plain": [
       "<Figure size 432x288 with 1 Axes>"
      ]
     },
     "metadata": {
      "needs_background": "light"
     },
     "output_type": "display_data"
    }
   ],
   "source": [
    "sns.histplot(data=labor.leukocyty)"
   ]
  },
  {
   "cell_type": "markdown",
   "id": "86b07866",
   "metadata": {},
   "source": [
    "Z grafu vieme prečítať, že najviac ľudí sa pri počte leukocitov pohybuje v oblasti od 4,5 do 5,5"
   ]
  },
  {
   "cell_type": "code",
   "execution_count": 15,
   "id": "9a9e3e22",
   "metadata": {},
   "outputs": [
    {
     "data": {
      "text/plain": [
       "<AxesSubplot:>"
      ]
     },
     "execution_count": 15,
     "metadata": {},
     "output_type": "execute_result"
    },
    {
     "data": {
      "image/png": "[encoded data removed]",
      "text/plain": [
       "<Figure size 432x288 with 1 Axes>"
      ]
     },
     "metadata": {
      "needs_background": "light"
     },
     "output_type": "display_data"
    }
   ],
   "source": [
    "sns.boxplot(data=labor.erytrocyty)"
   ]
  },
  {
   "cell_type": "code",
   "execution_count": 16,
   "id": "ce2b25a4",
   "metadata": {},
   "outputs": [
    {
     "data": {
      "text/plain": [
       "<AxesSubplot:>"
      ]
     },
     "execution_count": 16,
     "metadata": {},
     "output_type": "execute_result"
    },
    {
     "data": {
      "image/png": "[encoded data removed]",
      "text/plain": [
       "<Figure size 432x288 with 1 Axes>"
      ]
     },
     "metadata": {
      "needs_background": "light"
     },
     "output_type": "display_data"
    }
   ],
   "source": [
    "sns.boxplot(data=labor.trombocyty)"
   ]
  },
  {
   "cell_type": "code",
   "execution_count": 17,
   "id": "43c5bba3",
   "metadata": {},
   "outputs": [
    {
     "data": {
      "text/plain": [
       "<AxesSubplot:>"
      ]
     },
     "execution_count": 17,
     "metadata": {},
     "output_type": "execute_result"
    },
    {
     "data": {
      "image/png": "[encoded data removed]",
      "text/plain": [
       "<Figure size 432x288 with 1 Axes>"
      ]
     },
     "metadata": {
      "needs_background": "light"
     },
     "output_type": "display_data"
    }
   ],
   "source": [
    "sns.boxplot(data=labor.hemoglobin)"
   ]
  },
  {
   "cell_type": "markdown",
   "id": "84a6d2e8",
   "metadata": {},
   "source": [
    "Na všetkých grafoch vidíme, že väčšina údajov je tesne pri sebe "
   ]
  },
  {
   "cell_type": "markdown",
   "id": "b0465534",
   "metadata": {},
   "source": [
    "## Grafové spracovanie pečeňových enzýmov"
   ]
  },
  {
   "cell_type": "code",
   "execution_count": 18,
   "id": "42b4d1d3",
   "metadata": {},
   "outputs": [
    {
     "data": {
      "text/plain": [
       "<AxesSubplot:xlabel='alp', ylabel='Count'>"
      ]
     },
     "execution_count": 18,
     "metadata": {},
     "output_type": "execute_result"
    },
    {
     "data": {
      "image/png": "[encoded data removed]",
      "text/plain": [
       "<Figure size 432x288 with 1 Axes>"
      ]
     },
     "metadata": {
      "needs_background": "light"
     },
     "output_type": "display_data"
    }
   ],
   "source": [
    "sns.histplot(data=labor.alp)"
   ]
  },
  {
   "cell_type": "code",
   "execution_count": 19,
   "id": "11a29d5e",
   "metadata": {},
   "outputs": [
    {
     "data": {
      "text/plain": [
       "<AxesSubplot:>"
      ]
     },
     "execution_count": 19,
     "metadata": {},
     "output_type": "execute_result"
    },
    {
     "data": {
      "image/png": "[encoded data removed]",
      "text/plain": [
       "<Figure size 432x288 with 1 Axes>"
      ]
     },
     "metadata": {
      "needs_background": "light"
     },
     "output_type": "display_data"
    }
   ],
   "source": [
    "sns.boxplot(data=labor.ast)"
   ]
  },
  {
   "cell_type": "code",
   "execution_count": 20,
   "id": "f6e42634",
   "metadata": {
    "scrolled": true
   },
   "outputs": [
    {
     "data": {
      "text/plain": [
       "<AxesSubplot:>"
      ]
     },
     "execution_count": 20,
     "metadata": {},
     "output_type": "execute_result"
    },
    {
     "data": {
      "image/png": "[encoded data removed]",
      "text/plain": [
       "<Figure size 432x288 with 1 Axes>"
      ]
     },
     "metadata": {
      "needs_background": "light"
     },
     "output_type": "display_data"
    }
   ],
   "source": [
    "sns.boxplot(data=labor.alt)"
   ]
  },
  {
   "cell_type": "markdown",
   "id": "dab2fe48",
   "metadata": {},
   "source": [
    "Na grafoch vidíme že alp má vyrovnané pokrytie, a ast,alt majú údaje zoskupené"
   ]
  },
  {
   "cell_type": "markdown",
   "id": "a2bb971c",
   "metadata": {},
   "source": [
    "## Párová analýza dát\n",
    "V 2 časti sa pozrieme na vsťahy a závislosti jednotlivých atribútov"
   ]
  },
  {
   "cell_type": "code",
   "execution_count": 21,
   "id": "ebf87ba5",
   "metadata": {},
   "outputs": [
    {
     "data": {
      "text/plain": [
       "<AxesSubplot:>"
      ]
     },
     "execution_count": 21,
     "metadata": {},
     "output_type": "execute_result"
    },
    {
     "data": {
      "image/png": "[encoded data removed]",
      "text/plain": [
       "<Figure size 720x576 with 2 Axes>"
      ]
     },
     "metadata": {
      "needs_background": "light"
     },
     "output_type": "display_data"
    }
   ],
   "source": [
    "fig, ax = plt.subplots(figsize=(10,8))\n",
    "sns.heatmap(labor.corr(), ax=ax, annot=True, fmt=\".3f\")"
   ]
  },
  {
   "cell_type": "markdown",
   "id": "7e8e9b72",
   "metadata": {},
   "source": [
    "Na heatmape korelácie vidíme, že väčšina atribútov žiadnu koreláciu (kladnú ani zápornú) nemá, ďalej sa budeme sústrediť iba na korelácie s hodnotou viac ako 0,3 resp menej ako -0,3"
   ]
  },
  {
   "cell_type": "markdown",
   "id": "32bab0e5",
   "metadata": {},
   "source": [
    "### Erytrocyty a alt, korelácia 0,7"
   ]
  },
  {
   "cell_type": "code",
   "execution_count": 22,
   "id": "0948f6d2",
   "metadata": {},
   "outputs": [
    {
     "data": {
      "text/plain": [
       "<AxesSubplot:xlabel='alt', ylabel='erytrocyty'>"
      ]
     },
     "execution_count": 22,
     "metadata": {},
     "output_type": "execute_result"
    },
    {
     "data": {
      "image/png": "[encoded data removed]",
      "text/plain": [
       "<Figure size 432x288 with 1 Axes>"
      ]
     },
     "metadata": {
      "needs_background": "light"
     },
     "output_type": "display_data"
    }
   ],
   "source": [
    "sns.scatterplot(\n",
    "    data=labor,\n",
    "    x=labor.alt,\n",
    "    y=labor.erytrocyty,\n",
    "    hue=labor.indicator\n",
    ")"
   ]
  },
  {
   "cell_type": "markdown",
   "id": "de95537a",
   "metadata": {},
   "source": [
    "Ako vidíme na grafe, s vyšším počtom erytrocytov rastie aj množstvo alt, rast vyzerá logaritmicky"
   ]
  },
  {
   "cell_type": "markdown",
   "id": "6e04f2fe",
   "metadata": {},
   "source": [
    "### Hemoglobin a alp, korelácia 0,4"
   ]
  },
  {
   "cell_type": "code",
   "execution_count": 23,
   "id": "cef175a0",
   "metadata": {},
   "outputs": [
    {
     "data": {
      "text/plain": [
       "<AxesSubplot:xlabel='hemoglobin', ylabel='alp'>"
      ]
     },
     "execution_count": 23,
     "metadata": {},
     "output_type": "execute_result"
    },
    {
     "data": {
      "image/png": "[encoded data removed]",
      "text/plain": [
       "<Figure size 432x288 with 1 Axes>"
      ]
     },
     "metadata": {
      "needs_background": "light"
     },
     "output_type": "display_data"
    }
   ],
   "source": [
    "sns.scatterplot(\n",
    "    data=labor,\n",
    "    x=labor.hemoglobin,\n",
    "    y=labor.alp,\n",
    "    hue=labor.indicator\n",
    ")"
   ]
  },
  {
   "cell_type": "markdown",
   "id": "0330d4dc",
   "metadata": {},
   "source": [
    "Graf naberá tvar dvojitej konvexnej kvadratickej funkcie s viditeľným rozdielom pre indikátor 1 a 0"
   ]
  },
  {
   "cell_type": "markdown",
   "id": "313b4b6d",
   "metadata": {},
   "source": [
    "## Porovnanie s indikátorom\n",
    "### Leukocyty a indicator"
   ]
  },
  {
   "cell_type": "code",
   "execution_count": 24,
   "id": "6c2a6da6",
   "metadata": {},
   "outputs": [
    {
     "data": {
      "text/plain": [
       "<AxesSubplot:xlabel='leukocyty', ylabel='Density'>"
      ]
     },
     "execution_count": 24,
     "metadata": {},
     "output_type": "execute_result"
    },
    {
     "data": {
      "image/png": "[encoded data removed]",
      "text/plain": [
       "<Figure size 432x288 with 1 Axes>"
      ]
     },
     "metadata": {
      "needs_background": "light"
     },
     "output_type": "display_data"
    }
   ],
   "source": [
    "sns.kdeplot(labor.loc[(labor.indicator == 1), 'leukocyty'], color='r', shade=True)\n",
    "sns.kdeplot(labor.loc[(labor.indicator == 0), 'leukocyty'], color='b', shade=True)"
   ]
  },
  {
   "cell_type": "markdown",
   "id": "30067917",
   "metadata": {},
   "source": [
    "Vidíme že ľudia s leukémium majú väčšinou znížený počet leukocytov"
   ]
  },
  {
   "cell_type": "markdown",
   "id": "4c023f3e",
   "metadata": {},
   "source": [
    "### Hemoglobin a indicator"
   ]
  },
  {
   "cell_type": "code",
   "execution_count": 25,
   "id": "0d322e70",
   "metadata": {},
   "outputs": [
    {
     "data": {
      "text/plain": [
       "<AxesSubplot:xlabel='hemoglobin', ylabel='Density'>"
      ]
     },
     "execution_count": 25,
     "metadata": {},
     "output_type": "execute_result"
    },
    {
     "data": {
      "image/png": "[encoded data removed]",
      "text/plain": [
       "<Figure size 432x288 with 1 Axes>"
      ]
     },
     "metadata": {
      "needs_background": "light"
     },
     "output_type": "display_data"
    }
   ],
   "source": [
    "sns.kdeplot(labor.loc[(labor.indicator == 1), 'hemoglobin'], color='r', shade=True)\n",
    "sns.kdeplot(labor.loc[(labor.indicator == 0), 'hemoglobin'], color='b', shade=True)"
   ]
  },
  {
   "cell_type": "markdown",
   "id": "0ce1c5a0",
   "metadata": {},
   "source": [
    "Na grafe je ukázané, že rozdiel medzi indikátorom 1 a 0 je extrémne malý, aj keď ľudia s leukémiou majú zvyčajne menšie množstvo hemoglobínu"
   ]
  },
  {
   "cell_type": "markdown",
   "id": "eee8f52a",
   "metadata": {},
   "source": [
    "### Hematokrit a indicator"
   ]
  },
  {
   "cell_type": "code",
   "execution_count": 26,
   "id": "a8a3e5f0",
   "metadata": {},
   "outputs": [
    {
     "data": {
      "text/plain": [
       "<AxesSubplot:xlabel='hematokrit', ylabel='Density'>"
      ]
     },
     "execution_count": 26,
     "metadata": {},
     "output_type": "execute_result"
    },
    {
     "data": {
      "image/png": "[encoded data removed]",
      "text/plain": [
       "<Figure size 432x288 with 1 Axes>"
      ]
     },
     "metadata": {
      "needs_background": "light"
     },
     "output_type": "display_data"
    }
   ],
   "source": [
    "sns.kdeplot(labor.loc[(labor.indicator == 1), 'hematokrit'], color='r', shade=True)\n",
    "sns.kdeplot(labor.loc[(labor.indicator == 0), 'hematokrit'], color='b', shade=True)"
   ]
  },
  {
   "cell_type": "markdown",
   "id": "b79a71bd",
   "metadata": {},
   "source": [
    "Pri hematokrite je ukázané, že ľudia s menším množstvom hematokritu majú zvýšenú šancu mať leukémiu\n",
    "Zvyšné atribúty sme s indikátorom neporovnávali, lebo ich grafy pre indikátor 0 a 1 boli skoro totožné"
   ]
  },
  {
   "cell_type": "markdown",
   "id": "7145c535",
   "metadata": {},
   "source": [
    "# Vytvorenie a testovanie hypotéz\n",
    "## Hypotéza 1"
   ]
  },
  {
   "cell_type": "markdown",
   "id": "f2fb4660",
   "metadata": {},
   "source": [
    "**H0 (nulová hypotéza)** Pacienti s indikátorom a bez indikátoru majú v priemere rovnakú hladinu leukocytov v krvi.\n",
    "\n",
    "**HA (alternatívna hypotéza)** Pacienti s indikátorom, majú zníženú alebo zvýšenú hodnotu leukocytov oproti pacientom bez indikátora."
   ]
  },
  {
   "cell_type": "code",
   "execution_count": 27,
   "id": "d902064f",
   "metadata": {},
   "outputs": [
    {
     "data": {
      "text/plain": [
       "<AxesSubplot:xlabel='indicator', ylabel='leukocyty'>"
      ]
     },
     "execution_count": 27,
     "metadata": {},
     "output_type": "execute_result"
    },
    {
     "data": {
      "image/png": "[encoded data removed]",
      "text/plain": [
       "<Figure size 432x288 with 1 Axes>"
      ]
     },
     "metadata": {
      "needs_background": "light"
     },
     "output_type": "display_data"
    }
   ],
   "source": [
    "sns.boxplot(x='indicator', y='leukocyty', data=labor[(labor.indicator == 1) | (labor.indicator == 0)])"
   ]
  },
  {
   "cell_type": "markdown",
   "id": "536b1fcc",
   "metadata": {},
   "source": [
    "Na základe vizuálneho porovnania vidíme malý rozdiel, ďalej budeme testovať štatistickým testom"
   ]
  },
  {
   "cell_type": "code",
   "execution_count": 28,
   "id": "e121882e",
   "metadata": {},
   "outputs": [
    {
     "data": {
      "text/plain": [
       "count    3557.000000\n",
       "mean        7.364604\n",
       "std         1.282445\n",
       "min         2.217920\n",
       "25%         6.508080\n",
       "50%         7.390320\n",
       "75%         8.218030\n",
       "max        11.560270\n",
       "Name: leukocyty, dtype: float64"
      ]
     },
     "execution_count": 28,
     "metadata": {},
     "output_type": "execute_result"
    }
   ],
   "source": [
    "leuk0 = labor.loc[labor.indicator == 0, 'leukocyty']\n",
    "leuk0.describe()"
   ]
  },
  {
   "cell_type": "code",
   "execution_count": 29,
   "id": "6b48cf7d",
   "metadata": {},
   "outputs": [
    {
     "data": {
      "text/plain": [
       "<AxesSubplot:xlabel='leukocyty', ylabel='Count'>"
      ]
     },
     "execution_count": 29,
     "metadata": {},
     "output_type": "execute_result"
    },
    {
     "data": {
      "image/png": "[encoded data removed]",
      "text/plain": [
       "<Figure size 432x288 with 1 Axes>"
      ]
     },
     "metadata": {
      "needs_background": "light"
     },
     "output_type": "display_data"
    }
   ],
   "source": [
    "sns.histplot(leuk0)"
   ]
  },
  {
   "cell_type": "markdown",
   "id": "16fa6a87",
   "metadata": {},
   "source": [
    "Na identifikovanie a odstránenie outlierov vieme použiť funkciu z cvika ktorá odstráni hodnoty nachádzajúce sa viac ako 1,5 násobok medzikvartilového rozdelenia od horného, resp. dolného kvartilu"
   ]
  },
  {
   "cell_type": "code",
   "execution_count": 30,
   "id": "172f92ea",
   "metadata": {},
   "outputs": [],
   "source": [
    "# funkcia z cvika\n",
    "def identify_outliers(a):\n",
    "    lower = a.quantile(0.25) - 1.5 * stats.iqr(a)\n",
    "    upper = a.quantile(0.75) + 1.5 * stats.iqr(a)\n",
    "    \n",
    "    return a[(a > upper) | (a < lower)]"
   ]
  },
  {
   "cell_type": "code",
   "execution_count": 31,
   "id": "8af76584",
   "metadata": {},
   "outputs": [
    {
     "data": {
      "text/plain": [
       "count    0.0\n",
       "mean     NaN\n",
       "std      NaN\n",
       "min      NaN\n",
       "25%      NaN\n",
       "50%      NaN\n",
       "75%      NaN\n",
       "max      NaN\n",
       "Name: leukocyty, dtype: float64"
      ]
     },
     "execution_count": 31,
     "metadata": {},
     "output_type": "execute_result"
    }
   ],
   "source": [
    "leuk0_out = identify_outliers(leuk0)\n",
    "leuk0_out.describe()"
   ]
  },
  {
   "cell_type": "markdown",
   "id": "2c884a1d",
   "metadata": {},
   "source": [
    "Pre indikátor 0 leukocyty outlierov nemajú"
   ]
  },
  {
   "cell_type": "code",
   "execution_count": 32,
   "id": "c539cce2",
   "metadata": {},
   "outputs": [
    {
     "data": {
      "text/plain": [
       "count    6400.000000\n",
       "mean        6.251343\n",
       "std         1.568830\n",
       "min         3.469270\n",
       "25%         4.978632\n",
       "50%         5.595955\n",
       "75%         7.496440\n",
       "max        12.131510\n",
       "Name: leukocyty, dtype: float64"
      ]
     },
     "execution_count": 32,
     "metadata": {},
     "output_type": "execute_result"
    }
   ],
   "source": [
    "leuk1 = labor.loc[labor.indicator == 1, 'leukocyty']\n",
    "leuk1.describe()"
   ]
  },
  {
   "cell_type": "code",
   "execution_count": 33,
   "id": "5dcd0b52",
   "metadata": {},
   "outputs": [
    {
     "data": {
      "text/plain": [
       "<AxesSubplot:xlabel='leukocyty', ylabel='Count'>"
      ]
     },
     "execution_count": 33,
     "metadata": {},
     "output_type": "execute_result"
    },
    {
     "data": {
      "image/png": "[encoded data removed]",
      "text/plain": [
       "<Figure size 432x288 with 1 Axes>"
      ]
     },
     "metadata": {
      "needs_background": "light"
     },
     "output_type": "display_data"
    }
   ],
   "source": [
    "sns.histplot(leuk1)"
   ]
  },
  {
   "cell_type": "code",
   "execution_count": 34,
   "id": "29361639",
   "metadata": {},
   "outputs": [
    {
     "data": {
      "text/plain": [
       "count    0.0\n",
       "mean     NaN\n",
       "std      NaN\n",
       "min      NaN\n",
       "25%      NaN\n",
       "50%      NaN\n",
       "75%      NaN\n",
       "max      NaN\n",
       "Name: leukocyty, dtype: float64"
      ]
     },
     "execution_count": 34,
     "metadata": {},
     "output_type": "execute_result"
    }
   ],
   "source": [
    "leuk1_out = identify_outliers(leuk1)\n",
    "leuk1_out.describe()"
   ]
  },
  {
   "cell_type": "markdown",
   "id": "557f5206",
   "metadata": {},
   "source": [
    "Ako vidieť, naše dáta nemajú podľa danej funckie outlierov v ani jednom prípade"
   ]
  },
  {
   "cell_type": "markdown",
   "id": "b2cf81e2",
   "metadata": {},
   "source": [
    "Ak je  𝑝<0,05 , nulovú hypotézu zamietame a dáta pravdepodobne pochádzajú z iného ako normálneho rozdelenia. Ak je  𝑝>0,05 , nulovú hypotézu nezamietame, teda na základe dát nemôžeme prehlásiť, že by dáta pochádzali z iného, ako normálneho rozdelenia."
   ]
  },
  {
   "cell_type": "code",
   "execution_count": 35,
   "id": "8f5a11d0",
   "metadata": {},
   "outputs": [
    {
     "data": {
      "text/plain": [
       "ShapiroResult(statistic=0.999159038066864, pvalue=0.0891357958316803)"
      ]
     },
     "execution_count": 35,
     "metadata": {},
     "output_type": "execute_result"
    }
   ],
   "source": [
    "stats.shapiro(leuk0.dropna())"
   ]
  },
  {
   "cell_type": "code",
   "execution_count": 36,
   "id": "32541e11",
   "metadata": {},
   "outputs": [
    {
     "name": "stderr",
     "output_type": "stream",
     "text": [
      "c:\\users\\patri\\appdata\\local\\programs\\python\\python38\\lib\\site-packages\\scipy\\stats\\morestats.py:1760: UserWarning: p-value may not be accurate for N > 5000.\n",
      "  warnings.warn(\"p-value may not be accurate for N > 5000.\")\n"
     ]
    },
    {
     "data": {
      "text/plain": [
       "ShapiroResult(statistic=0.9078372716903687, pvalue=0.0)"
      ]
     },
     "execution_count": 36,
     "metadata": {},
     "output_type": "execute_result"
    }
   ],
   "source": [
    "stats.shapiro(leuk1.dropna())"
   ]
  },
  {
   "cell_type": "markdown",
   "id": "43f82d23",
   "metadata": {},
   "source": [
    "Na základe výsledkov testu sa zdá, že hodnota leukocytov u pacientov s indikátorom 0 pochádza z normálneho rozdelenia, hodnota leukocytov u pacientov s indikátorom 1 nie. Mali by sme teda použiť neparametrickú verziu t-testu, t. j. Mann-Whitneyho U-test"
   ]
  },
  {
   "cell_type": "code",
   "execution_count": 37,
   "id": "07ae7ea8",
   "metadata": {},
   "outputs": [
    {
     "data": {
      "text/plain": [
       "MannwhitneyuResult(statistic=16303437.0, pvalue=9.635222158342039e-281)"
      ]
     },
     "execution_count": 37,
     "metadata": {},
     "output_type": "execute_result"
    }
   ],
   "source": [
    "stats.mannwhitneyu(leuk0.dropna(), leuk1.dropna())"
   ]
  },
  {
   "cell_type": "markdown",
   "id": "63d0c0d6",
   "metadata": {},
   "source": [
    "Keďže  𝑝<0,001 , pravdepodobnosť chyby 1. rádu (že nulová hypotéza je pravdivá a my ju zamietame) je menej ako 1 promile. Našu nulovú hypotézu H0 teda zamietame v prospech alternatívnej hypotézy. Hladina leukocytov teda má vpliv na indikátor"
   ]
  },
  {
   "cell_type": "markdown",
   "id": "9515e361",
   "metadata": {},
   "source": [
    "## Hypotéza 2"
   ]
  },
  {
   "cell_type": "markdown",
   "id": "c7205cfd",
   "metadata": {},
   "source": [
    "**H0 (nulová hypotéza)** Pacienti s indikátorom a bez indikátoru majú v priemere rovnakú hladinu hemoglobínu v krvi.\n",
    "\n",
    "**HA (alternatívna hypotéza)** Pacienti s indikátorom, majú zníženú alebo zvýšenú hodnotu hemoglobínu oproti pacientom bez indikátora."
   ]
  },
  {
   "cell_type": "code",
   "execution_count": 38,
   "id": "c54c50fc",
   "metadata": {},
   "outputs": [
    {
     "data": {
      "text/plain": [
       "<AxesSubplot:xlabel='indicator', ylabel='hemoglobin'>"
      ]
     },
     "execution_count": 38,
     "metadata": {},
     "output_type": "execute_result"
    },
    {
     "data": {
      "image/png": "[encoded data removed]",
      "text/plain": [
       "<Figure size 432x288 with 1 Axes>"
      ]
     },
     "metadata": {
      "needs_background": "light"
     },
     "output_type": "display_data"
    }
   ],
   "source": [
    "sns.boxplot(x='indicator', y='hemoglobin', data=labor[(labor.indicator == 1) | (labor.indicator == 0)])"
   ]
  },
  {
   "cell_type": "markdown",
   "id": "3f9c8cb8",
   "metadata": {},
   "source": [
    "Opäť na základe vizuálneho porovnania vidíme len malý rozdiel, a teda môžme pokračovať štatistickým testom"
   ]
  },
  {
   "cell_type": "code",
   "execution_count": 39,
   "id": "23c5551c",
   "metadata": {},
   "outputs": [
    {
     "data": {
      "text/plain": [
       "count    3550.000000\n",
       "mean        6.176784\n",
       "std         1.901356\n",
       "min         0.764630\n",
       "25%         4.781598\n",
       "50%         5.972885\n",
       "75%         7.382855\n",
       "max        13.310770\n",
       "Name: hemoglobin, dtype: float64"
      ]
     },
     "execution_count": 39,
     "metadata": {},
     "output_type": "execute_result"
    }
   ],
   "source": [
    "hem0 = labor.loc[labor.indicator == 0, 'hemoglobin']\n",
    "hem0.describe()"
   ]
  },
  {
   "cell_type": "code",
   "execution_count": 40,
   "id": "df08ee62",
   "metadata": {},
   "outputs": [
    {
     "data": {
      "text/plain": [
       "<AxesSubplot:xlabel='hemoglobin', ylabel='Count'>"
      ]
     },
     "execution_count": 40,
     "metadata": {},
     "output_type": "execute_result"
    },
    {
     "data": {
      "image/png": "[encoded data removed]",
      "text/plain": [
       "<Figure size 432x288 with 1 Axes>"
      ]
     },
     "metadata": {
      "needs_background": "light"
     },
     "output_type": "display_data"
    }
   ],
   "source": [
    "sns.histplot(hem0)"
   ]
  },
  {
   "cell_type": "markdown",
   "id": "7d3f5bf9",
   "metadata": {},
   "source": [
    "Znova sa pokusíme odstrániť outlierov"
   ]
  },
  {
   "cell_type": "code",
   "execution_count": 41,
   "id": "c6c30139",
   "metadata": {},
   "outputs": [
    {
     "data": {
      "text/plain": [
       "count    0.0\n",
       "mean     NaN\n",
       "std      NaN\n",
       "min      NaN\n",
       "25%      NaN\n",
       "50%      NaN\n",
       "75%      NaN\n",
       "max      NaN\n",
       "Name: hemoglobin, dtype: float64"
      ]
     },
     "execution_count": 41,
     "metadata": {},
     "output_type": "execute_result"
    }
   ],
   "source": [
    "hem0_out = identify_outliers(hem0)\n",
    "hem0_out.describe()"
   ]
  },
  {
   "cell_type": "code",
   "execution_count": 42,
   "id": "07ba0937",
   "metadata": {},
   "outputs": [
    {
     "data": {
      "text/plain": [
       "count    6407.000000\n",
       "mean        5.002812\n",
       "std         1.258761\n",
       "min         0.707220\n",
       "25%         4.175045\n",
       "50%         4.991130\n",
       "75%         5.819950\n",
       "max        11.242370\n",
       "Name: hemoglobin, dtype: float64"
      ]
     },
     "execution_count": 42,
     "metadata": {},
     "output_type": "execute_result"
    }
   ],
   "source": [
    "hem1 = labor.loc[labor.indicator == 1, 'hemoglobin']\n",
    "hem1.describe()"
   ]
  },
  {
   "cell_type": "code",
   "execution_count": 43,
   "id": "d79e0414",
   "metadata": {},
   "outputs": [
    {
     "data": {
      "text/plain": [
       "count    0.0\n",
       "mean     NaN\n",
       "std      NaN\n",
       "min      NaN\n",
       "25%      NaN\n",
       "50%      NaN\n",
       "75%      NaN\n",
       "max      NaN\n",
       "Name: hemoglobin, dtype: float64"
      ]
     },
     "execution_count": 43,
     "metadata": {},
     "output_type": "execute_result"
    }
   ],
   "source": [
    "hem1_out = identify_outliers(hem1)\n",
    "hem1_out.describe()"
   ]
  },
  {
   "cell_type": "markdown",
   "id": "ce6df9db",
   "metadata": {},
   "source": [
    "Opäť sme žiadnych outlierov nenašli a teda môžme pokracovať ďalej\n",
    "\n",
    "Ak je  𝑝<0,05 , nulovú hypotézu zamietame a dáta pravdepodobne pochádzajú z iného ako normálneho rozdelenia. Ak je  𝑝>0,05 , nulovú hypotézu nezamietame, teda na základe dát nemôžeme prehlásiť, že by dáta pochádzali z iného, ako normálneho rozdelenia."
   ]
  },
  {
   "cell_type": "code",
   "execution_count": 44,
   "id": "23f28d04",
   "metadata": {},
   "outputs": [
    {
     "data": {
      "text/plain": [
       "ShapiroResult(statistic=0.988235354423523, pvalue=1.3251166068325526e-16)"
      ]
     },
     "execution_count": 44,
     "metadata": {},
     "output_type": "execute_result"
    }
   ],
   "source": [
    "stats.shapiro(hem0.dropna())"
   ]
  },
  {
   "cell_type": "code",
   "execution_count": 45,
   "id": "49565bf7",
   "metadata": {},
   "outputs": [
    {
     "name": "stderr",
     "output_type": "stream",
     "text": [
      "c:\\users\\patri\\appdata\\local\\programs\\python\\python38\\lib\\site-packages\\scipy\\stats\\morestats.py:1760: UserWarning: p-value may not be accurate for N > 5000.\n",
      "  warnings.warn(\"p-value may not be accurate for N > 5000.\")\n"
     ]
    },
    {
     "data": {
      "text/plain": [
       "ShapiroResult(statistic=0.9978976845741272, pvalue=1.1064000915439465e-07)"
      ]
     },
     "execution_count": 45,
     "metadata": {},
     "output_type": "execute_result"
    }
   ],
   "source": [
    "stats.shapiro(hem1.dropna())"
   ]
  },
  {
   "cell_type": "markdown",
   "id": "3868413e",
   "metadata": {},
   "source": [
    "Na základe výsledkov testu sa zdá, že hodnoty hemoglobinu u pacientov s indikátorom 0 aj hodtoty hemoglobinu u pacientov s indikátorom 1 nepochádzaju z normálneho rozdelenia."
   ]
  },
  {
   "cell_type": "code",
   "execution_count": 46,
   "id": "49f6ed29",
   "metadata": {},
   "outputs": [
    {
     "data": {
      "text/plain": [
       "MannwhitneyuResult(statistic=15543266.5, pvalue=1.914565365447489e-202)"
      ]
     },
     "execution_count": 46,
     "metadata": {},
     "output_type": "execute_result"
    }
   ],
   "source": [
    "stats.mannwhitneyu(hem0.dropna(), hem1.dropna())"
   ]
  },
  {
   "cell_type": "markdown",
   "id": "6fd666ab",
   "metadata": {},
   "source": [
    "Keďže  𝑝<0,001 , pravdepodobnosť chyby 1. rádu (že nulová hypotéza je pravdivá a my ju zamietame) je menej ako 1 promile. Našu nulovú hypotézu H0 teda zamietame v prospech alternatívnej hypotézy. Hladina hemoglobínu teda má vpliv na indikátor"
   ]
  },
  {
   "cell_type": "markdown",
   "id": "fd985f3c",
   "metadata": {},
   "source": [
    "# Identifikácia problémov a ich riešenie v dátach\n",
    "## Zle zapísané hodnoty\n",
    "Ako sme si pri analýze všimli, niektoré údaje sú zapísané s chybou, alebo iným spôsobom čo môže vytvárať problémy"
   ]
  },
  {
   "cell_type": "code",
   "execution_count": 47,
   "id": "61f9a424",
   "metadata": {},
   "outputs": [
    {
     "data": {
      "text/plain": [
       "no     5460\n",
       "yes    2039\n",
       "Y      1985\n",
       "N       503\n",
       "Name: smoker, dtype: int64"
      ]
     },
     "execution_count": 47,
     "metadata": {},
     "output_type": "execute_result"
    }
   ],
   "source": [
    "labor['smoker'].value_counts()"
   ]
  },
  {
   "cell_type": "markdown",
   "id": "4ee574c4",
   "metadata": {},
   "source": [
    "Ako vidieť smoker obsahuje yes,Y pre ano a N,no pre nie. Treba údaje upraviť tak, aby pre každú možnosť len jedna odpoveď\n",
    "Najjednoduchšie sa oprava vykoná prepísaním všetkých chybných údajov na spravný zápis"
   ]
  },
  {
   "cell_type": "code",
   "execution_count": 48,
   "id": "ffd18ebc",
   "metadata": {},
   "outputs": [],
   "source": [
    "labor.loc[labor['smoker'] == 'yes', 'smoker']='Y'"
   ]
  },
  {
   "cell_type": "code",
   "execution_count": 49,
   "id": "d49635f5",
   "metadata": {},
   "outputs": [],
   "source": [
    "labor.loc[labor['smoker'] == 'no', 'smoker']='N'"
   ]
  },
  {
   "cell_type": "code",
   "execution_count": 50,
   "id": "047b1ed1",
   "metadata": {},
   "outputs": [
    {
     "data": {
      "text/plain": [
       "N    5963\n",
       "Y    4024\n",
       "Name: smoker, dtype: int64"
      ]
     },
     "execution_count": 50,
     "metadata": {},
     "output_type": "execute_result"
    }
   ],
   "source": [
    "labor['smoker'].value_counts()"
   ]
  },
  {
   "cell_type": "markdown",
   "id": "7e679bce",
   "metadata": {},
   "source": [
    "Nesprávne zapísané údaje boli opravené. Ďalej sa môžme pozrieť na rozdelenie rás"
   ]
  },
  {
   "cell_type": "code",
   "execution_count": 51,
   "id": "c0d6facf",
   "metadata": {},
   "outputs": [
    {
     "data": {
      "text/plain": [
       "White       1547\n",
       "Black        774\n",
       "Asian        303\n",
       "Hawaiian     157\n",
       "Indian       157\n",
       "black        106\n",
       "white         41\n",
       "blsck         27\n",
       "Name: race, dtype: int64"
      ]
     },
     "execution_count": 51,
     "metadata": {},
     "output_type": "execute_result"
    }
   ],
   "source": [
    "profiles['race'].value_counts()"
   ]
  },
  {
   "cell_type": "markdown",
   "id": "4af6fa73",
   "metadata": {},
   "source": [
    "Rasa má podobný problém ako smoker. Obsahuje zle zapísané údaje ktoré musíme prepísať aby nám neprekážali."
   ]
  },
  {
   "cell_type": "code",
   "execution_count": 52,
   "id": "0e6b7b56",
   "metadata": {},
   "outputs": [],
   "source": [
    "profiles.loc[profiles['race'] == 'black','race']='Black'"
   ]
  },
  {
   "cell_type": "code",
   "execution_count": 53,
   "id": "39756aa3",
   "metadata": {},
   "outputs": [],
   "source": [
    "profiles.loc[profiles['race'] == 'blsck','race']='Black'"
   ]
  },
  {
   "cell_type": "code",
   "execution_count": 54,
   "id": "b9379156",
   "metadata": {},
   "outputs": [],
   "source": [
    "profiles.loc[profiles['race'] == 'white','race']='White'"
   ]
  },
  {
   "cell_type": "code",
   "execution_count": 55,
   "id": "bf4dcbf8",
   "metadata": {},
   "outputs": [
    {
     "data": {
      "text/plain": [
       "White       1588\n",
       "Black        907\n",
       "Asian        303\n",
       "Hawaiian     157\n",
       "Indian       157\n",
       "Name: race, dtype: int64"
      ]
     },
     "execution_count": 55,
     "metadata": {},
     "output_type": "execute_result"
    }
   ],
   "source": [
    "profiles['race'].value_counts()"
   ]
  },
  {
   "cell_type": "markdown",
   "id": "43ea20e9",
   "metadata": {},
   "source": [
    "Problém bol prepísaný a vyriešený"
   ]
  },
  {
   "cell_type": "markdown",
   "id": "824c3f6a",
   "metadata": {},
   "source": [
    "## Nezmyselné hodnoty\n",
    "Mínusové hodnoty nemajú čo robiť vo váhe človeka"
   ]
  },
  {
   "cell_type": "code",
   "execution_count": 56,
   "id": "cbd9aa18",
   "metadata": {},
   "outputs": [
    {
     "data": {
      "text/plain": [
       "212"
      ]
     },
     "execution_count": 56,
     "metadata": {},
     "output_type": "execute_result"
    }
   ],
   "source": [
    "len (labor[(labor[['er-cv','leukocyty','weight','etytr','erytrocyty',\n",
    "       'trombocyty','hemoglobin','ast','alp','alt','hematokrit','hbver']] < 0).any(1)])"
   ]
  },
  {
   "cell_type": "code",
   "execution_count": 57,
   "id": "4b43b50e",
   "metadata": {},
   "outputs": [],
   "source": [
    "labor['weight']=labor['weight'].apply(abs)"
   ]
  },
  {
   "cell_type": "code",
   "execution_count": 58,
   "id": "34040b76",
   "metadata": {},
   "outputs": [
    {
     "data": {
      "text/plain": [
       "0"
      ]
     },
     "execution_count": 58,
     "metadata": {},
     "output_type": "execute_result"
    }
   ],
   "source": [
    "len (labor[(labor[['er-cv','leukocyty','weight','etytr','erytrocyty',\n",
    "       'trombocyty','hemoglobin','ast','alp','alt','hematokrit','hbver']] < 0).any(1)])"
   ]
  },
  {
   "cell_type": "markdown",
   "id": "f4c46076",
   "metadata": {},
   "source": [
    "Reálne sme došli na to, že mínusové hodnoty sa nachádzali len v stĺpci weight, pričom sme všetky nahradili absolútnou hodnotou."
   ]
  },
  {
   "cell_type": "markdown",
   "id": "8d915482",
   "metadata": {},
   "source": [
    "## Duplicated values"
   ]
  },
  {
   "cell_type": "code",
   "execution_count": 59,
   "id": "23674b23",
   "metadata": {},
   "outputs": [
    {
     "data": {
      "text/plain": [
       "0"
      ]
     },
     "execution_count": 59,
     "metadata": {},
     "output_type": "execute_result"
    }
   ],
   "source": [
    "temp = profiles.groupby(profiles.columns.tolist(),as_index=False).size().sort_values(by='size',ascending=False)\n",
    "len(temp[temp['size']!=1].index)"
   ]
  },
  {
   "cell_type": "markdown",
   "id": "9d888072",
   "metadata": {},
   "source": [
    "Profiles neobsahuje žiadne duplicitné dáta."
   ]
  },
  {
   "cell_type": "code",
   "execution_count": 60,
   "id": "79090dc1",
   "metadata": {},
   "outputs": [
    {
     "data": {
      "text/plain": [
       "97"
      ]
     },
     "execution_count": 60,
     "metadata": {},
     "output_type": "execute_result"
    }
   ],
   "source": [
    "temp = labor.groupby(labor.columns.tolist(),as_index=False).size().sort_values(by='size',ascending=False)\n",
    "len(temp[temp['size']!=1].index)"
   ]
  },
  {
   "cell_type": "code",
   "execution_count": 61,
   "id": "61104dac",
   "metadata": {},
   "outputs": [
    {
     "data": {
      "text/html": [
       "<div>\n",
       "<style scoped>\n",
       "    .dataframe tbody tr th:only-of-type {\n",
       "        vertical-align: middle;\n",
       "    }\n",
       "\n",
       "    .dataframe tbody tr th {\n",
       "        vertical-align: top;\n",
       "    }\n",
       "\n",
       "    .dataframe thead th {\n",
       "        text-align: right;\n",
       "    }\n",
       "</style>\n",
       "<table border=\"1\" class=\"dataframe\">\n",
       "  <thead>\n",
       "    <tr style=\"text-align: right;\">\n",
       "      <th></th>\n",
       "      <th>er-cv</th>\n",
       "      <th>name</th>\n",
       "      <th>indicator</th>\n",
       "      <th>leukocyty</th>\n",
       "      <th>weight</th>\n",
       "      <th>ssn</th>\n",
       "      <th>relationship</th>\n",
       "      <th>etytr</th>\n",
       "      <th>smoker</th>\n",
       "      <th>erytrocyty</th>\n",
       "      <th>trombocyty</th>\n",
       "      <th>hemoglobin</th>\n",
       "      <th>ast</th>\n",
       "      <th>alp</th>\n",
       "      <th>alt</th>\n",
       "      <th>hematokrit</th>\n",
       "      <th>hbver</th>\n",
       "      <th>size</th>\n",
       "    </tr>\n",
       "  </thead>\n",
       "  <tbody>\n",
       "    <tr>\n",
       "      <th>1953</th>\n",
       "      <td>36.85868</td>\n",
       "      <td>Amanda Moss</td>\n",
       "      <td>1.0</td>\n",
       "      <td>8.94093</td>\n",
       "      <td>53.47741</td>\n",
       "      <td>455-59-6646</td>\n",
       "      <td>divoced</td>\n",
       "      <td>6.70009</td>\n",
       "      <td>Y</td>\n",
       "      <td>7.33284</td>\n",
       "      <td>5.85793</td>\n",
       "      <td>4.02412</td>\n",
       "      <td>44.02578</td>\n",
       "      <td>28.88274</td>\n",
       "      <td>17.20712</td>\n",
       "      <td>4.91373</td>\n",
       "      <td>7.87466</td>\n",
       "      <td>2</td>\n",
       "    </tr>\n",
       "    <tr>\n",
       "      <th>4398</th>\n",
       "      <td>47.01661</td>\n",
       "      <td>Jacob Bishop</td>\n",
       "      <td>0.0</td>\n",
       "      <td>6.05982</td>\n",
       "      <td>118.44690</td>\n",
       "      <td>555-02-6981</td>\n",
       "      <td>married</td>\n",
       "      <td>6.02724</td>\n",
       "      <td>Y</td>\n",
       "      <td>6.42045</td>\n",
       "      <td>5.21061</td>\n",
       "      <td>6.66009</td>\n",
       "      <td>43.35862</td>\n",
       "      <td>87.20025</td>\n",
       "      <td>11.80901</td>\n",
       "      <td>6.37185</td>\n",
       "      <td>6.51172</td>\n",
       "      <td>2</td>\n",
       "    </tr>\n",
       "    <tr>\n",
       "      <th>4933</th>\n",
       "      <td>49.10089</td>\n",
       "      <td>Lucas Daniels</td>\n",
       "      <td>1.0</td>\n",
       "      <td>4.78625</td>\n",
       "      <td>89.25974</td>\n",
       "      <td>761-66-3906</td>\n",
       "      <td>nop</td>\n",
       "      <td>6.58455</td>\n",
       "      <td>N</td>\n",
       "      <td>5.14855</td>\n",
       "      <td>6.02627</td>\n",
       "      <td>4.90211</td>\n",
       "      <td>53.16771</td>\n",
       "      <td>63.01883</td>\n",
       "      <td>9.97897</td>\n",
       "      <td>7.17233</td>\n",
       "      <td>8.15767</td>\n",
       "      <td>2</td>\n",
       "    </tr>\n",
       "    <tr>\n",
       "      <th>8115</th>\n",
       "      <td>62.58563</td>\n",
       "      <td>Angelica Saunders</td>\n",
       "      <td>1.0</td>\n",
       "      <td>5.11267</td>\n",
       "      <td>40.14486</td>\n",
       "      <td>074-27-6859</td>\n",
       "      <td>married</td>\n",
       "      <td>5.84453</td>\n",
       "      <td>N</td>\n",
       "      <td>8.22343</td>\n",
       "      <td>5.44669</td>\n",
       "      <td>4.23809</td>\n",
       "      <td>33.16196</td>\n",
       "      <td>30.83199</td>\n",
       "      <td>25.61411</td>\n",
       "      <td>4.17078</td>\n",
       "      <td>5.01484</td>\n",
       "      <td>2</td>\n",
       "    </tr>\n",
       "    <tr>\n",
       "      <th>432</th>\n",
       "      <td>25.02735</td>\n",
       "      <td>Samantha Kline</td>\n",
       "      <td>1.0</td>\n",
       "      <td>4.83626</td>\n",
       "      <td>93.92848</td>\n",
       "      <td>448-40-8702</td>\n",
       "      <td>married</td>\n",
       "      <td>6.81760</td>\n",
       "      <td>N</td>\n",
       "      <td>5.42708</td>\n",
       "      <td>6.88658</td>\n",
       "      <td>3.60870</td>\n",
       "      <td>41.31060</td>\n",
       "      <td>16.17809</td>\n",
       "      <td>6.59240</td>\n",
       "      <td>8.54529</td>\n",
       "      <td>6.14831</td>\n",
       "      <td>2</td>\n",
       "    </tr>\n",
       "    <tr>\n",
       "      <th>...</th>\n",
       "      <td>...</td>\n",
       "      <td>...</td>\n",
       "      <td>...</td>\n",
       "      <td>...</td>\n",
       "      <td>...</td>\n",
       "      <td>...</td>\n",
       "      <td>...</td>\n",
       "      <td>...</td>\n",
       "      <td>...</td>\n",
       "      <td>...</td>\n",
       "      <td>...</td>\n",
       "      <td>...</td>\n",
       "      <td>...</td>\n",
       "      <td>...</td>\n",
       "      <td>...</td>\n",
       "      <td>...</td>\n",
       "      <td>...</td>\n",
       "      <td>...</td>\n",
       "    </tr>\n",
       "    <tr>\n",
       "      <th>341</th>\n",
       "      <td>23.55154</td>\n",
       "      <td>Madison Turner</td>\n",
       "      <td>1.0</td>\n",
       "      <td>7.92236</td>\n",
       "      <td>120.43574</td>\n",
       "      <td>129-08-7990</td>\n",
       "      <td>divoced</td>\n",
       "      <td>6.95033</td>\n",
       "      <td>N</td>\n",
       "      <td>7.07892</td>\n",
       "      <td>5.87334</td>\n",
       "      <td>4.20848</td>\n",
       "      <td>48.32313</td>\n",
       "      <td>36.66648</td>\n",
       "      <td>12.06224</td>\n",
       "      <td>4.86045</td>\n",
       "      <td>7.55401</td>\n",
       "      <td>2</td>\n",
       "    </tr>\n",
       "    <tr>\n",
       "      <th>9498</th>\n",
       "      <td>82.59611</td>\n",
       "      <td>Michael Barber</td>\n",
       "      <td>1.0</td>\n",
       "      <td>4.96495</td>\n",
       "      <td>19.54388</td>\n",
       "      <td>650-66-2708</td>\n",
       "      <td>married</td>\n",
       "      <td>4.17278</td>\n",
       "      <td>N</td>\n",
       "      <td>6.65761</td>\n",
       "      <td>6.55372</td>\n",
       "      <td>6.03742</td>\n",
       "      <td>32.33309</td>\n",
       "      <td>87.69255</td>\n",
       "      <td>11.63715</td>\n",
       "      <td>7.63351</td>\n",
       "      <td>9.08369</td>\n",
       "      <td>2</td>\n",
       "    </tr>\n",
       "    <tr>\n",
       "      <th>5740</th>\n",
       "      <td>52.01583</td>\n",
       "      <td>Nicole Fisher</td>\n",
       "      <td>1.0</td>\n",
       "      <td>8.95590</td>\n",
       "      <td>26.41556</td>\n",
       "      <td>533-72-4015</td>\n",
       "      <td>single</td>\n",
       "      <td>7.21447</td>\n",
       "      <td>N</td>\n",
       "      <td>6.44991</td>\n",
       "      <td>7.04598</td>\n",
       "      <td>3.71627</td>\n",
       "      <td>36.21511</td>\n",
       "      <td>16.67718</td>\n",
       "      <td>10.85988</td>\n",
       "      <td>5.74309</td>\n",
       "      <td>6.94124</td>\n",
       "      <td>2</td>\n",
       "    </tr>\n",
       "    <tr>\n",
       "      <th>7528</th>\n",
       "      <td>59.42285</td>\n",
       "      <td>Mark Harris</td>\n",
       "      <td>1.0</td>\n",
       "      <td>8.16425</td>\n",
       "      <td>42.36423</td>\n",
       "      <td>358-47-5504</td>\n",
       "      <td>married</td>\n",
       "      <td>5.91980</td>\n",
       "      <td>N</td>\n",
       "      <td>4.53852</td>\n",
       "      <td>5.87536</td>\n",
       "      <td>3.75428</td>\n",
       "      <td>49.42290</td>\n",
       "      <td>26.15634</td>\n",
       "      <td>7.83338</td>\n",
       "      <td>4.77698</td>\n",
       "      <td>7.36499</td>\n",
       "      <td>2</td>\n",
       "    </tr>\n",
       "    <tr>\n",
       "      <th>4869</th>\n",
       "      <td>48.82307</td>\n",
       "      <td>Christopher Berger</td>\n",
       "      <td>1.0</td>\n",
       "      <td>7.88130</td>\n",
       "      <td>152.21361</td>\n",
       "      <td>312-88-3032</td>\n",
       "      <td>separated</td>\n",
       "      <td>7.06662</td>\n",
       "      <td>N</td>\n",
       "      <td>6.98684</td>\n",
       "      <td>6.92291</td>\n",
       "      <td>5.00480</td>\n",
       "      <td>53.98137</td>\n",
       "      <td>67.34692</td>\n",
       "      <td>13.92328</td>\n",
       "      <td>5.88288</td>\n",
       "      <td>7.21979</td>\n",
       "      <td>2</td>\n",
       "    </tr>\n",
       "  </tbody>\n",
       "</table>\n",
       "<p>97 rows × 18 columns</p>\n",
       "</div>"
      ],
      "text/plain": [
       "         er-cv                name  indicator  leukocyty     weight  \\\n",
       "1953  36.85868         Amanda Moss        1.0    8.94093   53.47741   \n",
       "4398  47.01661        Jacob Bishop        0.0    6.05982  118.44690   \n",
       "4933  49.10089       Lucas Daniels        1.0    4.78625   89.25974   \n",
       "8115  62.58563   Angelica Saunders        1.0    5.11267   40.14486   \n",
       "432   25.02735      Samantha Kline        1.0    4.83626   93.92848   \n",
       "...        ...                 ...        ...        ...        ...   \n",
       "341   23.55154      Madison Turner        1.0    7.92236  120.43574   \n",
       "9498  82.59611      Michael Barber        1.0    4.96495   19.54388   \n",
       "5740  52.01583       Nicole Fisher        1.0    8.95590   26.41556   \n",
       "7528  59.42285         Mark Harris        1.0    8.16425   42.36423   \n",
       "4869  48.82307  Christopher Berger        1.0    7.88130  152.21361   \n",
       "\n",
       "              ssn relationship    etytr smoker  erytrocyty  trombocyty  \\\n",
       "1953  455-59-6646      divoced  6.70009      Y     7.33284     5.85793   \n",
       "4398  555-02-6981      married  6.02724      Y     6.42045     5.21061   \n",
       "4933  761-66-3906          nop  6.58455      N     5.14855     6.02627   \n",
       "8115  074-27-6859      married  5.84453      N     8.22343     5.44669   \n",
       "432   448-40-8702      married  6.81760      N     5.42708     6.88658   \n",
       "...           ...          ...      ...    ...         ...         ...   \n",
       "341   129-08-7990      divoced  6.95033      N     7.07892     5.87334   \n",
       "9498  650-66-2708      married  4.17278      N     6.65761     6.55372   \n",
       "5740  533-72-4015       single  7.21447      N     6.44991     7.04598   \n",
       "7528  358-47-5504      married  5.91980      N     4.53852     5.87536   \n",
       "4869  312-88-3032    separated  7.06662      N     6.98684     6.92291   \n",
       "\n",
       "      hemoglobin       ast       alp       alt  hematokrit    hbver  size  \n",
       "1953     4.02412  44.02578  28.88274  17.20712     4.91373  7.87466     2  \n",
       "4398     6.66009  43.35862  87.20025  11.80901     6.37185  6.51172     2  \n",
       "4933     4.90211  53.16771  63.01883   9.97897     7.17233  8.15767     2  \n",
       "8115     4.23809  33.16196  30.83199  25.61411     4.17078  5.01484     2  \n",
       "432      3.60870  41.31060  16.17809   6.59240     8.54529  6.14831     2  \n",
       "...          ...       ...       ...       ...         ...      ...   ...  \n",
       "341      4.20848  48.32313  36.66648  12.06224     4.86045  7.55401     2  \n",
       "9498     6.03742  32.33309  87.69255  11.63715     7.63351  9.08369     2  \n",
       "5740     3.71627  36.21511  16.67718  10.85988     5.74309  6.94124     2  \n",
       "7528     3.75428  49.42290  26.15634   7.83338     4.77698  7.36499     2  \n",
       "4869     5.00480  53.98137  67.34692  13.92328     5.88288  7.21979     2  \n",
       "\n",
       "[97 rows x 18 columns]"
      ]
     },
     "execution_count": 61,
     "metadata": {},
     "output_type": "execute_result"
    }
   ],
   "source": [
    "temp[temp['size']!=1]"
   ]
  },
  {
   "cell_type": "markdown",
   "id": "71293b74",
   "metadata": {},
   "source": [
    "Labor obsahuje 97 duplicitných záznamov ktoré môžme odstrániť"
   ]
  },
  {
   "cell_type": "code",
   "execution_count": 62,
   "id": "23ecd896",
   "metadata": {},
   "outputs": [],
   "source": [
    "labor = labor.drop_duplicates()"
   ]
  },
  {
   "cell_type": "code",
   "execution_count": 63,
   "id": "1aef4876",
   "metadata": {},
   "outputs": [
    {
     "data": {
      "text/plain": [
       "0"
      ]
     },
     "execution_count": 63,
     "metadata": {},
     "output_type": "execute_result"
    }
   ],
   "source": [
    "temp = labor.groupby(labor.columns.tolist(),as_index=False).size().sort_values(by='size',ascending=False)\n",
    "len(temp[temp['size']!=1].index)"
   ]
  },
  {
   "cell_type": "markdown",
   "id": "01b25284",
   "metadata": {},
   "source": [
    "Všetky duplicitné záznami boli odstránené"
   ]
  },
  {
   "cell_type": "code",
   "execution_count": 64,
   "id": "227b4061",
   "metadata": {},
   "outputs": [],
   "source": [
    "labor = labor.reset_index(drop = True)"
   ]
  },
  {
   "cell_type": "markdown",
   "id": "af8ba75c",
   "metadata": {},
   "source": [
    "## Missing values"
   ]
  },
  {
   "cell_type": "markdown",
   "id": "d26962de",
   "metadata": {},
   "source": [
    "Taktiež je v dátach potrebné nahradiť chýbajúce dáta\n",
    "\n",
    "Vyskusali sme 2 metody:\n",
    "- drop_na -> vymaze vsetky riadky s nan hodnotou\n",
    "- my_fill_na -> vyplni nan hodnoty priemerom daneho atributu (zvlast pre indikator 0 a 1)\n",
    "\n",
    "vybrali sme metodu my_fill_na"
   ]
  },
  {
   "cell_type": "code",
   "execution_count": 65,
   "id": "52297247",
   "metadata": {},
   "outputs": [
    {
     "data": {
      "text/plain": [
       "327"
      ]
     },
     "execution_count": 65,
     "metadata": {},
     "output_type": "execute_result"
    }
   ],
   "source": [
    "labor.isna().any(axis=1).sum()"
   ]
  },
  {
   "cell_type": "code",
   "execution_count": 66,
   "id": "e3bc81fc-05ed-4172-9a48-711cafe60fc2",
   "metadata": {},
   "outputs": [],
   "source": [
    "def drop_na(df):\n",
    "    return df.copy().dropna()"
   ]
  },
  {
   "cell_type": "code",
   "execution_count": 67,
   "id": "f134f7ec",
   "metadata": {},
   "outputs": [],
   "source": [
    "# Funkcia berie ako vstupné parametre upravovaný atribút a hodnotu indikátoru\n",
    "# Následne nahradí všetky NA údaje v atribúte za priemer\n",
    "# Funkcia nahrádza chýbajúce hodnoty s indikátorom 0 za priemer hodnôt s indikátorom 0\n",
    "# A chýbajúce hodnoty s indikátorom 1 za priemer hodnôt s indikátorom 1\n",
    "def my_fill_na(arg1,ind):\n",
    "    labor.loc[labor['indicator'] == ind , arg1] = labor.loc[labor['indicator'] == ind , arg1].fillna(\n",
    "    (labor.loc[labor['indicator'] == ind , arg1].mean()))\n",
    "    \n",
    "def use_my_fill_na(atributes):\n",
    "    for atribute in atributes:\n",
    "        my_fill_na(atribute, 0)\n",
    "        my_fill_na(atribute, 1)"
   ]
  },
  {
   "cell_type": "code",
   "execution_count": 68,
   "id": "7e91e8b2",
   "metadata": {},
   "outputs": [],
   "source": [
    "# Spúšťam funkciu pre všetky stĺpce s chýbajúcimi hodnotami pre indikátor 0 aj 1\n",
    "# my_fill_na('er-cv',0)\n",
    "# my_fill_na('er-cv',1)\n",
    "# my_fill_na('leukocyty',0)\n",
    "# my_fill_na('leukocyty',1)\n",
    "# my_fill_na('etytr',0)\n",
    "# my_fill_na('etytr',1)\n",
    "# my_fill_na('erytrocyty',0)\n",
    "# my_fill_na('erytrocyty',1)\n",
    "# my_fill_na('trombocyty',0)\n",
    "# my_fill_na('trombocyty',1)\n",
    "# my_fill_na('hemoglobin',0)\n",
    "# my_fill_na('hemoglobin',1)\n",
    "# my_fill_na('ast',0)\n",
    "# my_fill_na('ast',1)\n",
    "# my_fill_na('alt',0)\n",
    "# my_fill_na('alt',1)\n",
    "# my_fill_na('alp',0)\n",
    "# my_fill_na('alp',1)\n",
    "# my_fill_na('hematokrit',0)\n",
    "# my_fill_na('hematokrit',1)\n",
    "# my_fill_na('hbver',0)\n",
    "# my_fill_na('hbver',1)\n",
    "\n",
    "use_my_fill_na(['er-cv', 'leukocyty', 'etytr', 'erytrocyty', 'trombocyty', 'hemoglobin', 'ast', 'alt', 'alp', 'hematokrit', 'hbver'])"
   ]
  },
  {
   "cell_type": "code",
   "execution_count": 69,
   "id": "9f6cd9c7",
   "metadata": {},
   "outputs": [
    {
     "data": {
      "text/plain": [
       "0"
      ]
     },
     "execution_count": 69,
     "metadata": {},
     "output_type": "execute_result"
    }
   ],
   "source": [
    "labor.isna().any(axis=1).sum()"
   ]
  },
  {
   "cell_type": "markdown",
   "id": "50466985",
   "metadata": {},
   "source": [
    "Všetky chýbajúce hodnoty boli nahradené priemernými údajmi"
   ]
  },
  {
   "cell_type": "code",
   "execution_count": 70,
   "id": "894459d5",
   "metadata": {},
   "outputs": [
    {
     "data": {
      "text/plain": [
       "0"
      ]
     },
     "execution_count": 70,
     "metadata": {},
     "output_type": "execute_result"
    }
   ],
   "source": [
    "profiles.isna().any(axis=1).sum()"
   ]
  },
  {
   "cell_type": "markdown",
   "id": "87dbc74b",
   "metadata": {},
   "source": [
    "Profiles neobsahuje žiadne chýbajúce dáta"
   ]
  },
  {
   "cell_type": "markdown",
   "id": "92066b86",
   "metadata": {},
   "source": [
    "## Integrácia a čistenie\n",
    "### Prepis dát na numerické"
   ]
  },
  {
   "cell_type": "markdown",
   "id": "30c4b1b3",
   "metadata": {},
   "source": [
    "Z nenumerických atribútov je smoker jediný ktorý by mohol mať dopad na indikátor, teda ten prepíšeme"
   ]
  },
  {
   "cell_type": "code",
   "execution_count": 71,
   "id": "ce9488cb",
   "metadata": {},
   "outputs": [
    {
     "data": {
      "text/plain": [
       "N    5892\n",
       "Y    3996\n",
       "Name: smoker, dtype: int64"
      ]
     },
     "execution_count": 71,
     "metadata": {},
     "output_type": "execute_result"
    }
   ],
   "source": [
    "labor['smoker'].value_counts()"
   ]
  },
  {
   "cell_type": "code",
   "execution_count": 72,
   "id": "d20ba1c9",
   "metadata": {},
   "outputs": [],
   "source": [
    "labor.loc[labor['smoker'] == 'Y', 'smoker']=1\n",
    "labor.loc[labor['smoker'] == 'N', 'smoker']=0"
   ]
  },
  {
   "cell_type": "code",
   "execution_count": 73,
   "id": "c7417005",
   "metadata": {},
   "outputs": [
    {
     "data": {
      "text/plain": [
       "0    5892\n",
       "1    3996\n",
       "Name: smoker, dtype: int64"
      ]
     },
     "execution_count": 73,
     "metadata": {},
     "output_type": "execute_result"
    }
   ],
   "source": [
    "labor['smoker'].value_counts()"
   ]
  },
  {
   "cell_type": "code",
   "execution_count": 74,
   "id": "277f0291",
   "metadata": {},
   "outputs": [],
   "source": [
    "labor['smoker'] = labor['smoker'].astype(float, errors = 'raise')"
   ]
  },
  {
   "cell_type": "markdown",
   "id": "8af3a1f5",
   "metadata": {},
   "source": [
    "Zvyšné nenumerické stĺpce môžu byť odstránené"
   ]
  },
  {
   "cell_type": "code",
   "execution_count": 75,
   "id": "a0c2eb98",
   "metadata": {},
   "outputs": [
    {
     "data": {
      "text/html": [
       "<div>\n",
       "<style scoped>\n",
       "    .dataframe tbody tr th:only-of-type {\n",
       "        vertical-align: middle;\n",
       "    }\n",
       "\n",
       "    .dataframe tbody tr th {\n",
       "        vertical-align: top;\n",
       "    }\n",
       "\n",
       "    .dataframe thead th {\n",
       "        text-align: right;\n",
       "    }\n",
       "</style>\n",
       "<table border=\"1\" class=\"dataframe\">\n",
       "  <thead>\n",
       "    <tr style=\"text-align: right;\">\n",
       "      <th></th>\n",
       "      <th>er-cv</th>\n",
       "      <th>indicator</th>\n",
       "      <th>leukocyty</th>\n",
       "      <th>weight</th>\n",
       "      <th>etytr</th>\n",
       "      <th>smoker</th>\n",
       "      <th>erytrocyty</th>\n",
       "      <th>trombocyty</th>\n",
       "      <th>hemoglobin</th>\n",
       "      <th>ast</th>\n",
       "      <th>alp</th>\n",
       "      <th>alt</th>\n",
       "      <th>hematokrit</th>\n",
       "      <th>hbver</th>\n",
       "    </tr>\n",
       "  </thead>\n",
       "  <tbody>\n",
       "    <tr>\n",
       "      <th>0</th>\n",
       "      <td>43.09887</td>\n",
       "      <td>1.0</td>\n",
       "      <td>4.47526</td>\n",
       "      <td>65.57593</td>\n",
       "      <td>5.96219</td>\n",
       "      <td>0.0</td>\n",
       "      <td>6.20665</td>\n",
       "      <td>5.71427</td>\n",
       "      <td>5.06667</td>\n",
       "      <td>57.92930</td>\n",
       "      <td>57.60257</td>\n",
       "      <td>5.12934</td>\n",
       "      <td>7.11081</td>\n",
       "      <td>6.32708</td>\n",
       "    </tr>\n",
       "    <tr>\n",
       "      <th>1</th>\n",
       "      <td>32.51734</td>\n",
       "      <td>1.0</td>\n",
       "      <td>4.41339</td>\n",
       "      <td>58.47779</td>\n",
       "      <td>5.44840</td>\n",
       "      <td>0.0</td>\n",
       "      <td>5.58217</td>\n",
       "      <td>6.29619</td>\n",
       "      <td>6.90945</td>\n",
       "      <td>61.47846</td>\n",
       "      <td>83.38342</td>\n",
       "      <td>10.59365</td>\n",
       "      <td>8.52324</td>\n",
       "      <td>9.06429</td>\n",
       "    </tr>\n",
       "    <tr>\n",
       "      <th>2</th>\n",
       "      <td>54.39106</td>\n",
       "      <td>1.0</td>\n",
       "      <td>4.71119</td>\n",
       "      <td>37.58396</td>\n",
       "      <td>6.75478</td>\n",
       "      <td>1.0</td>\n",
       "      <td>6.36030</td>\n",
       "      <td>6.67129</td>\n",
       "      <td>4.08668</td>\n",
       "      <td>59.37033</td>\n",
       "      <td>31.60935</td>\n",
       "      <td>10.72644</td>\n",
       "      <td>8.41874</td>\n",
       "      <td>7.11435</td>\n",
       "    </tr>\n",
       "    <tr>\n",
       "      <th>3</th>\n",
       "      <td>45.79943</td>\n",
       "      <td>1.0</td>\n",
       "      <td>5.38079</td>\n",
       "      <td>88.06628</td>\n",
       "      <td>6.33099</td>\n",
       "      <td>0.0</td>\n",
       "      <td>5.45784</td>\n",
       "      <td>6.24957</td>\n",
       "      <td>5.57164</td>\n",
       "      <td>50.31551</td>\n",
       "      <td>75.29715</td>\n",
       "      <td>9.26557</td>\n",
       "      <td>4.69702</td>\n",
       "      <td>7.00724</td>\n",
       "    </tr>\n",
       "    <tr>\n",
       "      <th>4</th>\n",
       "      <td>48.81261</td>\n",
       "      <td>0.0</td>\n",
       "      <td>4.72469</td>\n",
       "      <td>44.59816</td>\n",
       "      <td>6.62153</td>\n",
       "      <td>0.0</td>\n",
       "      <td>6.36262</td>\n",
       "      <td>6.44608</td>\n",
       "      <td>6.49617</td>\n",
       "      <td>50.44424</td>\n",
       "      <td>84.90135</td>\n",
       "      <td>9.31196</td>\n",
       "      <td>6.31221</td>\n",
       "      <td>8.54503</td>\n",
       "    </tr>\n",
       "    <tr>\n",
       "      <th>...</th>\n",
       "      <td>...</td>\n",
       "      <td>...</td>\n",
       "      <td>...</td>\n",
       "      <td>...</td>\n",
       "      <td>...</td>\n",
       "      <td>...</td>\n",
       "      <td>...</td>\n",
       "      <td>...</td>\n",
       "      <td>...</td>\n",
       "      <td>...</td>\n",
       "      <td>...</td>\n",
       "      <td>...</td>\n",
       "      <td>...</td>\n",
       "      <td>...</td>\n",
       "    </tr>\n",
       "    <tr>\n",
       "      <th>9883</th>\n",
       "      <td>57.11218</td>\n",
       "      <td>1.0</td>\n",
       "      <td>5.26323</td>\n",
       "      <td>51.27708</td>\n",
       "      <td>5.00976</td>\n",
       "      <td>0.0</td>\n",
       "      <td>4.91856</td>\n",
       "      <td>6.48513</td>\n",
       "      <td>3.03796</td>\n",
       "      <td>41.27456</td>\n",
       "      <td>13.47601</td>\n",
       "      <td>13.88191</td>\n",
       "      <td>5.86663</td>\n",
       "      <td>6.55392</td>\n",
       "    </tr>\n",
       "    <tr>\n",
       "      <th>9884</th>\n",
       "      <td>55.86133</td>\n",
       "      <td>0.0</td>\n",
       "      <td>8.38651</td>\n",
       "      <td>152.99318</td>\n",
       "      <td>9.27774</td>\n",
       "      <td>0.0</td>\n",
       "      <td>5.78542</td>\n",
       "      <td>4.73446</td>\n",
       "      <td>4.92447</td>\n",
       "      <td>44.92183</td>\n",
       "      <td>56.03309</td>\n",
       "      <td>8.23807</td>\n",
       "      <td>6.50680</td>\n",
       "      <td>7.18183</td>\n",
       "    </tr>\n",
       "    <tr>\n",
       "      <th>9885</th>\n",
       "      <td>20.08620</td>\n",
       "      <td>1.0</td>\n",
       "      <td>4.81549</td>\n",
       "      <td>89.14354</td>\n",
       "      <td>6.54037</td>\n",
       "      <td>0.0</td>\n",
       "      <td>5.12928</td>\n",
       "      <td>5.28566</td>\n",
       "      <td>7.07261</td>\n",
       "      <td>20.39526</td>\n",
       "      <td>75.88338</td>\n",
       "      <td>7.06386</td>\n",
       "      <td>5.16492</td>\n",
       "      <td>8.92604</td>\n",
       "    </tr>\n",
       "    <tr>\n",
       "      <th>9886</th>\n",
       "      <td>40.47220</td>\n",
       "      <td>1.0</td>\n",
       "      <td>5.28603</td>\n",
       "      <td>18.62037</td>\n",
       "      <td>6.22798</td>\n",
       "      <td>0.0</td>\n",
       "      <td>6.35608</td>\n",
       "      <td>6.37370</td>\n",
       "      <td>5.59105</td>\n",
       "      <td>18.04463</td>\n",
       "      <td>79.92407</td>\n",
       "      <td>12.06706</td>\n",
       "      <td>5.72674</td>\n",
       "      <td>8.84950</td>\n",
       "    </tr>\n",
       "    <tr>\n",
       "      <th>9887</th>\n",
       "      <td>48.57483</td>\n",
       "      <td>0.0</td>\n",
       "      <td>7.07732</td>\n",
       "      <td>80.32552</td>\n",
       "      <td>6.64795</td>\n",
       "      <td>0.0</td>\n",
       "      <td>6.44016</td>\n",
       "      <td>5.64713</td>\n",
       "      <td>5.23818</td>\n",
       "      <td>42.67865</td>\n",
       "      <td>72.07469</td>\n",
       "      <td>12.06203</td>\n",
       "      <td>7.80533</td>\n",
       "      <td>6.82126</td>\n",
       "    </tr>\n",
       "  </tbody>\n",
       "</table>\n",
       "<p>9888 rows × 14 columns</p>\n",
       "</div>"
      ],
      "text/plain": [
       "         er-cv  indicator  leukocyty     weight    etytr  smoker  erytrocyty  \\\n",
       "0     43.09887        1.0    4.47526   65.57593  5.96219     0.0     6.20665   \n",
       "1     32.51734        1.0    4.41339   58.47779  5.44840     0.0     5.58217   \n",
       "2     54.39106        1.0    4.71119   37.58396  6.75478     1.0     6.36030   \n",
       "3     45.79943        1.0    5.38079   88.06628  6.33099     0.0     5.45784   \n",
       "4     48.81261        0.0    4.72469   44.59816  6.62153     0.0     6.36262   \n",
       "...        ...        ...        ...        ...      ...     ...         ...   \n",
       "9883  57.11218        1.0    5.26323   51.27708  5.00976     0.0     4.91856   \n",
       "9884  55.86133        0.0    8.38651  152.99318  9.27774     0.0     5.78542   \n",
       "9885  20.08620        1.0    4.81549   89.14354  6.54037     0.0     5.12928   \n",
       "9886  40.47220        1.0    5.28603   18.62037  6.22798     0.0     6.35608   \n",
       "9887  48.57483        0.0    7.07732   80.32552  6.64795     0.0     6.44016   \n",
       "\n",
       "      trombocyty  hemoglobin       ast       alp       alt  hematokrit  \\\n",
       "0        5.71427     5.06667  57.92930  57.60257   5.12934     7.11081   \n",
       "1        6.29619     6.90945  61.47846  83.38342  10.59365     8.52324   \n",
       "2        6.67129     4.08668  59.37033  31.60935  10.72644     8.41874   \n",
       "3        6.24957     5.57164  50.31551  75.29715   9.26557     4.69702   \n",
       "4        6.44608     6.49617  50.44424  84.90135   9.31196     6.31221   \n",
       "...          ...         ...       ...       ...       ...         ...   \n",
       "9883     6.48513     3.03796  41.27456  13.47601  13.88191     5.86663   \n",
       "9884     4.73446     4.92447  44.92183  56.03309   8.23807     6.50680   \n",
       "9885     5.28566     7.07261  20.39526  75.88338   7.06386     5.16492   \n",
       "9886     6.37370     5.59105  18.04463  79.92407  12.06706     5.72674   \n",
       "9887     5.64713     5.23818  42.67865  72.07469  12.06203     7.80533   \n",
       "\n",
       "        hbver  \n",
       "0     6.32708  \n",
       "1     9.06429  \n",
       "2     7.11435  \n",
       "3     7.00724  \n",
       "4     8.54503  \n",
       "...       ...  \n",
       "9883  6.55392  \n",
       "9884  7.18183  \n",
       "9885  8.92604  \n",
       "9886  8.84950  \n",
       "9887  6.82126  \n",
       "\n",
       "[9888 rows x 14 columns]"
      ]
     },
     "execution_count": 75,
     "metadata": {},
     "output_type": "execute_result"
    }
   ],
   "source": [
    "labor=labor.drop(['name','relationship','ssn'],axis=1)\n",
    "labor"
   ]
  },
  {
   "cell_type": "markdown",
   "id": "eb5580ba",
   "metadata": {},
   "source": [
    "### Outlier detection\n",
    "\n",
    "2 použité metódy:\n",
    "- drop outliers -> vymaže všetky riadky ktoré obsahujú oulierov\n",
    "- fill outliers -> prepíše hodnoty outlierov na náhodnu hodnotu z horných resp. dolných 10% (bez outlierov)"
   ]
  },
  {
   "cell_type": "code",
   "execution_count": 76,
   "id": "310c6d06",
   "metadata": {},
   "outputs": [],
   "source": [
    "import random\n",
    "def detect_outlier(atr):\n",
    "    lower = atr.quantile(0.25) - 1.5\n",
    "    upper = atr.quantile(0.75) + 1.5\n",
    "    \n",
    "    return atr[(atr > upper) | (atr < lower)]\n",
    "\n",
    "def detect_upper_lower_outliers(atr):\n",
    "    lower = atr.quantile(0.25) - 1.5\n",
    "    upper = atr.quantile(0.75) + 1.5\n",
    "    \n",
    "    return atr[(atr > upper)], atr[(atr < lower)]\n",
    "\n",
    "# Tato funkcia najde vrchnych a spodnych outlierov a vyplni ich nahodnou hodnotou medzi minimom bez outlierov a 10 spodnych % pripadne maximom bez outlierov a 10 vrchnych %\n",
    "def fill_outliers(df, atr):\n",
    "    df.loc[detect_upper_lower_outliers(df[atr])[0].index, [atr]] = random.uniform(df.drop(detect_upper_lower_outliers(df[atr])[0].index)[atr].quantile(0.90), df.drop(detect_upper_lower_outliers(df[atr])[0].index)[atr].max())\n",
    "    df.loc[detect_upper_lower_outliers(df[atr])[1].index, [atr]] = random.uniform(df.drop(detect_upper_lower_outliers(df[atr])[1].index)[atr].min(), df.drop(detect_upper_lower_outliers(df[atr])[1].index)[atr].quantile(0.10))\n",
    "    df[atr]\n",
    "    \n",
    "def handle_outlier(df, atributes, handle_type='fill'):\n",
    "    result = df.copy()\n",
    "    if handle_type == 'fill':\n",
    "        for atribute in atributes:\n",
    "            fill_outliers(result, atribute)\n",
    "    elif handle_type == 'drop':\n",
    "        for atribute in atributes:\n",
    "            result.drop(detect_outlier(result[atribute]).index, inplace=True)\n",
    "    else:\n",
    "        print(\"incorrect handle_type\")\n",
    "    return result"
   ]
  },
  {
   "cell_type": "code",
   "execution_count": 77,
   "id": "6722237d",
   "metadata": {},
   "outputs": [],
   "source": [
    "fill_labor = handle_outlier(labor, labor.columns, 'fill')\n",
    "drop_labor = handle_outlier(labor, labor.columns, 'drop')"
   ]
  },
  {
   "cell_type": "code",
   "execution_count": 78,
   "id": "67ba206f",
   "metadata": {},
   "outputs": [
    {
     "data": {
      "text/html": [
       "<div>\n",
       "<style scoped>\n",
       "    .dataframe tbody tr th:only-of-type {\n",
       "        vertical-align: middle;\n",
       "    }\n",
       "\n",
       "    .dataframe tbody tr th {\n",
       "        vertical-align: top;\n",
       "    }\n",
       "\n",
       "    .dataframe thead th {\n",
       "        text-align: right;\n",
       "    }\n",
       "</style>\n",
       "<table border=\"1\" class=\"dataframe\">\n",
       "  <thead>\n",
       "    <tr style=\"text-align: right;\">\n",
       "      <th></th>\n",
       "      <th>er-cv</th>\n",
       "      <th>indicator</th>\n",
       "      <th>leukocyty</th>\n",
       "      <th>weight</th>\n",
       "      <th>etytr</th>\n",
       "      <th>smoker</th>\n",
       "      <th>erytrocyty</th>\n",
       "      <th>trombocyty</th>\n",
       "      <th>hemoglobin</th>\n",
       "      <th>ast</th>\n",
       "      <th>alp</th>\n",
       "      <th>alt</th>\n",
       "      <th>hematokrit</th>\n",
       "      <th>hbver</th>\n",
       "    </tr>\n",
       "  </thead>\n",
       "  <tbody>\n",
       "    <tr>\n",
       "      <th>0</th>\n",
       "      <td>43.098870</td>\n",
       "      <td>1.0</td>\n",
       "      <td>4.47526</td>\n",
       "      <td>65.575930</td>\n",
       "      <td>5.962190</td>\n",
       "      <td>0.0</td>\n",
       "      <td>6.20665</td>\n",
       "      <td>5.71427</td>\n",
       "      <td>5.06667</td>\n",
       "      <td>57.929300</td>\n",
       "      <td>57.602570</td>\n",
       "      <td>7.540672</td>\n",
       "      <td>7.11081</td>\n",
       "      <td>6.32708</td>\n",
       "    </tr>\n",
       "    <tr>\n",
       "      <th>1</th>\n",
       "      <td>39.006164</td>\n",
       "      <td>1.0</td>\n",
       "      <td>4.41339</td>\n",
       "      <td>58.477790</td>\n",
       "      <td>5.448400</td>\n",
       "      <td>0.0</td>\n",
       "      <td>5.58217</td>\n",
       "      <td>6.29619</td>\n",
       "      <td>6.90945</td>\n",
       "      <td>57.590554</td>\n",
       "      <td>81.604126</td>\n",
       "      <td>10.593650</td>\n",
       "      <td>8.52324</td>\n",
       "      <td>9.06429</td>\n",
       "    </tr>\n",
       "    <tr>\n",
       "      <th>2</th>\n",
       "      <td>54.391060</td>\n",
       "      <td>1.0</td>\n",
       "      <td>4.71119</td>\n",
       "      <td>47.290213</td>\n",
       "      <td>6.754780</td>\n",
       "      <td>1.0</td>\n",
       "      <td>6.36030</td>\n",
       "      <td>6.67129</td>\n",
       "      <td>4.08668</td>\n",
       "      <td>59.370330</td>\n",
       "      <td>31.609350</td>\n",
       "      <td>10.726440</td>\n",
       "      <td>8.41874</td>\n",
       "      <td>7.11435</td>\n",
       "    </tr>\n",
       "    <tr>\n",
       "      <th>3</th>\n",
       "      <td>45.799430</td>\n",
       "      <td>1.0</td>\n",
       "      <td>5.38079</td>\n",
       "      <td>88.066280</td>\n",
       "      <td>6.330990</td>\n",
       "      <td>0.0</td>\n",
       "      <td>5.45784</td>\n",
       "      <td>6.24957</td>\n",
       "      <td>5.57164</td>\n",
       "      <td>50.315510</td>\n",
       "      <td>75.297150</td>\n",
       "      <td>9.265570</td>\n",
       "      <td>4.69702</td>\n",
       "      <td>7.00724</td>\n",
       "    </tr>\n",
       "    <tr>\n",
       "      <th>4</th>\n",
       "      <td>48.812610</td>\n",
       "      <td>0.0</td>\n",
       "      <td>4.72469</td>\n",
       "      <td>44.598160</td>\n",
       "      <td>6.621530</td>\n",
       "      <td>0.0</td>\n",
       "      <td>6.36262</td>\n",
       "      <td>6.44608</td>\n",
       "      <td>6.49617</td>\n",
       "      <td>50.444240</td>\n",
       "      <td>81.604126</td>\n",
       "      <td>9.311960</td>\n",
       "      <td>6.31221</td>\n",
       "      <td>8.54503</td>\n",
       "    </tr>\n",
       "    <tr>\n",
       "      <th>...</th>\n",
       "      <td>...</td>\n",
       "      <td>...</td>\n",
       "      <td>...</td>\n",
       "      <td>...</td>\n",
       "      <td>...</td>\n",
       "      <td>...</td>\n",
       "      <td>...</td>\n",
       "      <td>...</td>\n",
       "      <td>...</td>\n",
       "      <td>...</td>\n",
       "      <td>...</td>\n",
       "      <td>...</td>\n",
       "      <td>...</td>\n",
       "      <td>...</td>\n",
       "    </tr>\n",
       "    <tr>\n",
       "      <th>9883</th>\n",
       "      <td>57.112180</td>\n",
       "      <td>1.0</td>\n",
       "      <td>5.26323</td>\n",
       "      <td>51.277080</td>\n",
       "      <td>5.009760</td>\n",
       "      <td>0.0</td>\n",
       "      <td>4.91856</td>\n",
       "      <td>6.48513</td>\n",
       "      <td>3.03796</td>\n",
       "      <td>41.274560</td>\n",
       "      <td>37.584735</td>\n",
       "      <td>13.881910</td>\n",
       "      <td>5.86663</td>\n",
       "      <td>6.55392</td>\n",
       "    </tr>\n",
       "    <tr>\n",
       "      <th>9884</th>\n",
       "      <td>55.861330</td>\n",
       "      <td>0.0</td>\n",
       "      <td>8.38651</td>\n",
       "      <td>92.058076</td>\n",
       "      <td>7.930276</td>\n",
       "      <td>0.0</td>\n",
       "      <td>5.78542</td>\n",
       "      <td>4.73446</td>\n",
       "      <td>4.92447</td>\n",
       "      <td>44.921830</td>\n",
       "      <td>56.033090</td>\n",
       "      <td>8.238070</td>\n",
       "      <td>6.50680</td>\n",
       "      <td>7.18183</td>\n",
       "    </tr>\n",
       "    <tr>\n",
       "      <th>9885</th>\n",
       "      <td>39.006164</td>\n",
       "      <td>1.0</td>\n",
       "      <td>4.81549</td>\n",
       "      <td>89.143540</td>\n",
       "      <td>6.540370</td>\n",
       "      <td>0.0</td>\n",
       "      <td>5.12928</td>\n",
       "      <td>5.28566</td>\n",
       "      <td>7.07261</td>\n",
       "      <td>39.357188</td>\n",
       "      <td>75.883380</td>\n",
       "      <td>7.063860</td>\n",
       "      <td>5.16492</td>\n",
       "      <td>8.92604</td>\n",
       "    </tr>\n",
       "    <tr>\n",
       "      <th>9886</th>\n",
       "      <td>40.472200</td>\n",
       "      <td>1.0</td>\n",
       "      <td>5.28603</td>\n",
       "      <td>47.290213</td>\n",
       "      <td>6.227980</td>\n",
       "      <td>0.0</td>\n",
       "      <td>6.35608</td>\n",
       "      <td>6.37370</td>\n",
       "      <td>5.59105</td>\n",
       "      <td>39.357188</td>\n",
       "      <td>79.924070</td>\n",
       "      <td>12.067060</td>\n",
       "      <td>5.72674</td>\n",
       "      <td>8.84950</td>\n",
       "    </tr>\n",
       "    <tr>\n",
       "      <th>9887</th>\n",
       "      <td>48.574830</td>\n",
       "      <td>0.0</td>\n",
       "      <td>7.07732</td>\n",
       "      <td>80.325520</td>\n",
       "      <td>6.647950</td>\n",
       "      <td>0.0</td>\n",
       "      <td>6.44016</td>\n",
       "      <td>5.64713</td>\n",
       "      <td>5.23818</td>\n",
       "      <td>42.678650</td>\n",
       "      <td>72.074690</td>\n",
       "      <td>12.062030</td>\n",
       "      <td>7.80533</td>\n",
       "      <td>6.82126</td>\n",
       "    </tr>\n",
       "  </tbody>\n",
       "</table>\n",
       "<p>9888 rows × 14 columns</p>\n",
       "</div>"
      ],
      "text/plain": [
       "          er-cv  indicator  leukocyty     weight     etytr  smoker  \\\n",
       "0     43.098870        1.0    4.47526  65.575930  5.962190     0.0   \n",
       "1     39.006164        1.0    4.41339  58.477790  5.448400     0.0   \n",
       "2     54.391060        1.0    4.71119  47.290213  6.754780     1.0   \n",
       "3     45.799430        1.0    5.38079  88.066280  6.330990     0.0   \n",
       "4     48.812610        0.0    4.72469  44.598160  6.621530     0.0   \n",
       "...         ...        ...        ...        ...       ...     ...   \n",
       "9883  57.112180        1.0    5.26323  51.277080  5.009760     0.0   \n",
       "9884  55.861330        0.0    8.38651  92.058076  7.930276     0.0   \n",
       "9885  39.006164        1.0    4.81549  89.143540  6.540370     0.0   \n",
       "9886  40.472200        1.0    5.28603  47.290213  6.227980     0.0   \n",
       "9887  48.574830        0.0    7.07732  80.325520  6.647950     0.0   \n",
       "\n",
       "      erytrocyty  trombocyty  hemoglobin        ast        alp        alt  \\\n",
       "0        6.20665     5.71427     5.06667  57.929300  57.602570   7.540672   \n",
       "1        5.58217     6.29619     6.90945  57.590554  81.604126  10.593650   \n",
       "2        6.36030     6.67129     4.08668  59.370330  31.609350  10.726440   \n",
       "3        5.45784     6.24957     5.57164  50.315510  75.297150   9.265570   \n",
       "4        6.36262     6.44608     6.49617  50.444240  81.604126   9.311960   \n",
       "...          ...         ...         ...        ...        ...        ...   \n",
       "9883     4.91856     6.48513     3.03796  41.274560  37.584735  13.881910   \n",
       "9884     5.78542     4.73446     4.92447  44.921830  56.033090   8.238070   \n",
       "9885     5.12928     5.28566     7.07261  39.357188  75.883380   7.063860   \n",
       "9886     6.35608     6.37370     5.59105  39.357188  79.924070  12.067060   \n",
       "9887     6.44016     5.64713     5.23818  42.678650  72.074690  12.062030   \n",
       "\n",
       "      hematokrit    hbver  \n",
       "0        7.11081  6.32708  \n",
       "1        8.52324  9.06429  \n",
       "2        8.41874  7.11435  \n",
       "3        4.69702  7.00724  \n",
       "4        6.31221  8.54503  \n",
       "...          ...      ...  \n",
       "9883     5.86663  6.55392  \n",
       "9884     6.50680  7.18183  \n",
       "9885     5.16492  8.92604  \n",
       "9886     5.72674  8.84950  \n",
       "9887     7.80533  6.82126  \n",
       "\n",
       "[9888 rows x 14 columns]"
      ]
     },
     "execution_count": 78,
     "metadata": {},
     "output_type": "execute_result"
    }
   ],
   "source": [
    "fill_labor"
   ]
  },
  {
   "cell_type": "code",
   "execution_count": 79,
   "id": "8c114e15",
   "metadata": {},
   "outputs": [
    {
     "data": {
      "text/html": [
       "<div>\n",
       "<style scoped>\n",
       "    .dataframe tbody tr th:only-of-type {\n",
       "        vertical-align: middle;\n",
       "    }\n",
       "\n",
       "    .dataframe tbody tr th {\n",
       "        vertical-align: top;\n",
       "    }\n",
       "\n",
       "    .dataframe thead th {\n",
       "        text-align: right;\n",
       "    }\n",
       "</style>\n",
       "<table border=\"1\" class=\"dataframe\">\n",
       "  <thead>\n",
       "    <tr style=\"text-align: right;\">\n",
       "      <th></th>\n",
       "      <th>er-cv</th>\n",
       "      <th>indicator</th>\n",
       "      <th>leukocyty</th>\n",
       "      <th>weight</th>\n",
       "      <th>etytr</th>\n",
       "      <th>smoker</th>\n",
       "      <th>erytrocyty</th>\n",
       "      <th>trombocyty</th>\n",
       "      <th>hemoglobin</th>\n",
       "      <th>ast</th>\n",
       "      <th>alp</th>\n",
       "      <th>alt</th>\n",
       "      <th>hematokrit</th>\n",
       "      <th>hbver</th>\n",
       "    </tr>\n",
       "  </thead>\n",
       "  <tbody>\n",
       "    <tr>\n",
       "      <th>3</th>\n",
       "      <td>45.79943</td>\n",
       "      <td>1.0</td>\n",
       "      <td>5.38079</td>\n",
       "      <td>88.06628</td>\n",
       "      <td>6.33099</td>\n",
       "      <td>0.0</td>\n",
       "      <td>5.45784</td>\n",
       "      <td>6.24957</td>\n",
       "      <td>5.57164</td>\n",
       "      <td>50.31551</td>\n",
       "      <td>75.29715</td>\n",
       "      <td>9.26557</td>\n",
       "      <td>4.69702</td>\n",
       "      <td>7.00724</td>\n",
       "    </tr>\n",
       "    <tr>\n",
       "      <th>9</th>\n",
       "      <td>44.97858</td>\n",
       "      <td>0.0</td>\n",
       "      <td>8.69583</td>\n",
       "      <td>81.37918</td>\n",
       "      <td>4.84903</td>\n",
       "      <td>0.0</td>\n",
       "      <td>4.97382</td>\n",
       "      <td>6.65963</td>\n",
       "      <td>5.12654</td>\n",
       "      <td>42.11790</td>\n",
       "      <td>68.35640</td>\n",
       "      <td>12.36691</td>\n",
       "      <td>6.48790</td>\n",
       "      <td>5.42826</td>\n",
       "    </tr>\n",
       "    <tr>\n",
       "      <th>13</th>\n",
       "      <td>45.90824</td>\n",
       "      <td>1.0</td>\n",
       "      <td>5.34524</td>\n",
       "      <td>49.41696</td>\n",
       "      <td>4.46119</td>\n",
       "      <td>0.0</td>\n",
       "      <td>4.71704</td>\n",
       "      <td>6.12707</td>\n",
       "      <td>4.75162</td>\n",
       "      <td>54.71310</td>\n",
       "      <td>59.17991</td>\n",
       "      <td>6.99463</td>\n",
       "      <td>4.75046</td>\n",
       "      <td>6.31095</td>\n",
       "    </tr>\n",
       "    <tr>\n",
       "      <th>14</th>\n",
       "      <td>58.93732</td>\n",
       "      <td>1.0</td>\n",
       "      <td>5.19537</td>\n",
       "      <td>89.61914</td>\n",
       "      <td>6.07468</td>\n",
       "      <td>0.0</td>\n",
       "      <td>6.48464</td>\n",
       "      <td>4.82813</td>\n",
       "      <td>4.31620</td>\n",
       "      <td>51.02476</td>\n",
       "      <td>35.11703</td>\n",
       "      <td>9.82264</td>\n",
       "      <td>8.26802</td>\n",
       "      <td>8.48115</td>\n",
       "    </tr>\n",
       "    <tr>\n",
       "      <th>58</th>\n",
       "      <td>41.18274</td>\n",
       "      <td>1.0</td>\n",
       "      <td>6.13113</td>\n",
       "      <td>79.00431</td>\n",
       "      <td>5.40349</td>\n",
       "      <td>0.0</td>\n",
       "      <td>6.95126</td>\n",
       "      <td>5.59378</td>\n",
       "      <td>5.46566</td>\n",
       "      <td>41.46585</td>\n",
       "      <td>79.07919</td>\n",
       "      <td>13.58269</td>\n",
       "      <td>4.69549</td>\n",
       "      <td>6.98272</td>\n",
       "    </tr>\n",
       "    <tr>\n",
       "      <th>...</th>\n",
       "      <td>...</td>\n",
       "      <td>...</td>\n",
       "      <td>...</td>\n",
       "      <td>...</td>\n",
       "      <td>...</td>\n",
       "      <td>...</td>\n",
       "      <td>...</td>\n",
       "      <td>...</td>\n",
       "      <td>...</td>\n",
       "      <td>...</td>\n",
       "      <td>...</td>\n",
       "      <td>...</td>\n",
       "      <td>...</td>\n",
       "      <td>...</td>\n",
       "    </tr>\n",
       "    <tr>\n",
       "      <th>9718</th>\n",
       "      <td>50.45523</td>\n",
       "      <td>1.0</td>\n",
       "      <td>8.27761</td>\n",
       "      <td>79.01011</td>\n",
       "      <td>5.43564</td>\n",
       "      <td>1.0</td>\n",
       "      <td>5.11021</td>\n",
       "      <td>6.76488</td>\n",
       "      <td>4.41210</td>\n",
       "      <td>58.46080</td>\n",
       "      <td>34.60727</td>\n",
       "      <td>8.36119</td>\n",
       "      <td>4.32502</td>\n",
       "      <td>7.42513</td>\n",
       "    </tr>\n",
       "    <tr>\n",
       "      <th>9747</th>\n",
       "      <td>48.68953</td>\n",
       "      <td>1.0</td>\n",
       "      <td>9.34029</td>\n",
       "      <td>88.40117</td>\n",
       "      <td>6.35719</td>\n",
       "      <td>0.0</td>\n",
       "      <td>6.74175</td>\n",
       "      <td>5.07266</td>\n",
       "      <td>4.44718</td>\n",
       "      <td>57.33270</td>\n",
       "      <td>37.94382</td>\n",
       "      <td>11.24163</td>\n",
       "      <td>6.90049</td>\n",
       "      <td>7.29809</td>\n",
       "    </tr>\n",
       "    <tr>\n",
       "      <th>9780</th>\n",
       "      <td>45.16792</td>\n",
       "      <td>1.0</td>\n",
       "      <td>7.59033</td>\n",
       "      <td>53.47198</td>\n",
       "      <td>5.38901</td>\n",
       "      <td>1.0</td>\n",
       "      <td>6.08656</td>\n",
       "      <td>6.36043</td>\n",
       "      <td>5.34227</td>\n",
       "      <td>50.11715</td>\n",
       "      <td>75.40637</td>\n",
       "      <td>11.44836</td>\n",
       "      <td>4.13228</td>\n",
       "      <td>8.72397</td>\n",
       "    </tr>\n",
       "    <tr>\n",
       "      <th>9797</th>\n",
       "      <td>37.67508</td>\n",
       "      <td>1.0</td>\n",
       "      <td>4.96242</td>\n",
       "      <td>62.83305</td>\n",
       "      <td>6.90270</td>\n",
       "      <td>1.0</td>\n",
       "      <td>6.72200</td>\n",
       "      <td>4.17517</td>\n",
       "      <td>7.19763</td>\n",
       "      <td>49.73737</td>\n",
       "      <td>75.40351</td>\n",
       "      <td>12.21622</td>\n",
       "      <td>7.06372</td>\n",
       "      <td>9.35406</td>\n",
       "    </tr>\n",
       "    <tr>\n",
       "      <th>9887</th>\n",
       "      <td>48.57483</td>\n",
       "      <td>0.0</td>\n",
       "      <td>7.07732</td>\n",
       "      <td>80.32552</td>\n",
       "      <td>6.64795</td>\n",
       "      <td>0.0</td>\n",
       "      <td>6.44016</td>\n",
       "      <td>5.64713</td>\n",
       "      <td>5.23818</td>\n",
       "      <td>42.67865</td>\n",
       "      <td>72.07469</td>\n",
       "      <td>12.06203</td>\n",
       "      <td>7.80533</td>\n",
       "      <td>6.82126</td>\n",
       "    </tr>\n",
       "  </tbody>\n",
       "</table>\n",
       "<p>432 rows × 14 columns</p>\n",
       "</div>"
      ],
      "text/plain": [
       "         er-cv  indicator  leukocyty    weight    etytr  smoker  erytrocyty  \\\n",
       "3     45.79943        1.0    5.38079  88.06628  6.33099     0.0     5.45784   \n",
       "9     44.97858        0.0    8.69583  81.37918  4.84903     0.0     4.97382   \n",
       "13    45.90824        1.0    5.34524  49.41696  4.46119     0.0     4.71704   \n",
       "14    58.93732        1.0    5.19537  89.61914  6.07468     0.0     6.48464   \n",
       "58    41.18274        1.0    6.13113  79.00431  5.40349     0.0     6.95126   \n",
       "...        ...        ...        ...       ...      ...     ...         ...   \n",
       "9718  50.45523        1.0    8.27761  79.01011  5.43564     1.0     5.11021   \n",
       "9747  48.68953        1.0    9.34029  88.40117  6.35719     0.0     6.74175   \n",
       "9780  45.16792        1.0    7.59033  53.47198  5.38901     1.0     6.08656   \n",
       "9797  37.67508        1.0    4.96242  62.83305  6.90270     1.0     6.72200   \n",
       "9887  48.57483        0.0    7.07732  80.32552  6.64795     0.0     6.44016   \n",
       "\n",
       "      trombocyty  hemoglobin       ast       alp       alt  hematokrit  \\\n",
       "3        6.24957     5.57164  50.31551  75.29715   9.26557     4.69702   \n",
       "9        6.65963     5.12654  42.11790  68.35640  12.36691     6.48790   \n",
       "13       6.12707     4.75162  54.71310  59.17991   6.99463     4.75046   \n",
       "14       4.82813     4.31620  51.02476  35.11703   9.82264     8.26802   \n",
       "58       5.59378     5.46566  41.46585  79.07919  13.58269     4.69549   \n",
       "...          ...         ...       ...       ...       ...         ...   \n",
       "9718     6.76488     4.41210  58.46080  34.60727   8.36119     4.32502   \n",
       "9747     5.07266     4.44718  57.33270  37.94382  11.24163     6.90049   \n",
       "9780     6.36043     5.34227  50.11715  75.40637  11.44836     4.13228   \n",
       "9797     4.17517     7.19763  49.73737  75.40351  12.21622     7.06372   \n",
       "9887     5.64713     5.23818  42.67865  72.07469  12.06203     7.80533   \n",
       "\n",
       "        hbver  \n",
       "3     7.00724  \n",
       "9     5.42826  \n",
       "13    6.31095  \n",
       "14    8.48115  \n",
       "58    6.98272  \n",
       "...       ...  \n",
       "9718  7.42513  \n",
       "9747  7.29809  \n",
       "9780  8.72397  \n",
       "9797  9.35406  \n",
       "9887  6.82126  \n",
       "\n",
       "[432 rows x 14 columns]"
      ]
     },
     "execution_count": 79,
     "metadata": {},
     "output_type": "execute_result"
    }
   ],
   "source": [
    "drop_labor"
   ]
  },
  {
   "cell_type": "markdown",
   "id": "a3b6cf8b-ae6e-4e2e-9c7a-f94c848551da",
   "metadata": {},
   "source": [
    "Necháme si dáta vytvorené metódou fill outlier, keďže po použití drop outlier by nám zostalo iba 400 záznamov"
   ]
  },
  {
   "cell_type": "code",
   "execution_count": 80,
   "id": "6c1c462a",
   "metadata": {},
   "outputs": [],
   "source": [
    "labor = fill_labor"
   ]
  },
  {
   "cell_type": "markdown",
   "id": "8c8f5fcb",
   "metadata": {},
   "source": [
    "### Presun hlavného atribútu do prvého stĺpca"
   ]
  },
  {
   "cell_type": "code",
   "execution_count": 81,
   "id": "ab99f0ab",
   "metadata": {},
   "outputs": [
    {
     "data": {
      "text/html": [
       "<div>\n",
       "<style scoped>\n",
       "    .dataframe tbody tr th:only-of-type {\n",
       "        vertical-align: middle;\n",
       "    }\n",
       "\n",
       "    .dataframe tbody tr th {\n",
       "        vertical-align: top;\n",
       "    }\n",
       "\n",
       "    .dataframe thead th {\n",
       "        text-align: right;\n",
       "    }\n",
       "</style>\n",
       "<table border=\"1\" class=\"dataframe\">\n",
       "  <thead>\n",
       "    <tr style=\"text-align: right;\">\n",
       "      <th></th>\n",
       "      <th>indicator</th>\n",
       "      <th>er-cv</th>\n",
       "      <th>leukocyty</th>\n",
       "      <th>weight</th>\n",
       "      <th>etytr</th>\n",
       "      <th>smoker</th>\n",
       "      <th>erytrocyty</th>\n",
       "      <th>trombocyty</th>\n",
       "      <th>hemoglobin</th>\n",
       "      <th>ast</th>\n",
       "      <th>alp</th>\n",
       "      <th>alt</th>\n",
       "      <th>hematokrit</th>\n",
       "      <th>hbver</th>\n",
       "    </tr>\n",
       "  </thead>\n",
       "  <tbody>\n",
       "    <tr>\n",
       "      <th>0</th>\n",
       "      <td>1.0</td>\n",
       "      <td>43.098870</td>\n",
       "      <td>4.47526</td>\n",
       "      <td>65.575930</td>\n",
       "      <td>5.962190</td>\n",
       "      <td>0.0</td>\n",
       "      <td>6.20665</td>\n",
       "      <td>5.71427</td>\n",
       "      <td>5.06667</td>\n",
       "      <td>57.929300</td>\n",
       "      <td>57.602570</td>\n",
       "      <td>7.540672</td>\n",
       "      <td>7.11081</td>\n",
       "      <td>6.32708</td>\n",
       "    </tr>\n",
       "    <tr>\n",
       "      <th>1</th>\n",
       "      <td>1.0</td>\n",
       "      <td>39.006164</td>\n",
       "      <td>4.41339</td>\n",
       "      <td>58.477790</td>\n",
       "      <td>5.448400</td>\n",
       "      <td>0.0</td>\n",
       "      <td>5.58217</td>\n",
       "      <td>6.29619</td>\n",
       "      <td>6.90945</td>\n",
       "      <td>57.590554</td>\n",
       "      <td>81.604126</td>\n",
       "      <td>10.593650</td>\n",
       "      <td>8.52324</td>\n",
       "      <td>9.06429</td>\n",
       "    </tr>\n",
       "    <tr>\n",
       "      <th>2</th>\n",
       "      <td>1.0</td>\n",
       "      <td>54.391060</td>\n",
       "      <td>4.71119</td>\n",
       "      <td>47.290213</td>\n",
       "      <td>6.754780</td>\n",
       "      <td>1.0</td>\n",
       "      <td>6.36030</td>\n",
       "      <td>6.67129</td>\n",
       "      <td>4.08668</td>\n",
       "      <td>59.370330</td>\n",
       "      <td>31.609350</td>\n",
       "      <td>10.726440</td>\n",
       "      <td>8.41874</td>\n",
       "      <td>7.11435</td>\n",
       "    </tr>\n",
       "    <tr>\n",
       "      <th>3</th>\n",
       "      <td>1.0</td>\n",
       "      <td>45.799430</td>\n",
       "      <td>5.38079</td>\n",
       "      <td>88.066280</td>\n",
       "      <td>6.330990</td>\n",
       "      <td>0.0</td>\n",
       "      <td>5.45784</td>\n",
       "      <td>6.24957</td>\n",
       "      <td>5.57164</td>\n",
       "      <td>50.315510</td>\n",
       "      <td>75.297150</td>\n",
       "      <td>9.265570</td>\n",
       "      <td>4.69702</td>\n",
       "      <td>7.00724</td>\n",
       "    </tr>\n",
       "    <tr>\n",
       "      <th>4</th>\n",
       "      <td>0.0</td>\n",
       "      <td>48.812610</td>\n",
       "      <td>4.72469</td>\n",
       "      <td>44.598160</td>\n",
       "      <td>6.621530</td>\n",
       "      <td>0.0</td>\n",
       "      <td>6.36262</td>\n",
       "      <td>6.44608</td>\n",
       "      <td>6.49617</td>\n",
       "      <td>50.444240</td>\n",
       "      <td>81.604126</td>\n",
       "      <td>9.311960</td>\n",
       "      <td>6.31221</td>\n",
       "      <td>8.54503</td>\n",
       "    </tr>\n",
       "    <tr>\n",
       "      <th>...</th>\n",
       "      <td>...</td>\n",
       "      <td>...</td>\n",
       "      <td>...</td>\n",
       "      <td>...</td>\n",
       "      <td>...</td>\n",
       "      <td>...</td>\n",
       "      <td>...</td>\n",
       "      <td>...</td>\n",
       "      <td>...</td>\n",
       "      <td>...</td>\n",
       "      <td>...</td>\n",
       "      <td>...</td>\n",
       "      <td>...</td>\n",
       "      <td>...</td>\n",
       "    </tr>\n",
       "    <tr>\n",
       "      <th>9883</th>\n",
       "      <td>1.0</td>\n",
       "      <td>57.112180</td>\n",
       "      <td>5.26323</td>\n",
       "      <td>51.277080</td>\n",
       "      <td>5.009760</td>\n",
       "      <td>0.0</td>\n",
       "      <td>4.91856</td>\n",
       "      <td>6.48513</td>\n",
       "      <td>3.03796</td>\n",
       "      <td>41.274560</td>\n",
       "      <td>37.584735</td>\n",
       "      <td>13.881910</td>\n",
       "      <td>5.86663</td>\n",
       "      <td>6.55392</td>\n",
       "    </tr>\n",
       "    <tr>\n",
       "      <th>9884</th>\n",
       "      <td>0.0</td>\n",
       "      <td>55.861330</td>\n",
       "      <td>8.38651</td>\n",
       "      <td>92.058076</td>\n",
       "      <td>7.930276</td>\n",
       "      <td>0.0</td>\n",
       "      <td>5.78542</td>\n",
       "      <td>4.73446</td>\n",
       "      <td>4.92447</td>\n",
       "      <td>44.921830</td>\n",
       "      <td>56.033090</td>\n",
       "      <td>8.238070</td>\n",
       "      <td>6.50680</td>\n",
       "      <td>7.18183</td>\n",
       "    </tr>\n",
       "    <tr>\n",
       "      <th>9885</th>\n",
       "      <td>1.0</td>\n",
       "      <td>39.006164</td>\n",
       "      <td>4.81549</td>\n",
       "      <td>89.143540</td>\n",
       "      <td>6.540370</td>\n",
       "      <td>0.0</td>\n",
       "      <td>5.12928</td>\n",
       "      <td>5.28566</td>\n",
       "      <td>7.07261</td>\n",
       "      <td>39.357188</td>\n",
       "      <td>75.883380</td>\n",
       "      <td>7.063860</td>\n",
       "      <td>5.16492</td>\n",
       "      <td>8.92604</td>\n",
       "    </tr>\n",
       "    <tr>\n",
       "      <th>9886</th>\n",
       "      <td>1.0</td>\n",
       "      <td>40.472200</td>\n",
       "      <td>5.28603</td>\n",
       "      <td>47.290213</td>\n",
       "      <td>6.227980</td>\n",
       "      <td>0.0</td>\n",
       "      <td>6.35608</td>\n",
       "      <td>6.37370</td>\n",
       "      <td>5.59105</td>\n",
       "      <td>39.357188</td>\n",
       "      <td>79.924070</td>\n",
       "      <td>12.067060</td>\n",
       "      <td>5.72674</td>\n",
       "      <td>8.84950</td>\n",
       "    </tr>\n",
       "    <tr>\n",
       "      <th>9887</th>\n",
       "      <td>0.0</td>\n",
       "      <td>48.574830</td>\n",
       "      <td>7.07732</td>\n",
       "      <td>80.325520</td>\n",
       "      <td>6.647950</td>\n",
       "      <td>0.0</td>\n",
       "      <td>6.44016</td>\n",
       "      <td>5.64713</td>\n",
       "      <td>5.23818</td>\n",
       "      <td>42.678650</td>\n",
       "      <td>72.074690</td>\n",
       "      <td>12.062030</td>\n",
       "      <td>7.80533</td>\n",
       "      <td>6.82126</td>\n",
       "    </tr>\n",
       "  </tbody>\n",
       "</table>\n",
       "<p>9888 rows × 14 columns</p>\n",
       "</div>"
      ],
      "text/plain": [
       "      indicator      er-cv  leukocyty     weight     etytr  smoker  \\\n",
       "0           1.0  43.098870    4.47526  65.575930  5.962190     0.0   \n",
       "1           1.0  39.006164    4.41339  58.477790  5.448400     0.0   \n",
       "2           1.0  54.391060    4.71119  47.290213  6.754780     1.0   \n",
       "3           1.0  45.799430    5.38079  88.066280  6.330990     0.0   \n",
       "4           0.0  48.812610    4.72469  44.598160  6.621530     0.0   \n",
       "...         ...        ...        ...        ...       ...     ...   \n",
       "9883        1.0  57.112180    5.26323  51.277080  5.009760     0.0   \n",
       "9884        0.0  55.861330    8.38651  92.058076  7.930276     0.0   \n",
       "9885        1.0  39.006164    4.81549  89.143540  6.540370     0.0   \n",
       "9886        1.0  40.472200    5.28603  47.290213  6.227980     0.0   \n",
       "9887        0.0  48.574830    7.07732  80.325520  6.647950     0.0   \n",
       "\n",
       "      erytrocyty  trombocyty  hemoglobin        ast        alp        alt  \\\n",
       "0        6.20665     5.71427     5.06667  57.929300  57.602570   7.540672   \n",
       "1        5.58217     6.29619     6.90945  57.590554  81.604126  10.593650   \n",
       "2        6.36030     6.67129     4.08668  59.370330  31.609350  10.726440   \n",
       "3        5.45784     6.24957     5.57164  50.315510  75.297150   9.265570   \n",
       "4        6.36262     6.44608     6.49617  50.444240  81.604126   9.311960   \n",
       "...          ...         ...         ...        ...        ...        ...   \n",
       "9883     4.91856     6.48513     3.03796  41.274560  37.584735  13.881910   \n",
       "9884     5.78542     4.73446     4.92447  44.921830  56.033090   8.238070   \n",
       "9885     5.12928     5.28566     7.07261  39.357188  75.883380   7.063860   \n",
       "9886     6.35608     6.37370     5.59105  39.357188  79.924070  12.067060   \n",
       "9887     6.44016     5.64713     5.23818  42.678650  72.074690  12.062030   \n",
       "\n",
       "      hematokrit    hbver  \n",
       "0        7.11081  6.32708  \n",
       "1        8.52324  9.06429  \n",
       "2        8.41874  7.11435  \n",
       "3        4.69702  7.00724  \n",
       "4        6.31221  8.54503  \n",
       "...          ...      ...  \n",
       "9883     5.86663  6.55392  \n",
       "9884     6.50680  7.18183  \n",
       "9885     5.16492  8.92604  \n",
       "9886     5.72674  8.84950  \n",
       "9887     7.80533  6.82126  \n",
       "\n",
       "[9888 rows x 14 columns]"
      ]
     },
     "execution_count": 81,
     "metadata": {},
     "output_type": "execute_result"
    }
   ],
   "source": [
    "indic = labor['indicator']\n",
    "labor.drop(labels=['indicator'], axis=1,inplace = True)\n",
    "labor.insert(0,'indicator',indic)\n",
    "labor"
   ]
  },
  {
   "cell_type": "markdown",
   "id": "57a1b29a",
   "metadata": {},
   "source": [
    "## Predspracovanie\n",
    "### Rozdelenie dát na skupiny"
   ]
  },
  {
   "cell_type": "markdown",
   "id": "1353f8fa",
   "metadata": {},
   "source": [
    "Najprv sú všetky dáta rozdelené na 2 skupiny pomerom určeným premennou split_by"
   ]
  },
  {
   "cell_type": "code",
   "execution_count": 82,
   "id": "e1d761fb",
   "metadata": {},
   "outputs": [],
   "source": [
    "split_by = 0.75"
   ]
  },
  {
   "cell_type": "code",
   "execution_count": 83,
   "id": "0c27eda7",
   "metadata": {},
   "outputs": [
    {
     "data": {
      "text/html": [
       "<div>\n",
       "<style scoped>\n",
       "    .dataframe tbody tr th:only-of-type {\n",
       "        vertical-align: middle;\n",
       "    }\n",
       "\n",
       "    .dataframe tbody tr th {\n",
       "        vertical-align: top;\n",
       "    }\n",
       "\n",
       "    .dataframe thead th {\n",
       "        text-align: right;\n",
       "    }\n",
       "</style>\n",
       "<table border=\"1\" class=\"dataframe\">\n",
       "  <thead>\n",
       "    <tr style=\"text-align: right;\">\n",
       "      <th></th>\n",
       "      <th>indicator</th>\n",
       "      <th>er-cv</th>\n",
       "      <th>leukocyty</th>\n",
       "      <th>weight</th>\n",
       "      <th>etytr</th>\n",
       "      <th>smoker</th>\n",
       "      <th>erytrocyty</th>\n",
       "      <th>trombocyty</th>\n",
       "      <th>hemoglobin</th>\n",
       "      <th>ast</th>\n",
       "      <th>alp</th>\n",
       "      <th>alt</th>\n",
       "      <th>hematokrit</th>\n",
       "      <th>hbver</th>\n",
       "    </tr>\n",
       "  </thead>\n",
       "  <tbody>\n",
       "    <tr>\n",
       "      <th>0</th>\n",
       "      <td>1.0</td>\n",
       "      <td>43.098870</td>\n",
       "      <td>4.47526</td>\n",
       "      <td>65.575930</td>\n",
       "      <td>5.962190</td>\n",
       "      <td>0.0</td>\n",
       "      <td>6.20665</td>\n",
       "      <td>5.71427</td>\n",
       "      <td>5.066670</td>\n",
       "      <td>57.929300</td>\n",
       "      <td>57.602570</td>\n",
       "      <td>7.540672</td>\n",
       "      <td>7.110810</td>\n",
       "      <td>6.32708</td>\n",
       "    </tr>\n",
       "    <tr>\n",
       "      <th>1</th>\n",
       "      <td>1.0</td>\n",
       "      <td>39.006164</td>\n",
       "      <td>4.41339</td>\n",
       "      <td>58.477790</td>\n",
       "      <td>5.448400</td>\n",
       "      <td>0.0</td>\n",
       "      <td>5.58217</td>\n",
       "      <td>6.29619</td>\n",
       "      <td>6.909450</td>\n",
       "      <td>57.590554</td>\n",
       "      <td>81.604126</td>\n",
       "      <td>10.593650</td>\n",
       "      <td>8.523240</td>\n",
       "      <td>9.06429</td>\n",
       "    </tr>\n",
       "    <tr>\n",
       "      <th>4</th>\n",
       "      <td>0.0</td>\n",
       "      <td>48.812610</td>\n",
       "      <td>4.72469</td>\n",
       "      <td>44.598160</td>\n",
       "      <td>6.621530</td>\n",
       "      <td>0.0</td>\n",
       "      <td>6.36262</td>\n",
       "      <td>6.44608</td>\n",
       "      <td>6.496170</td>\n",
       "      <td>50.444240</td>\n",
       "      <td>81.604126</td>\n",
       "      <td>9.311960</td>\n",
       "      <td>6.312210</td>\n",
       "      <td>8.54503</td>\n",
       "    </tr>\n",
       "    <tr>\n",
       "      <th>6</th>\n",
       "      <td>1.0</td>\n",
       "      <td>40.092490</td>\n",
       "      <td>5.59888</td>\n",
       "      <td>47.290213</td>\n",
       "      <td>4.866210</td>\n",
       "      <td>0.0</td>\n",
       "      <td>5.85262</td>\n",
       "      <td>6.27295</td>\n",
       "      <td>4.973570</td>\n",
       "      <td>39.357188</td>\n",
       "      <td>65.622940</td>\n",
       "      <td>6.723220</td>\n",
       "      <td>4.450285</td>\n",
       "      <td>6.62205</td>\n",
       "    </tr>\n",
       "    <tr>\n",
       "      <th>7</th>\n",
       "      <td>1.0</td>\n",
       "      <td>58.864220</td>\n",
       "      <td>5.61325</td>\n",
       "      <td>47.290213</td>\n",
       "      <td>7.608290</td>\n",
       "      <td>0.0</td>\n",
       "      <td>5.30479</td>\n",
       "      <td>4.90232</td>\n",
       "      <td>4.268420</td>\n",
       "      <td>38.991060</td>\n",
       "      <td>37.584735</td>\n",
       "      <td>8.147130</td>\n",
       "      <td>7.835700</td>\n",
       "      <td>8.92026</td>\n",
       "    </tr>\n",
       "    <tr>\n",
       "      <th>...</th>\n",
       "      <td>...</td>\n",
       "      <td>...</td>\n",
       "      <td>...</td>\n",
       "      <td>...</td>\n",
       "      <td>...</td>\n",
       "      <td>...</td>\n",
       "      <td>...</td>\n",
       "      <td>...</td>\n",
       "      <td>...</td>\n",
       "      <td>...</td>\n",
       "      <td>...</td>\n",
       "      <td>...</td>\n",
       "      <td>...</td>\n",
       "      <td>...</td>\n",
       "    </tr>\n",
       "    <tr>\n",
       "      <th>9882</th>\n",
       "      <td>0.0</td>\n",
       "      <td>49.994860</td>\n",
       "      <td>7.85081</td>\n",
       "      <td>92.058076</td>\n",
       "      <td>7.732690</td>\n",
       "      <td>0.0</td>\n",
       "      <td>5.53732</td>\n",
       "      <td>6.03182</td>\n",
       "      <td>7.687524</td>\n",
       "      <td>56.957640</td>\n",
       "      <td>43.228260</td>\n",
       "      <td>7.540672</td>\n",
       "      <td>7.994760</td>\n",
       "      <td>7.46853</td>\n",
       "    </tr>\n",
       "    <tr>\n",
       "      <th>9883</th>\n",
       "      <td>1.0</td>\n",
       "      <td>57.112180</td>\n",
       "      <td>5.26323</td>\n",
       "      <td>51.277080</td>\n",
       "      <td>5.009760</td>\n",
       "      <td>0.0</td>\n",
       "      <td>4.91856</td>\n",
       "      <td>6.48513</td>\n",
       "      <td>3.037960</td>\n",
       "      <td>41.274560</td>\n",
       "      <td>37.584735</td>\n",
       "      <td>13.881910</td>\n",
       "      <td>5.866630</td>\n",
       "      <td>6.55392</td>\n",
       "    </tr>\n",
       "    <tr>\n",
       "      <th>9884</th>\n",
       "      <td>0.0</td>\n",
       "      <td>55.861330</td>\n",
       "      <td>8.38651</td>\n",
       "      <td>92.058076</td>\n",
       "      <td>7.930276</td>\n",
       "      <td>0.0</td>\n",
       "      <td>5.78542</td>\n",
       "      <td>4.73446</td>\n",
       "      <td>4.924470</td>\n",
       "      <td>44.921830</td>\n",
       "      <td>56.033090</td>\n",
       "      <td>8.238070</td>\n",
       "      <td>6.506800</td>\n",
       "      <td>7.18183</td>\n",
       "    </tr>\n",
       "    <tr>\n",
       "      <th>9886</th>\n",
       "      <td>1.0</td>\n",
       "      <td>40.472200</td>\n",
       "      <td>5.28603</td>\n",
       "      <td>47.290213</td>\n",
       "      <td>6.227980</td>\n",
       "      <td>0.0</td>\n",
       "      <td>6.35608</td>\n",
       "      <td>6.37370</td>\n",
       "      <td>5.591050</td>\n",
       "      <td>39.357188</td>\n",
       "      <td>79.924070</td>\n",
       "      <td>12.067060</td>\n",
       "      <td>5.726740</td>\n",
       "      <td>8.84950</td>\n",
       "    </tr>\n",
       "    <tr>\n",
       "      <th>9887</th>\n",
       "      <td>0.0</td>\n",
       "      <td>48.574830</td>\n",
       "      <td>7.07732</td>\n",
       "      <td>80.325520</td>\n",
       "      <td>6.647950</td>\n",
       "      <td>0.0</td>\n",
       "      <td>6.44016</td>\n",
       "      <td>5.64713</td>\n",
       "      <td>5.238180</td>\n",
       "      <td>42.678650</td>\n",
       "      <td>72.074690</td>\n",
       "      <td>12.062030</td>\n",
       "      <td>7.805330</td>\n",
       "      <td>6.82126</td>\n",
       "    </tr>\n",
       "  </tbody>\n",
       "</table>\n",
       "<p>7416 rows × 14 columns</p>\n",
       "</div>"
      ],
      "text/plain": [
       "      indicator      er-cv  leukocyty     weight     etytr  smoker  \\\n",
       "0           1.0  43.098870    4.47526  65.575930  5.962190     0.0   \n",
       "1           1.0  39.006164    4.41339  58.477790  5.448400     0.0   \n",
       "4           0.0  48.812610    4.72469  44.598160  6.621530     0.0   \n",
       "6           1.0  40.092490    5.59888  47.290213  4.866210     0.0   \n",
       "7           1.0  58.864220    5.61325  47.290213  7.608290     0.0   \n",
       "...         ...        ...        ...        ...       ...     ...   \n",
       "9882        0.0  49.994860    7.85081  92.058076  7.732690     0.0   \n",
       "9883        1.0  57.112180    5.26323  51.277080  5.009760     0.0   \n",
       "9884        0.0  55.861330    8.38651  92.058076  7.930276     0.0   \n",
       "9886        1.0  40.472200    5.28603  47.290213  6.227980     0.0   \n",
       "9887        0.0  48.574830    7.07732  80.325520  6.647950     0.0   \n",
       "\n",
       "      erytrocyty  trombocyty  hemoglobin        ast        alp        alt  \\\n",
       "0        6.20665     5.71427    5.066670  57.929300  57.602570   7.540672   \n",
       "1        5.58217     6.29619    6.909450  57.590554  81.604126  10.593650   \n",
       "4        6.36262     6.44608    6.496170  50.444240  81.604126   9.311960   \n",
       "6        5.85262     6.27295    4.973570  39.357188  65.622940   6.723220   \n",
       "7        5.30479     4.90232    4.268420  38.991060  37.584735   8.147130   \n",
       "...          ...         ...         ...        ...        ...        ...   \n",
       "9882     5.53732     6.03182    7.687524  56.957640  43.228260   7.540672   \n",
       "9883     4.91856     6.48513    3.037960  41.274560  37.584735  13.881910   \n",
       "9884     5.78542     4.73446    4.924470  44.921830  56.033090   8.238070   \n",
       "9886     6.35608     6.37370    5.591050  39.357188  79.924070  12.067060   \n",
       "9887     6.44016     5.64713    5.238180  42.678650  72.074690  12.062030   \n",
       "\n",
       "      hematokrit    hbver  \n",
       "0       7.110810  6.32708  \n",
       "1       8.523240  9.06429  \n",
       "4       6.312210  8.54503  \n",
       "6       4.450285  6.62205  \n",
       "7       7.835700  8.92026  \n",
       "...          ...      ...  \n",
       "9882    7.994760  7.46853  \n",
       "9883    5.866630  6.55392  \n",
       "9884    6.506800  7.18183  \n",
       "9886    5.726740  8.84950  \n",
       "9887    7.805330  6.82126  \n",
       "\n",
       "[7416 rows x 14 columns]"
      ]
     },
     "execution_count": 83,
     "metadata": {},
     "output_type": "execute_result"
    }
   ],
   "source": [
    "labor_train = labor.sample(frac=split_by,random_state=200)\n",
    "labor_train.sort_index()"
   ]
  },
  {
   "cell_type": "markdown",
   "id": "66bc9f62",
   "metadata": {},
   "source": [
    "Následne je potrebné odstrániť všetky prvky trénovacej množiny z množiny testovacej, nech sa netestuje a neučí na rovnakých dátach"
   ]
  },
  {
   "cell_type": "code",
   "execution_count": 84,
   "id": "6d3341b0",
   "metadata": {},
   "outputs": [
    {
     "data": {
      "text/html": [
       "<div>\n",
       "<style scoped>\n",
       "    .dataframe tbody tr th:only-of-type {\n",
       "        vertical-align: middle;\n",
       "    }\n",
       "\n",
       "    .dataframe tbody tr th {\n",
       "        vertical-align: top;\n",
       "    }\n",
       "\n",
       "    .dataframe thead th {\n",
       "        text-align: right;\n",
       "    }\n",
       "</style>\n",
       "<table border=\"1\" class=\"dataframe\">\n",
       "  <thead>\n",
       "    <tr style=\"text-align: right;\">\n",
       "      <th></th>\n",
       "      <th>indicator</th>\n",
       "      <th>er-cv</th>\n",
       "      <th>leukocyty</th>\n",
       "      <th>weight</th>\n",
       "      <th>etytr</th>\n",
       "      <th>smoker</th>\n",
       "      <th>erytrocyty</th>\n",
       "      <th>trombocyty</th>\n",
       "      <th>hemoglobin</th>\n",
       "      <th>ast</th>\n",
       "      <th>alp</th>\n",
       "      <th>alt</th>\n",
       "      <th>hematokrit</th>\n",
       "      <th>hbver</th>\n",
       "    </tr>\n",
       "  </thead>\n",
       "  <tbody>\n",
       "    <tr>\n",
       "      <th>2</th>\n",
       "      <td>1.0</td>\n",
       "      <td>54.391060</td>\n",
       "      <td>4.71119</td>\n",
       "      <td>47.290213</td>\n",
       "      <td>6.75478</td>\n",
       "      <td>1.0</td>\n",
       "      <td>6.36030</td>\n",
       "      <td>6.67129</td>\n",
       "      <td>4.086680</td>\n",
       "      <td>59.370330</td>\n",
       "      <td>31.609350</td>\n",
       "      <td>10.726440</td>\n",
       "      <td>8.41874</td>\n",
       "      <td>7.11435</td>\n",
       "    </tr>\n",
       "    <tr>\n",
       "      <th>3</th>\n",
       "      <td>1.0</td>\n",
       "      <td>45.799430</td>\n",
       "      <td>5.38079</td>\n",
       "      <td>88.066280</td>\n",
       "      <td>6.33099</td>\n",
       "      <td>0.0</td>\n",
       "      <td>5.45784</td>\n",
       "      <td>6.24957</td>\n",
       "      <td>5.571640</td>\n",
       "      <td>50.315510</td>\n",
       "      <td>75.297150</td>\n",
       "      <td>9.265570</td>\n",
       "      <td>4.69702</td>\n",
       "      <td>7.00724</td>\n",
       "    </tr>\n",
       "    <tr>\n",
       "      <th>5</th>\n",
       "      <td>0.0</td>\n",
       "      <td>57.315468</td>\n",
       "      <td>8.94992</td>\n",
       "      <td>47.290213</td>\n",
       "      <td>7.64333</td>\n",
       "      <td>0.0</td>\n",
       "      <td>8.02422</td>\n",
       "      <td>7.05623</td>\n",
       "      <td>7.687524</td>\n",
       "      <td>57.590554</td>\n",
       "      <td>37.584735</td>\n",
       "      <td>13.719989</td>\n",
       "      <td>6.09792</td>\n",
       "      <td>8.63421</td>\n",
       "    </tr>\n",
       "    <tr>\n",
       "      <th>17</th>\n",
       "      <td>0.0</td>\n",
       "      <td>39.006164</td>\n",
       "      <td>6.55826</td>\n",
       "      <td>47.290213</td>\n",
       "      <td>4.11510</td>\n",
       "      <td>0.0</td>\n",
       "      <td>7.53348</td>\n",
       "      <td>7.17969</td>\n",
       "      <td>4.560880</td>\n",
       "      <td>39.357188</td>\n",
       "      <td>52.076020</td>\n",
       "      <td>13.719989</td>\n",
       "      <td>8.29881</td>\n",
       "      <td>6.96526</td>\n",
       "    </tr>\n",
       "    <tr>\n",
       "      <th>18</th>\n",
       "      <td>0.0</td>\n",
       "      <td>42.352340</td>\n",
       "      <td>7.09271</td>\n",
       "      <td>92.058076</td>\n",
       "      <td>6.75541</td>\n",
       "      <td>0.0</td>\n",
       "      <td>6.30560</td>\n",
       "      <td>5.92762</td>\n",
       "      <td>5.324640</td>\n",
       "      <td>48.127800</td>\n",
       "      <td>74.442070</td>\n",
       "      <td>11.632250</td>\n",
       "      <td>7.84449</td>\n",
       "      <td>6.40476</td>\n",
       "    </tr>\n",
       "    <tr>\n",
       "      <th>...</th>\n",
       "      <td>...</td>\n",
       "      <td>...</td>\n",
       "      <td>...</td>\n",
       "      <td>...</td>\n",
       "      <td>...</td>\n",
       "      <td>...</td>\n",
       "      <td>...</td>\n",
       "      <td>...</td>\n",
       "      <td>...</td>\n",
       "      <td>...</td>\n",
       "      <td>...</td>\n",
       "      <td>...</td>\n",
       "      <td>...</td>\n",
       "      <td>...</td>\n",
       "    </tr>\n",
       "    <tr>\n",
       "      <th>9857</th>\n",
       "      <td>0.0</td>\n",
       "      <td>51.924730</td>\n",
       "      <td>7.42250</td>\n",
       "      <td>47.290213</td>\n",
       "      <td>5.65971</td>\n",
       "      <td>0.0</td>\n",
       "      <td>6.04362</td>\n",
       "      <td>5.55945</td>\n",
       "      <td>5.318330</td>\n",
       "      <td>49.041060</td>\n",
       "      <td>74.738330</td>\n",
       "      <td>10.979960</td>\n",
       "      <td>7.09665</td>\n",
       "      <td>8.86807</td>\n",
       "    </tr>\n",
       "    <tr>\n",
       "      <th>9860</th>\n",
       "      <td>0.0</td>\n",
       "      <td>39.006164</td>\n",
       "      <td>5.55312</td>\n",
       "      <td>92.058076</td>\n",
       "      <td>5.30070</td>\n",
       "      <td>1.0</td>\n",
       "      <td>4.72099</td>\n",
       "      <td>6.15914</td>\n",
       "      <td>5.119560</td>\n",
       "      <td>40.290270</td>\n",
       "      <td>72.011010</td>\n",
       "      <td>7.540672</td>\n",
       "      <td>6.09715</td>\n",
       "      <td>5.23831</td>\n",
       "    </tr>\n",
       "    <tr>\n",
       "      <th>9861</th>\n",
       "      <td>1.0</td>\n",
       "      <td>56.020080</td>\n",
       "      <td>5.28786</td>\n",
       "      <td>92.058076</td>\n",
       "      <td>7.36943</td>\n",
       "      <td>0.0</td>\n",
       "      <td>7.01076</td>\n",
       "      <td>5.13054</td>\n",
       "      <td>4.958360</td>\n",
       "      <td>43.738310</td>\n",
       "      <td>60.217490</td>\n",
       "      <td>14.364240</td>\n",
       "      <td>7.25766</td>\n",
       "      <td>8.54782</td>\n",
       "    </tr>\n",
       "    <tr>\n",
       "      <th>9876</th>\n",
       "      <td>0.0</td>\n",
       "      <td>39.006164</td>\n",
       "      <td>8.81097</td>\n",
       "      <td>87.745530</td>\n",
       "      <td>6.49795</td>\n",
       "      <td>1.0</td>\n",
       "      <td>7.04396</td>\n",
       "      <td>6.27611</td>\n",
       "      <td>5.566250</td>\n",
       "      <td>48.248710</td>\n",
       "      <td>81.189150</td>\n",
       "      <td>13.743320</td>\n",
       "      <td>6.14338</td>\n",
       "      <td>6.29473</td>\n",
       "    </tr>\n",
       "    <tr>\n",
       "      <th>9885</th>\n",
       "      <td>1.0</td>\n",
       "      <td>39.006164</td>\n",
       "      <td>4.81549</td>\n",
       "      <td>89.143540</td>\n",
       "      <td>6.54037</td>\n",
       "      <td>0.0</td>\n",
       "      <td>5.12928</td>\n",
       "      <td>5.28566</td>\n",
       "      <td>7.072610</td>\n",
       "      <td>39.357188</td>\n",
       "      <td>75.883380</td>\n",
       "      <td>7.063860</td>\n",
       "      <td>5.16492</td>\n",
       "      <td>8.92604</td>\n",
       "    </tr>\n",
       "  </tbody>\n",
       "</table>\n",
       "<p>2472 rows × 14 columns</p>\n",
       "</div>"
      ],
      "text/plain": [
       "      indicator      er-cv  leukocyty     weight    etytr  smoker  erytrocyty  \\\n",
       "2           1.0  54.391060    4.71119  47.290213  6.75478     1.0     6.36030   \n",
       "3           1.0  45.799430    5.38079  88.066280  6.33099     0.0     5.45784   \n",
       "5           0.0  57.315468    8.94992  47.290213  7.64333     0.0     8.02422   \n",
       "17          0.0  39.006164    6.55826  47.290213  4.11510     0.0     7.53348   \n",
       "18          0.0  42.352340    7.09271  92.058076  6.75541     0.0     6.30560   \n",
       "...         ...        ...        ...        ...      ...     ...         ...   \n",
       "9857        0.0  51.924730    7.42250  47.290213  5.65971     0.0     6.04362   \n",
       "9860        0.0  39.006164    5.55312  92.058076  5.30070     1.0     4.72099   \n",
       "9861        1.0  56.020080    5.28786  92.058076  7.36943     0.0     7.01076   \n",
       "9876        0.0  39.006164    8.81097  87.745530  6.49795     1.0     7.04396   \n",
       "9885        1.0  39.006164    4.81549  89.143540  6.54037     0.0     5.12928   \n",
       "\n",
       "      trombocyty  hemoglobin        ast        alp        alt  hematokrit  \\\n",
       "2        6.67129    4.086680  59.370330  31.609350  10.726440     8.41874   \n",
       "3        6.24957    5.571640  50.315510  75.297150   9.265570     4.69702   \n",
       "5        7.05623    7.687524  57.590554  37.584735  13.719989     6.09792   \n",
       "17       7.17969    4.560880  39.357188  52.076020  13.719989     8.29881   \n",
       "18       5.92762    5.324640  48.127800  74.442070  11.632250     7.84449   \n",
       "...          ...         ...        ...        ...        ...         ...   \n",
       "9857     5.55945    5.318330  49.041060  74.738330  10.979960     7.09665   \n",
       "9860     6.15914    5.119560  40.290270  72.011010   7.540672     6.09715   \n",
       "9861     5.13054    4.958360  43.738310  60.217490  14.364240     7.25766   \n",
       "9876     6.27611    5.566250  48.248710  81.189150  13.743320     6.14338   \n",
       "9885     5.28566    7.072610  39.357188  75.883380   7.063860     5.16492   \n",
       "\n",
       "        hbver  \n",
       "2     7.11435  \n",
       "3     7.00724  \n",
       "5     8.63421  \n",
       "17    6.96526  \n",
       "18    6.40476  \n",
       "...       ...  \n",
       "9857  8.86807  \n",
       "9860  5.23831  \n",
       "9861  8.54782  \n",
       "9876  6.29473  \n",
       "9885  8.92604  \n",
       "\n",
       "[2472 rows x 14 columns]"
      ]
     },
     "execution_count": 84,
     "metadata": {},
     "output_type": "execute_result"
    }
   ],
   "source": [
    "labor_test = labor\n",
    "labor_test = pd.merge(labor_test,labor_train,indicator = True, how = 'outer').query('_merge==\"left_only\"').drop('_merge', axis = 1)\n",
    "labor_test"
   ]
  },
  {
   "cell_type": "markdown",
   "id": "2d8a7dc7",
   "metadata": {},
   "source": [
    "### Transformácia atribútov\n",
    "\n",
    "Pre transformáciu atribútov sme vyskúšali viacero metód (scaling aj transforming)\n",
    "\n",
    "použité metódy:\n",
    "- MinMaxScaler\n",
    "- StandartScaler\n",
    "- RobustScaler\n",
    "- PowerTransformer (yeo-johnson)\n",
    "- QuantileTransformer\n",
    "\n",
    "Nakoniec sme si nechali metódu Quantile Transformer ktorá transformuje všetky hodnoty do množiny od 0 po 1. Túto metódu sme vybrali preto, že výsledné dáta sa zdajú byť najrovnomernejšie rozložené."
   ]
  },
  {
   "cell_type": "code",
   "execution_count": 85,
   "id": "d1b62f25",
   "metadata": {},
   "outputs": [],
   "source": [
    "atributes = labor_train.columns"
   ]
  },
  {
   "cell_type": "code",
   "execution_count": 86,
   "id": "3961daa1",
   "metadata": {},
   "outputs": [],
   "source": [
    "def my_fit(df, scaler, atributes):\n",
    "    return scaler.fit_transform(df.loc[:, atributes])"
   ]
  },
  {
   "cell_type": "code",
   "execution_count": 87,
   "id": "d910e4b6",
   "metadata": {},
   "outputs": [
    {
     "data": {
      "text/plain": [
       "<AxesSubplot:ylabel='Count'>"
      ]
     },
     "execution_count": 87,
     "metadata": {},
     "output_type": "execute_result"
    },
    {
     "data": {
      "image/png": "[encoded data removed]",
      "text/plain": [
       "<Figure size 432x288 with 1 Axes>"
      ]
     },
     "metadata": {
      "needs_background": "light"
     },
     "output_type": "display_data"
    }
   ],
   "source": [
    "sns.histplot(labor_train.loc[:, atributes])"
   ]
  },
  {
   "cell_type": "code",
   "execution_count": 88,
   "id": "18ce3a2a",
   "metadata": {},
   "outputs": [
    {
     "data": {
      "text/plain": [
       "<AxesSubplot:ylabel='Count'>"
      ]
     },
     "execution_count": 88,
     "metadata": {},
     "output_type": "execute_result"
    },
    {
     "data": {
      "image/png": "[encoded data removed]",
      "text/plain": [
       "<Figure size 432x288 with 1 Axes>"
      ]
     },
     "metadata": {
      "needs_background": "light"
     },
     "output_type": "display_data"
    }
   ],
   "source": [
    "from sklearn.preprocessing import MinMaxScaler\n",
    "scaler = MinMaxScaler()\n",
    "scaled = scaler.fit_transform(labor_train.loc[:, atributes])\n",
    "sns.histplot(scaled)"
   ]
  },
  {
   "cell_type": "code",
   "execution_count": 89,
   "id": "eb2e3ce9",
   "metadata": {},
   "outputs": [
    {
     "data": {
      "text/plain": [
       "<AxesSubplot:ylabel='Count'>"
      ]
     },
     "execution_count": 89,
     "metadata": {},
     "output_type": "execute_result"
    },
    {
     "data": {
      "image/png": "[encoded data removed]",
      "text/plain": [
       "<Figure size 432x288 with 1 Axes>"
      ]
     },
     "metadata": {
      "needs_background": "light"
     },
     "output_type": "display_data"
    }
   ],
   "source": [
    "from sklearn.preprocessing import StandardScaler\n",
    "scaler = StandardScaler()\n",
    "scaled = scaler.fit_transform(labor_train.loc[:, atributes])\n",
    "sns.histplot(scaled)"
   ]
  },
  {
   "cell_type": "code",
   "execution_count": 90,
   "id": "c462fbc7",
   "metadata": {},
   "outputs": [
    {
     "data": {
      "text/plain": [
       "<AxesSubplot:ylabel='Count'>"
      ]
     },
     "execution_count": 90,
     "metadata": {},
     "output_type": "execute_result"
    },
    {
     "data": {
      "image/png": "[encoded data removed]",
      "text/plain": [
       "<Figure size 432x288 with 1 Axes>"
      ]
     },
     "metadata": {
      "needs_background": "light"
     },
     "output_type": "display_data"
    }
   ],
   "source": [
    "from sklearn.preprocessing import RobustScaler\n",
    "scaler = RobustScaler()\n",
    "scaled = scaler.fit_transform(labor_train.loc[:, atributes])\n",
    "sns.histplot(scaled)"
   ]
  },
  {
   "cell_type": "code",
   "execution_count": 91,
   "id": "7e6901ae",
   "metadata": {},
   "outputs": [
    {
     "data": {
      "text/plain": [
       "<AxesSubplot:ylabel='Count'>"
      ]
     },
     "execution_count": 91,
     "metadata": {},
     "output_type": "execute_result"
    },
    {
     "data": {
      "image/png": "[encoded data removed]",
      "text/plain": [
       "<Figure size 432x288 with 1 Axes>"
      ]
     },
     "metadata": {
      "needs_background": "light"
     },
     "output_type": "display_data"
    }
   ],
   "source": [
    "from sklearn.preprocessing import PowerTransformer\n",
    "power = PowerTransformer(method='yeo-johnson', standardize=True)\n",
    "trans = power.fit_transform(labor_train.loc[:, atributes])\n",
    "sns.histplot(trans)"
   ]
  },
  {
   "cell_type": "code",
   "execution_count": 92,
   "id": "303bf595",
   "metadata": {},
   "outputs": [
    {
     "data": {
      "text/plain": [
       "<AxesSubplot:ylabel='Count'>"
      ]
     },
     "execution_count": 92,
     "metadata": {},
     "output_type": "execute_result"
    },
    {
     "data": {
      "image/png": "[encoded data removed]",
      "text/plain": [
       "<Figure size 432x288 with 1 Axes>"
      ]
     },
     "metadata": {
      "needs_background": "light"
     },
     "output_type": "display_data"
    }
   ],
   "source": [
    "from sklearn.preprocessing import QuantileTransformer\n",
    "qt = QuantileTransformer(n_quantiles=10, random_state=0)\n",
    "trans = qt.fit_transform(labor_train.loc[:, atributes])\n",
    "sns.histplot(trans)"
   ]
  },
  {
   "cell_type": "code",
   "execution_count": 93,
   "id": "91c77ba6",
   "metadata": {},
   "outputs": [
    {
     "data": {
      "text/plain": [
       "<AxesSubplot:ylabel='Count'>"
      ]
     },
     "execution_count": 93,
     "metadata": {},
     "output_type": "execute_result"
    },
    {
     "data": {
      "image/png": "[encoded data removed]",
      "text/plain": [
       "<Figure size 432x288 with 1 Axes>"
      ]
     },
     "metadata": {
      "needs_background": "light"
     },
     "output_type": "display_data"
    }
   ],
   "source": [
    "from sklearn.preprocessing import QuantileTransformer\n",
    "qt = QuantileTransformer(n_quantiles=10, random_state=0)\n",
    "labor_train = my_fit(labor_train, qt, atributes)\n",
    "sns.histplot(labor_train)"
   ]
  },
  {
   "cell_type": "markdown",
   "id": "964cace2",
   "metadata": {},
   "source": [
    "## Výber atribútov pre strojové učenie"
   ]
  },
  {
   "cell_type": "markdown",
   "id": "8d9147c6",
   "metadata": {},
   "source": [
    "Pre výber atribútov použijeme Mutual Information porovnanie a vyberieme k najlepších"
   ]
  },
  {
   "cell_type": "code",
   "execution_count": 94,
   "id": "8117b3ed",
   "metadata": {},
   "outputs": [],
   "source": [
    "k=7"
   ]
  },
  {
   "cell_type": "code",
   "execution_count": 95,
   "id": "c87959cf",
   "metadata": {},
   "outputs": [],
   "source": [
    "labor_train =  pd.DataFrame(labor_train,columns = atributes)"
   ]
  },
  {
   "cell_type": "code",
   "execution_count": 96,
   "id": "1dc69645",
   "metadata": {},
   "outputs": [
    {
     "data": {
      "text/plain": [
       "array([[1.        , 0.16666667, 0.40149731, ..., 0.74275496, 0.16666667,\n",
       "        0.32211312],\n",
       "       [0.        , 0.40500026, 0.52578816, ..., 0.09639939, 0.46716698,\n",
       "        0.76729068],\n",
       "       [1.        , 0.16666667, 0.81875681, ..., 0.27896051, 0.16666667,\n",
       "        0.2140617 ],\n",
       "       ...,\n",
       "       [1.        , 0.57078913, 0.51119142, ..., 0.47272738, 0.83333333,\n",
       "        0.13441997],\n",
       "       [1.        , 0.33683468, 0.58736578, ..., 0.70114918, 0.50185431,\n",
       "        0.214502  ],\n",
       "       [1.        , 0.16666667, 0.26780283, ..., 0.30917871, 0.67609336,\n",
       "        0.36112956]])"
      ]
     },
     "execution_count": 96,
     "metadata": {},
     "output_type": "execute_result"
    }
   ],
   "source": [
    "from sklearn.feature_selection import SelectKBest\n",
    "from sklearn.feature_selection import mutual_info_regression\n",
    "\n",
    "y = labor_train['indicator']\n",
    "labor_train_proc = SelectKBest(mutual_info_regression, k=k).fit_transform(labor_train, y)\n",
    "labor_train_proc"
   ]
  },
  {
   "cell_type": "markdown",
   "id": "dbecb5cd",
   "metadata": {},
   "source": [
    "Potrebujeme zistiť ktoré atribúty funkcia vybrala"
   ]
  },
  {
   "cell_type": "code",
   "execution_count": 97,
   "id": "ddd6ab5f",
   "metadata": {},
   "outputs": [],
   "source": [
    "# Vráti array názvov stĺpcov\n",
    "def get_names(w_names, wo_names):\n",
    "    names = w_names.columns\n",
    "    ret_val = []\n",
    "    i = 0\n",
    "    for x in wo_names[0]:\n",
    "        j = 0\n",
    "        for y in w_names.iloc[0]:\n",
    "            if j<i:\n",
    "                j+=1\n",
    "                continue\n",
    "            if x == y:\n",
    "                ret_val.append(names[j])\n",
    "                i = j\n",
    "                break\n",
    "            j+=1\n",
    "    return (ret_val)\n",
    "   "
   ]
  },
  {
   "cell_type": "markdown",
   "id": "29cc8dd7",
   "metadata": {},
   "source": [
    "Môžme vytvoriť nový dataframe so správnym pomenovaním a hodnotami"
   ]
  },
  {
   "cell_type": "code",
   "execution_count": 98,
   "id": "e632c5ec",
   "metadata": {},
   "outputs": [
    {
     "name": "stdout",
     "output_type": "stream",
     "text": [
      "['er-cv', 'leukocyty', 'trombocyty', 'hemoglobin', 'ast', 'hematokrit']\n"
     ]
    }
   ],
   "source": [
    "print(get_names(labor_train,labor_train_proc)[1:])"
   ]
  },
  {
   "cell_type": "code",
   "execution_count": 99,
   "id": "9cae3a80",
   "metadata": {},
   "outputs": [],
   "source": [
    "labor_train_proc = pd.DataFrame(labor_train_proc,columns = get_names(labor_train,labor_train_proc))"
   ]
  },
  {
   "cell_type": "code",
   "execution_count": 100,
   "id": "d23292ad",
   "metadata": {},
   "outputs": [
    {
     "data": {
      "text/html": [
       "<div>\n",
       "<style scoped>\n",
       "    .dataframe tbody tr th:only-of-type {\n",
       "        vertical-align: middle;\n",
       "    }\n",
       "\n",
       "    .dataframe tbody tr th {\n",
       "        vertical-align: top;\n",
       "    }\n",
       "\n",
       "    .dataframe thead th {\n",
       "        text-align: right;\n",
       "    }\n",
       "</style>\n",
       "<table border=\"1\" class=\"dataframe\">\n",
       "  <thead>\n",
       "    <tr style=\"text-align: right;\">\n",
       "      <th></th>\n",
       "      <th>indicator</th>\n",
       "      <th>er-cv</th>\n",
       "      <th>leukocyty</th>\n",
       "      <th>trombocyty</th>\n",
       "      <th>hemoglobin</th>\n",
       "      <th>ast</th>\n",
       "      <th>hematokrit</th>\n",
       "    </tr>\n",
       "  </thead>\n",
       "  <tbody>\n",
       "    <tr>\n",
       "      <th>0</th>\n",
       "      <td>1.0</td>\n",
       "      <td>0.166667</td>\n",
       "      <td>0.401497</td>\n",
       "      <td>0.551966</td>\n",
       "      <td>0.742755</td>\n",
       "      <td>0.166667</td>\n",
       "      <td>0.322113</td>\n",
       "    </tr>\n",
       "    <tr>\n",
       "      <th>1</th>\n",
       "      <td>0.0</td>\n",
       "      <td>0.405000</td>\n",
       "      <td>0.525788</td>\n",
       "      <td>0.850466</td>\n",
       "      <td>0.096399</td>\n",
       "      <td>0.467167</td>\n",
       "      <td>0.767291</td>\n",
       "    </tr>\n",
       "    <tr>\n",
       "      <th>2</th>\n",
       "      <td>1.0</td>\n",
       "      <td>0.166667</td>\n",
       "      <td>0.818757</td>\n",
       "      <td>0.127427</td>\n",
       "      <td>0.278961</td>\n",
       "      <td>0.166667</td>\n",
       "      <td>0.214062</td>\n",
       "    </tr>\n",
       "    <tr>\n",
       "      <th>3</th>\n",
       "      <td>0.0</td>\n",
       "      <td>0.698793</td>\n",
       "      <td>0.789538</td>\n",
       "      <td>0.455711</td>\n",
       "      <td>0.973793</td>\n",
       "      <td>0.422187</td>\n",
       "      <td>0.512109</td>\n",
       "    </tr>\n",
       "    <tr>\n",
       "      <th>4</th>\n",
       "      <td>0.0</td>\n",
       "      <td>0.408464</td>\n",
       "      <td>0.888889</td>\n",
       "      <td>0.369594</td>\n",
       "      <td>0.128604</td>\n",
       "      <td>0.166667</td>\n",
       "      <td>0.255717</td>\n",
       "    </tr>\n",
       "    <tr>\n",
       "      <th>...</th>\n",
       "      <td>...</td>\n",
       "      <td>...</td>\n",
       "      <td>...</td>\n",
       "      <td>...</td>\n",
       "      <td>...</td>\n",
       "      <td>...</td>\n",
       "      <td>...</td>\n",
       "    </tr>\n",
       "    <tr>\n",
       "      <th>7411</th>\n",
       "      <td>0.0</td>\n",
       "      <td>0.166667</td>\n",
       "      <td>0.078640</td>\n",
       "      <td>0.755602</td>\n",
       "      <td>0.278672</td>\n",
       "      <td>0.833333</td>\n",
       "      <td>0.916056</td>\n",
       "    </tr>\n",
       "    <tr>\n",
       "      <th>7412</th>\n",
       "      <td>1.0</td>\n",
       "      <td>0.833333</td>\n",
       "      <td>0.341716</td>\n",
       "      <td>0.792409</td>\n",
       "      <td>0.375579</td>\n",
       "      <td>0.833333</td>\n",
       "      <td>0.617682</td>\n",
       "    </tr>\n",
       "    <tr>\n",
       "      <th>7413</th>\n",
       "      <td>1.0</td>\n",
       "      <td>0.570789</td>\n",
       "      <td>0.511191</td>\n",
       "      <td>0.031876</td>\n",
       "      <td>0.472727</td>\n",
       "      <td>0.833333</td>\n",
       "      <td>0.134420</td>\n",
       "    </tr>\n",
       "    <tr>\n",
       "      <th>7414</th>\n",
       "      <td>1.0</td>\n",
       "      <td>0.336835</td>\n",
       "      <td>0.587366</td>\n",
       "      <td>0.141449</td>\n",
       "      <td>0.701149</td>\n",
       "      <td>0.501854</td>\n",
       "      <td>0.214502</td>\n",
       "    </tr>\n",
       "    <tr>\n",
       "      <th>7415</th>\n",
       "      <td>1.0</td>\n",
       "      <td>0.166667</td>\n",
       "      <td>0.267803</td>\n",
       "      <td>0.877333</td>\n",
       "      <td>0.309179</td>\n",
       "      <td>0.676093</td>\n",
       "      <td>0.361130</td>\n",
       "    </tr>\n",
       "  </tbody>\n",
       "</table>\n",
       "<p>7416 rows × 7 columns</p>\n",
       "</div>"
      ],
      "text/plain": [
       "      indicator     er-cv  leukocyty  trombocyty  hemoglobin       ast  \\\n",
       "0           1.0  0.166667   0.401497    0.551966    0.742755  0.166667   \n",
       "1           0.0  0.405000   0.525788    0.850466    0.096399  0.467167   \n",
       "2           1.0  0.166667   0.818757    0.127427    0.278961  0.166667   \n",
       "3           0.0  0.698793   0.789538    0.455711    0.973793  0.422187   \n",
       "4           0.0  0.408464   0.888889    0.369594    0.128604  0.166667   \n",
       "...         ...       ...        ...         ...         ...       ...   \n",
       "7411        0.0  0.166667   0.078640    0.755602    0.278672  0.833333   \n",
       "7412        1.0  0.833333   0.341716    0.792409    0.375579  0.833333   \n",
       "7413        1.0  0.570789   0.511191    0.031876    0.472727  0.833333   \n",
       "7414        1.0  0.336835   0.587366    0.141449    0.701149  0.501854   \n",
       "7415        1.0  0.166667   0.267803    0.877333    0.309179  0.676093   \n",
       "\n",
       "      hematokrit  \n",
       "0       0.322113  \n",
       "1       0.767291  \n",
       "2       0.214062  \n",
       "3       0.512109  \n",
       "4       0.255717  \n",
       "...          ...  \n",
       "7411    0.916056  \n",
       "7412    0.617682  \n",
       "7413    0.134420  \n",
       "7414    0.214502  \n",
       "7415    0.361130  \n",
       "\n",
       "[7416 rows x 7 columns]"
      ]
     },
     "execution_count": 100,
     "metadata": {},
     "output_type": "execute_result"
    }
   ],
   "source": [
    "labor_train_proc"
   ]
  },
  {
   "cell_type": "markdown",
   "id": "efa92289",
   "metadata": {},
   "source": [
    "Atribúty s ktorými budeme ďalej pracovať sú er-cv, leukocyty, trombocyty, hemoglobin, ast, hematokrit\n",
    "Podľa dôležitosti ich vieme zoradiť úpravou výberu"
   ]
  },
  {
   "cell_type": "code",
   "execution_count": 101,
   "id": "35810730",
   "metadata": {},
   "outputs": [],
   "source": [
    "from numpy import arange\n",
    "\n",
    "def get_order():\n",
    "    y = labor_train_proc['indicator']\n",
    "    for x in arange(2, k+1, 1):\n",
    "        new_arr = SelectKBest(mutual_info_regression, k=x).fit_transform(labor_train_proc, y)\n",
    "        print(get_names(labor_train, new_arr)[1:])"
   ]
  },
  {
   "cell_type": "code",
   "execution_count": 102,
   "id": "ffa8f6f6",
   "metadata": {},
   "outputs": [
    {
     "name": "stdout",
     "output_type": "stream",
     "text": [
      "['leukocyty']\n",
      "['leukocyty', 'hematokrit']\n",
      "['leukocyty', 'hemoglobin', 'hematokrit']\n",
      "['leukocyty', 'trombocyty', 'hemoglobin', 'hematokrit']\n",
      "['er-cv', 'leukocyty', 'trombocyty', 'hemoglobin', 'hematokrit']\n",
      "['er-cv', 'leukocyty', 'trombocyty', 'hemoglobin', 'ast', 'hematokrit']\n"
     ]
    }
   ],
   "source": [
    "get_order()"
   ]
  },
  {
   "cell_type": "markdown",
   "id": "c2b81e7a",
   "metadata": {},
   "source": [
    "Vieme určiť, že atribúty v poradí od najdôležitejšieho sú\n",
    "1. Leukocyty\n",
    "2. Hematokrit\n",
    "3. Hemoglobin\n",
    "4. Trombocyty\n",
    "5. Er-cv\n",
    "6. Ast"
   ]
  },
  {
   "cell_type": "markdown",
   "id": "c6bea15a",
   "metadata": {},
   "source": [
    "## Predspracovanie testovacej množiny \n",
    "Vytvorenie funkcie na predspracovanie podľa predspracovania trénovacej množiny"
   ]
  },
  {
   "cell_type": "code",
   "execution_count": 103,
   "id": "7583ada7",
   "metadata": {},
   "outputs": [],
   "source": [
    "def preprocessing(datafr):\n",
    "    retframe = datafr[labor_train_proc.columns]\n",
    "    retframe = retframe.reset_index(drop=True)\n",
    "    retframe = my_fit(retframe, scaler, labor_train_proc.columns)\n",
    "    retframe = pd.DataFrame(retframe, columns =  labor_train_proc.columns)\n",
    "    return retframe"
   ]
  },
  {
   "cell_type": "markdown",
   "id": "7864b6d8",
   "metadata": {},
   "source": [
    "Použitie funkcie na testovaciu množinu"
   ]
  },
  {
   "cell_type": "code",
   "execution_count": 104,
   "id": "87de2184",
   "metadata": {},
   "outputs": [],
   "source": [
    "labor_test_proc = preprocessing(labor_test)"
   ]
  },
  {
   "cell_type": "code",
   "execution_count": 105,
   "id": "d1a560dd",
   "metadata": {},
   "outputs": [
    {
     "data": {
      "text/html": [
       "<div>\n",
       "<style scoped>\n",
       "    .dataframe tbody tr th:only-of-type {\n",
       "        vertical-align: middle;\n",
       "    }\n",
       "\n",
       "    .dataframe tbody tr th {\n",
       "        vertical-align: top;\n",
       "    }\n",
       "\n",
       "    .dataframe thead th {\n",
       "        text-align: right;\n",
       "    }\n",
       "</style>\n",
       "<table border=\"1\" class=\"dataframe\">\n",
       "  <thead>\n",
       "    <tr style=\"text-align: right;\">\n",
       "      <th></th>\n",
       "      <th>indicator</th>\n",
       "      <th>er-cv</th>\n",
       "      <th>leukocyty</th>\n",
       "      <th>trombocyty</th>\n",
       "      <th>hemoglobin</th>\n",
       "      <th>ast</th>\n",
       "      <th>hematokrit</th>\n",
       "    </tr>\n",
       "  </thead>\n",
       "  <tbody>\n",
       "    <tr>\n",
       "      <th>0</th>\n",
       "      <td>0.0</td>\n",
       "      <td>0.328036</td>\n",
       "      <td>-0.719755</td>\n",
       "      <td>0.326308</td>\n",
       "      <td>-0.630301</td>\n",
       "      <td>0.571436</td>\n",
       "      <td>0.674171</td>\n",
       "    </tr>\n",
       "    <tr>\n",
       "      <th>1</th>\n",
       "      <td>0.0</td>\n",
       "      <td>-0.144886</td>\n",
       "      <td>-0.470722</td>\n",
       "      <td>0.007546</td>\n",
       "      <td>0.139144</td>\n",
       "      <td>0.041668</td>\n",
       "      <td>-0.928131</td>\n",
       "    </tr>\n",
       "    <tr>\n",
       "      <th>2</th>\n",
       "      <td>-1.0</td>\n",
       "      <td>0.489009</td>\n",
       "      <td>0.856686</td>\n",
       "      <td>0.617269</td>\n",
       "      <td>1.235508</td>\n",
       "      <td>0.467307</td>\n",
       "      <td>-0.325005</td>\n",
       "    </tr>\n",
       "    <tr>\n",
       "      <th>3</th>\n",
       "      <td>-1.0</td>\n",
       "      <td>-0.518818</td>\n",
       "      <td>-0.032805</td>\n",
       "      <td>0.710587</td>\n",
       "      <td>-0.384590</td>\n",
       "      <td>-0.599467</td>\n",
       "      <td>0.622538</td>\n",
       "    </tr>\n",
       "    <tr>\n",
       "      <th>4</th>\n",
       "      <td>-1.0</td>\n",
       "      <td>-0.334629</td>\n",
       "      <td>0.165965</td>\n",
       "      <td>-0.235803</td>\n",
       "      <td>0.011159</td>\n",
       "      <td>-0.086328</td>\n",
       "      <td>0.426941</td>\n",
       "    </tr>\n",
       "    <tr>\n",
       "      <th>...</th>\n",
       "      <td>...</td>\n",
       "      <td>...</td>\n",
       "      <td>...</td>\n",
       "      <td>...</td>\n",
       "      <td>...</td>\n",
       "      <td>...</td>\n",
       "      <td>...</td>\n",
       "    </tr>\n",
       "    <tr>\n",
       "      <th>2467</th>\n",
       "      <td>-1.0</td>\n",
       "      <td>0.192278</td>\n",
       "      <td>0.288618</td>\n",
       "      <td>-0.514089</td>\n",
       "      <td>0.007889</td>\n",
       "      <td>-0.032896</td>\n",
       "      <td>0.104975</td>\n",
       "    </tr>\n",
       "    <tr>\n",
       "      <th>2468</th>\n",
       "      <td>-1.0</td>\n",
       "      <td>-0.518818</td>\n",
       "      <td>-0.406630</td>\n",
       "      <td>-0.060807</td>\n",
       "      <td>-0.095105</td>\n",
       "      <td>-0.544876</td>\n",
       "      <td>-0.325337</td>\n",
       "    </tr>\n",
       "    <tr>\n",
       "      <th>2469</th>\n",
       "      <td>0.0</td>\n",
       "      <td>0.417705</td>\n",
       "      <td>-0.505283</td>\n",
       "      <td>-0.838285</td>\n",
       "      <td>-0.178633</td>\n",
       "      <td>-0.343142</td>\n",
       "      <td>0.174295</td>\n",
       "    </tr>\n",
       "    <tr>\n",
       "      <th>2470</th>\n",
       "      <td>-1.0</td>\n",
       "      <td>-0.518818</td>\n",
       "      <td>0.805009</td>\n",
       "      <td>0.027607</td>\n",
       "      <td>0.136351</td>\n",
       "      <td>-0.079254</td>\n",
       "      <td>-0.305433</td>\n",
       "    </tr>\n",
       "    <tr>\n",
       "      <th>2471</th>\n",
       "      <td>0.0</td>\n",
       "      <td>-0.518818</td>\n",
       "      <td>-0.680964</td>\n",
       "      <td>-0.721036</td>\n",
       "      <td>0.916885</td>\n",
       "      <td>-0.599467</td>\n",
       "      <td>-0.726687</td>\n",
       "    </tr>\n",
       "  </tbody>\n",
       "</table>\n",
       "<p>2472 rows × 7 columns</p>\n",
       "</div>"
      ],
      "text/plain": [
       "      indicator     er-cv  leukocyty  trombocyty  hemoglobin       ast  \\\n",
       "0           0.0  0.328036  -0.719755    0.326308   -0.630301  0.571436   \n",
       "1           0.0 -0.144886  -0.470722    0.007546    0.139144  0.041668   \n",
       "2          -1.0  0.489009   0.856686    0.617269    1.235508  0.467307   \n",
       "3          -1.0 -0.518818  -0.032805    0.710587   -0.384590 -0.599467   \n",
       "4          -1.0 -0.334629   0.165965   -0.235803    0.011159 -0.086328   \n",
       "...         ...       ...        ...         ...         ...       ...   \n",
       "2467       -1.0  0.192278   0.288618   -0.514089    0.007889 -0.032896   \n",
       "2468       -1.0 -0.518818  -0.406630   -0.060807   -0.095105 -0.544876   \n",
       "2469        0.0  0.417705  -0.505283   -0.838285   -0.178633 -0.343142   \n",
       "2470       -1.0 -0.518818   0.805009    0.027607    0.136351 -0.079254   \n",
       "2471        0.0 -0.518818  -0.680964   -0.721036    0.916885 -0.599467   \n",
       "\n",
       "      hematokrit  \n",
       "0       0.674171  \n",
       "1      -0.928131  \n",
       "2      -0.325005  \n",
       "3       0.622538  \n",
       "4       0.426941  \n",
       "...          ...  \n",
       "2467    0.104975  \n",
       "2468   -0.325337  \n",
       "2469    0.174295  \n",
       "2470   -0.305433  \n",
       "2471   -0.726687  \n",
       "\n",
       "[2472 rows x 7 columns]"
      ]
     },
     "execution_count": 105,
     "metadata": {},
     "output_type": "execute_result"
    }
   ],
   "source": [
    "labor_test_proc"
   ]
  },
  {
   "cell_type": "code",
   "execution_count": null,
   "id": "de55f4af",
   "metadata": {},
   "outputs": [],
   "source": []
  }
 ],
 "metadata": {
  "kernelspec": {
   "display_name": "Python 3 (ipykernel)",
   "language": "python",
   "name": "python3"
  },
  "language_info": {
   "codemirror_mode": {
    "name": "ipython",
    "version": 3
   },
   "file_extension": ".py",
   "mimetype": "text/x-python",
   "name": "python",
   "nbconvert_exporter": "python",
   "pygments_lexer": "ipython3",
   "version": "3.8.6"
  }
 },
 "nbformat": 4,
 "nbformat_minor": 5
}
