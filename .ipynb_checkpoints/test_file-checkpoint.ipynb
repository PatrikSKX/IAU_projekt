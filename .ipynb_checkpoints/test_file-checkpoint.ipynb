{
 "cells": [
  {
   "cell_type": "code",
   "execution_count": 2,
   "id": "6b377a09-2f16-4fbb-b75b-0efc5e8a3613",
   "metadata": {},
   "outputs": [],
   "source": [
    "import pandas as pd\n",
    "import numpy as np\n",
    "import seaborn as sns\n",
    "import matplotlib.pyplot as plt"
   ]
  },
  {
   "cell_type": "markdown",
   "id": "49d5fdbf-d559-47e4-87f4-b5c24fa65a61",
   "metadata": {
    "tags": []
   },
   "source": [
    "# df labor"
   ]
  },
  {
   "cell_type": "code",
   "execution_count": 3,
   "id": "ff7c0255-daf2-4e0b-982a-68fd66216dfa",
   "metadata": {},
   "outputs": [
    {
     "data": {
      "text/plain": [
       "(9987, 17)"
      ]
     },
     "execution_count": 3,
     "metadata": {},
     "output_type": "execute_result"
    }
   ],
   "source": [
    "df = pd.read_csv(\"./020/labor.csv\", sep=\"\\t\", index_col=0)\n",
    "df.shape"
   ]
  },
  {
   "cell_type": "code",
   "execution_count": 4,
   "id": "61be49d0-4eeb-439e-8620-25d85b0db71b",
   "metadata": {},
   "outputs": [
    {
     "data": {
      "text/html": [
       "<div>\n",
       "<style scoped>\n",
       "    .dataframe tbody tr th:only-of-type {\n",
       "        vertical-align: middle;\n",
       "    }\n",
       "\n",
       "    .dataframe tbody tr th {\n",
       "        vertical-align: top;\n",
       "    }\n",
       "\n",
       "    .dataframe thead th {\n",
       "        text-align: right;\n",
       "    }\n",
       "</style>\n",
       "<table border=\"1\" class=\"dataframe\">\n",
       "  <thead>\n",
       "    <tr style=\"text-align: right;\">\n",
       "      <th></th>\n",
       "      <th>er-cv</th>\n",
       "      <th>name</th>\n",
       "      <th>indicator</th>\n",
       "      <th>leukocyty</th>\n",
       "      <th>weight</th>\n",
       "      <th>ssn</th>\n",
       "      <th>relationship</th>\n",
       "      <th>etytr</th>\n",
       "      <th>smoker</th>\n",
       "      <th>erytrocyty</th>\n",
       "      <th>trombocyty</th>\n",
       "      <th>hemoglobin</th>\n",
       "      <th>ast</th>\n",
       "      <th>alp</th>\n",
       "      <th>alt</th>\n",
       "      <th>hematokrit</th>\n",
       "      <th>hbver</th>\n",
       "    </tr>\n",
       "  </thead>\n",
       "  <tbody>\n",
       "    <tr>\n",
       "      <th>0</th>\n",
       "      <td>43.09887</td>\n",
       "      <td>Devin Diaz</td>\n",
       "      <td>1.0</td>\n",
       "      <td>4.47526</td>\n",
       "      <td>65.57593</td>\n",
       "      <td>597-97-9078</td>\n",
       "      <td>single</td>\n",
       "      <td>5.96219</td>\n",
       "      <td>no</td>\n",
       "      <td>6.20665</td>\n",
       "      <td>5.71427</td>\n",
       "      <td>5.06667</td>\n",
       "      <td>57.92930</td>\n",
       "      <td>57.60257</td>\n",
       "      <td>5.12934</td>\n",
       "      <td>7.11081</td>\n",
       "      <td>6.32708</td>\n",
       "    </tr>\n",
       "    <tr>\n",
       "      <th>1</th>\n",
       "      <td>32.51734</td>\n",
       "      <td>Theodore Morris</td>\n",
       "      <td>1.0</td>\n",
       "      <td>4.41339</td>\n",
       "      <td>58.47779</td>\n",
       "      <td>100-19-5038</td>\n",
       "      <td>divoced</td>\n",
       "      <td>5.44840</td>\n",
       "      <td>no</td>\n",
       "      <td>5.58217</td>\n",
       "      <td>6.29619</td>\n",
       "      <td>6.90945</td>\n",
       "      <td>61.47846</td>\n",
       "      <td>83.38342</td>\n",
       "      <td>10.59365</td>\n",
       "      <td>8.52324</td>\n",
       "      <td>9.06429</td>\n",
       "    </tr>\n",
       "    <tr>\n",
       "      <th>2</th>\n",
       "      <td>54.39106</td>\n",
       "      <td>Ashley Mccormick</td>\n",
       "      <td>1.0</td>\n",
       "      <td>4.71119</td>\n",
       "      <td>37.58396</td>\n",
       "      <td>241-30-2551</td>\n",
       "      <td>widowed</td>\n",
       "      <td>6.75478</td>\n",
       "      <td>Y</td>\n",
       "      <td>6.36030</td>\n",
       "      <td>6.67129</td>\n",
       "      <td>4.08668</td>\n",
       "      <td>59.37033</td>\n",
       "      <td>31.60935</td>\n",
       "      <td>10.72644</td>\n",
       "      <td>8.41874</td>\n",
       "      <td>7.11435</td>\n",
       "    </tr>\n",
       "    <tr>\n",
       "      <th>3</th>\n",
       "      <td>45.79943</td>\n",
       "      <td>Brent Howard</td>\n",
       "      <td>1.0</td>\n",
       "      <td>5.38079</td>\n",
       "      <td>88.06628</td>\n",
       "      <td>667-52-4116</td>\n",
       "      <td>married</td>\n",
       "      <td>6.33099</td>\n",
       "      <td>no</td>\n",
       "      <td>5.45784</td>\n",
       "      <td>6.24957</td>\n",
       "      <td>5.57164</td>\n",
       "      <td>50.31551</td>\n",
       "      <td>75.29715</td>\n",
       "      <td>9.26557</td>\n",
       "      <td>4.69702</td>\n",
       "      <td>7.00724</td>\n",
       "    </tr>\n",
       "    <tr>\n",
       "      <th>4</th>\n",
       "      <td>48.81261</td>\n",
       "      <td>Paul Jordan</td>\n",
       "      <td>0.0</td>\n",
       "      <td>4.72469</td>\n",
       "      <td>44.59816</td>\n",
       "      <td>368-59-5827</td>\n",
       "      <td>divoced</td>\n",
       "      <td>6.62153</td>\n",
       "      <td>no</td>\n",
       "      <td>6.36262</td>\n",
       "      <td>6.44608</td>\n",
       "      <td>6.49617</td>\n",
       "      <td>50.44424</td>\n",
       "      <td>84.90135</td>\n",
       "      <td>9.31196</td>\n",
       "      <td>6.31221</td>\n",
       "      <td>8.54503</td>\n",
       "    </tr>\n",
       "  </tbody>\n",
       "</table>\n",
       "</div>"
      ],
      "text/plain": [
       "      er-cv              name  indicator  leukocyty    weight          ssn  \\\n",
       "0  43.09887        Devin Diaz        1.0    4.47526  65.57593  597-97-9078   \n",
       "1  32.51734   Theodore Morris        1.0    4.41339  58.47779  100-19-5038   \n",
       "2  54.39106  Ashley Mccormick        1.0    4.71119  37.58396  241-30-2551   \n",
       "3  45.79943      Brent Howard        1.0    5.38079  88.06628  667-52-4116   \n",
       "4  48.81261       Paul Jordan        0.0    4.72469  44.59816  368-59-5827   \n",
       "\n",
       "  relationship    etytr smoker  erytrocyty  trombocyty  hemoglobin       ast  \\\n",
       "0       single  5.96219     no     6.20665     5.71427     5.06667  57.92930   \n",
       "1      divoced  5.44840     no     5.58217     6.29619     6.90945  61.47846   \n",
       "2      widowed  6.75478      Y     6.36030     6.67129     4.08668  59.37033   \n",
       "3      married  6.33099     no     5.45784     6.24957     5.57164  50.31551   \n",
       "4      divoced  6.62153     no     6.36262     6.44608     6.49617  50.44424   \n",
       "\n",
       "        alp       alt  hematokrit    hbver  \n",
       "0  57.60257   5.12934     7.11081  6.32708  \n",
       "1  83.38342  10.59365     8.52324  9.06429  \n",
       "2  31.60935  10.72644     8.41874  7.11435  \n",
       "3  75.29715   9.26557     4.69702  7.00724  \n",
       "4  84.90135   9.31196     6.31221  8.54503  "
      ]
     },
     "execution_count": 4,
     "metadata": {},
     "output_type": "execute_result"
    }
   ],
   "source": [
    "df.head()"
   ]
  },
  {
   "cell_type": "code",
   "execution_count": 5,
   "id": "01ebc3b6",
   "metadata": {},
   "outputs": [
    {
     "name": "stdout",
     "output_type": "stream",
     "text": [
      "<class 'pandas.core.frame.DataFrame'>\n",
      "Int64Index: 9987 entries, 0 to 9986\n",
      "Data columns (total 17 columns):\n",
      " #   Column        Non-Null Count  Dtype  \n",
      "---  ------        --------------  -----  \n",
      " 0   er-cv         9957 non-null   float64\n",
      " 1   name          9987 non-null   object \n",
      " 2   indicator     9987 non-null   float64\n",
      " 3   leukocyty     9957 non-null   float64\n",
      " 4   weight        9987 non-null   float64\n",
      " 5   ssn           9987 non-null   object \n",
      " 6   relationship  9987 non-null   object \n",
      " 7   etytr         9957 non-null   float64\n",
      " 8   smoker        9987 non-null   object \n",
      " 9   erytrocyty    9957 non-null   float64\n",
      " 10  trombocyty    9957 non-null   float64\n",
      " 11  hemoglobin    9957 non-null   float64\n",
      " 12  ast           9957 non-null   float64\n",
      " 13  alp           9956 non-null   float64\n",
      " 14  alt           9957 non-null   float64\n",
      " 15  hematokrit    9957 non-null   float64\n",
      " 16  hbver         9956 non-null   float64\n",
      "dtypes: float64(13), object(4)\n",
      "memory usage: 1.4+ MB\n"
     ]
    }
   ],
   "source": [
    "df.info()"
   ]
  },
  {
   "cell_type": "markdown",
   "id": "76ae4b1a-58b6-4c54-b816-94ea3d0da051",
   "metadata": {
    "tags": []
   },
   "source": [
    "## popis stlpcov\n",
    "- er-cv -> ?estimated red cell volume?\n",
    "- name -> meno pacienta\n",
    "- indicator -> bool (0, 1), indikator, ukazovatel\n",
    "- leukocyty -> biele krvinky\n",
    "- weight -> vaha pacienta ??\n",
    "- ssn -> Social Security Number (asi nieco ako rodne cislo) skor ako cislo obcianskeho??\n",
    "- relationship -> rodinny stav (single, divorced, widowed, married, separated, nop - bude asi nieco co nepatri ani medzi jedno idk)\n",
    "- etytr -> ?netusim?\n",
    "- smoker -> fajciar (y/n)\n",
    "- erytrocity -> cervene krvinky\n",
    "- trombocyty -> krvne dosticky\n",
    "- hemoglobin -> cervene farbivo v krvi\n",
    "- ast -> Aspartátaminotransferáza (pecenove enzymy)\n",
    "- alp -> Alkalická fosfatáza (pecenove enzymy)\n",
    "- alt -> Alaninaminotransferáza (pecenove enzymy)\n",
    "- hematokrit -> pomer medzi objemom bunkovej časti krvi (teda najmä erytrocytov) a objemom celej krvi.\n",
    "- hbver -> ??"
   ]
  },
  {
   "cell_type": "markdown",
   "id": "d74737b5-ce96-4075-98a4-38d83b83be12",
   "metadata": {
    "tags": []
   },
   "source": [
    "## testy"
   ]
  },
  {
   "cell_type": "code",
   "execution_count": 4,
   "id": "e38f5b6f-9585-4756-b688-1ea70351fea6",
   "metadata": {},
   "outputs": [
    {
     "data": {
      "text/plain": [
       "3112"
      ]
     },
     "execution_count": 4,
     "metadata": {},
     "output_type": "execute_result"
    }
   ],
   "source": [
    "df.ssn.unique().size"
   ]
  },
  {
   "cell_type": "code",
   "execution_count": 5,
   "id": "7674564c-c18e-478e-aa0f-baf21bea4963",
   "metadata": {},
   "outputs": [
    {
     "data": {
      "text/plain": [
       "3036"
      ]
     },
     "execution_count": 5,
     "metadata": {},
     "output_type": "execute_result"
    }
   ],
   "source": [
    "df.name.unique().size"
   ]
  },
  {
   "cell_type": "code",
   "execution_count": 6,
   "id": "635d0979-72c4-456b-b581-018ab68bbd65",
   "metadata": {},
   "outputs": [
    {
     "data": {
      "text/html": [
       "<div>\n",
       "<style scoped>\n",
       "    .dataframe tbody tr th:only-of-type {\n",
       "        vertical-align: middle;\n",
       "    }\n",
       "\n",
       "    .dataframe tbody tr th {\n",
       "        vertical-align: top;\n",
       "    }\n",
       "\n",
       "    .dataframe thead th {\n",
       "        text-align: right;\n",
       "    }\n",
       "</style>\n",
       "<table border=\"1\" class=\"dataframe\">\n",
       "  <thead>\n",
       "    <tr style=\"text-align: right;\">\n",
       "      <th></th>\n",
       "      <th>name</th>\n",
       "      <th>ssn</th>\n",
       "    </tr>\n",
       "  </thead>\n",
       "  <tbody>\n",
       "    <tr>\n",
       "      <th>0</th>\n",
       "      <td>Devin Diaz</td>\n",
       "      <td>597-97-9078</td>\n",
       "    </tr>\n",
       "    <tr>\n",
       "      <th>1</th>\n",
       "      <td>Theodore Morris</td>\n",
       "      <td>100-19-5038</td>\n",
       "    </tr>\n",
       "    <tr>\n",
       "      <th>2</th>\n",
       "      <td>Ashley Mccormick</td>\n",
       "      <td>241-30-2551</td>\n",
       "    </tr>\n",
       "    <tr>\n",
       "      <th>3</th>\n",
       "      <td>Brent Howard</td>\n",
       "      <td>667-52-4116</td>\n",
       "    </tr>\n",
       "    <tr>\n",
       "      <th>4</th>\n",
       "      <td>Paul Jordan</td>\n",
       "      <td>368-59-5827</td>\n",
       "    </tr>\n",
       "    <tr>\n",
       "      <th>...</th>\n",
       "      <td>...</td>\n",
       "      <td>...</td>\n",
       "    </tr>\n",
       "    <tr>\n",
       "      <th>9982</th>\n",
       "      <td>Robin Travis</td>\n",
       "      <td>261-93-8607</td>\n",
       "    </tr>\n",
       "    <tr>\n",
       "      <th>9983</th>\n",
       "      <td>Heather Flores</td>\n",
       "      <td>174-56-1679</td>\n",
       "    </tr>\n",
       "    <tr>\n",
       "      <th>9984</th>\n",
       "      <td>Tracy Parker</td>\n",
       "      <td>211-70-0606</td>\n",
       "    </tr>\n",
       "    <tr>\n",
       "      <th>9985</th>\n",
       "      <td>Tina Ibarra</td>\n",
       "      <td>016-23-0293</td>\n",
       "    </tr>\n",
       "    <tr>\n",
       "      <th>9986</th>\n",
       "      <td>Anthony Ramirez</td>\n",
       "      <td>198-03-8756</td>\n",
       "    </tr>\n",
       "  </tbody>\n",
       "</table>\n",
       "<p>9987 rows × 2 columns</p>\n",
       "</div>"
      ],
      "text/plain": [
       "                  name          ssn\n",
       "0           Devin Diaz  597-97-9078\n",
       "1      Theodore Morris  100-19-5038\n",
       "2     Ashley Mccormick  241-30-2551\n",
       "3         Brent Howard  667-52-4116\n",
       "4          Paul Jordan  368-59-5827\n",
       "...                ...          ...\n",
       "9982      Robin Travis  261-93-8607\n",
       "9983    Heather Flores  174-56-1679\n",
       "9984      Tracy Parker  211-70-0606\n",
       "9985       Tina Ibarra  016-23-0293\n",
       "9986   Anthony Ramirez  198-03-8756\n",
       "\n",
       "[9987 rows x 2 columns]"
      ]
     },
     "execution_count": 6,
     "metadata": {},
     "output_type": "execute_result"
    }
   ],
   "source": [
    "df.loc[:, [\"name\", \"ssn\"]]"
   ]
  },
  {
   "cell_type": "code",
   "execution_count": 7,
   "id": "77b34d47-8b73-45c5-b095-f61847d11347",
   "metadata": {},
   "outputs": [
    {
     "data": {
      "text/plain": [
       "array(['single', 'divoced', 'widowed', 'married', 'separated', 'nop'],\n",
       "      dtype=object)"
      ]
     },
     "execution_count": 7,
     "metadata": {},
     "output_type": "execute_result"
    }
   ],
   "source": [
    "df.relationship.unique()"
   ]
  },
  {
   "cell_type": "markdown",
   "id": "26f864fa-ea45-440d-b0b0-a0af97200911",
   "metadata": {},
   "source": [
    "# df_p profiles"
   ]
  },
  {
   "cell_type": "code",
   "execution_count": 6,
   "id": "44b6113f-d19c-4cdd-8299-c8d55e116bb8",
   "metadata": {},
   "outputs": [
    {
     "data": {
      "text/plain": [
       "(3112, 9)"
      ]
     },
     "execution_count": 6,
     "metadata": {},
     "output_type": "execute_result"
    }
   ],
   "source": [
    "df_p = pd.read_csv(\"./020/profiles.csv\", sep=\"\\t\", index_col=0)\n",
    "df_p.shape"
   ]
  },
  {
   "cell_type": "code",
   "execution_count": 7,
   "id": "d3086a37-7e30-4278-ac57-c05cc921da2d",
   "metadata": {},
   "outputs": [
    {
     "data": {
      "text/html": [
       "<div>\n",
       "<style scoped>\n",
       "    .dataframe tbody tr th:only-of-type {\n",
       "        vertical-align: middle;\n",
       "    }\n",
       "\n",
       "    .dataframe tbody tr th {\n",
       "        vertical-align: top;\n",
       "    }\n",
       "\n",
       "    .dataframe thead th {\n",
       "        text-align: right;\n",
       "    }\n",
       "</style>\n",
       "<table border=\"1\" class=\"dataframe\">\n",
       "  <thead>\n",
       "    <tr style=\"text-align: right;\">\n",
       "      <th></th>\n",
       "      <th>sex</th>\n",
       "      <th>job</th>\n",
       "      <th>blood_group</th>\n",
       "      <th>name</th>\n",
       "      <th>race</th>\n",
       "      <th>address</th>\n",
       "      <th>birthdate</th>\n",
       "      <th>current_location</th>\n",
       "      <th>ssn</th>\n",
       "    </tr>\n",
       "  </thead>\n",
       "  <tbody>\n",
       "    <tr>\n",
       "      <th>0</th>\n",
       "      <td>M</td>\n",
       "      <td>Secretary/administrator</td>\n",
       "      <td>O+</td>\n",
       "      <td>Colton Garcia</td>\n",
       "      <td>Hawaiian</td>\n",
       "      <td>222 Smith Shoals\\nOrtegaland, NM 25312</td>\n",
       "      <td>1990-04-02</td>\n",
       "      <td>(Decimal('81.068645'), Decimal('-61.887841'))</td>\n",
       "      <td>224-40-1972</td>\n",
       "    </tr>\n",
       "    <tr>\n",
       "      <th>1</th>\n",
       "      <td>M</td>\n",
       "      <td>Hydrogeologist</td>\n",
       "      <td>AB+</td>\n",
       "      <td>James Gray</td>\n",
       "      <td>Hawaiian</td>\n",
       "      <td>755 Graham Lake\\nValdezfurt, IN 21739</td>\n",
       "      <td>03/25/1926, 00:00:00</td>\n",
       "      <td>(Decimal('-5.4110755'), Decimal('-172.109419'))</td>\n",
       "      <td>351-11-1730</td>\n",
       "    </tr>\n",
       "    <tr>\n",
       "      <th>2</th>\n",
       "      <td>M</td>\n",
       "      <td>Tourism officer</td>\n",
       "      <td>AB-</td>\n",
       "      <td>Franklin Moore</td>\n",
       "      <td>White</td>\n",
       "      <td>42832 Patrick Island\\nEast Bradton, DE 36334</td>\n",
       "      <td>05/06/1958, 00:00:00</td>\n",
       "      <td>(Decimal('-88.540956'), Decimal('-94.396339'))</td>\n",
       "      <td>824-41-6795</td>\n",
       "    </tr>\n",
       "    <tr>\n",
       "      <th>3</th>\n",
       "      <td>F</td>\n",
       "      <td>Social worker</td>\n",
       "      <td>A+</td>\n",
       "      <td>Jennifer Anderson</td>\n",
       "      <td>White</td>\n",
       "      <td>Unit 8158 Box 0225\\nDPO AP 69059</td>\n",
       "      <td>1908-06-07</td>\n",
       "      <td>(Decimal('85.9643255'), Decimal('-165.105180'))</td>\n",
       "      <td>077-59-6064</td>\n",
       "    </tr>\n",
       "    <tr>\n",
       "      <th>4</th>\n",
       "      <td>F</td>\n",
       "      <td>Naval architect</td>\n",
       "      <td>A+</td>\n",
       "      <td>Carrie Wilson</td>\n",
       "      <td>Black</td>\n",
       "      <td>0994 Daniel Park Apt. 137\\nWest Melinda, KS 34770</td>\n",
       "      <td>13 Jan 1974</td>\n",
       "      <td>(Decimal('-27.169289'), Decimal('96.479444'))</td>\n",
       "      <td>004-15-9553</td>\n",
       "    </tr>\n",
       "  </tbody>\n",
       "</table>\n",
       "</div>"
      ],
      "text/plain": [
       "  sex                      job blood_group               name      race  \\\n",
       "0   M  Secretary/administrator          O+      Colton Garcia  Hawaiian   \n",
       "1   M           Hydrogeologist         AB+         James Gray  Hawaiian   \n",
       "2   M          Tourism officer         AB-     Franklin Moore     White   \n",
       "3   F            Social worker          A+  Jennifer Anderson     White   \n",
       "4   F          Naval architect          A+      Carrie Wilson     Black   \n",
       "\n",
       "                                             address             birthdate  \\\n",
       "0             222 Smith Shoals\\nOrtegaland, NM 25312            1990-04-02   \n",
       "1              755 Graham Lake\\nValdezfurt, IN 21739  03/25/1926, 00:00:00   \n",
       "2       42832 Patrick Island\\nEast Bradton, DE 36334  05/06/1958, 00:00:00   \n",
       "3                   Unit 8158 Box 0225\\nDPO AP 69059            1908-06-07   \n",
       "4  0994 Daniel Park Apt. 137\\nWest Melinda, KS 34770           13 Jan 1974   \n",
       "\n",
       "                                  current_location          ssn  \n",
       "0    (Decimal('81.068645'), Decimal('-61.887841'))  224-40-1972  \n",
       "1  (Decimal('-5.4110755'), Decimal('-172.109419'))  351-11-1730  \n",
       "2   (Decimal('-88.540956'), Decimal('-94.396339'))  824-41-6795  \n",
       "3  (Decimal('85.9643255'), Decimal('-165.105180'))  077-59-6064  \n",
       "4    (Decimal('-27.169289'), Decimal('96.479444'))  004-15-9553  "
      ]
     },
     "execution_count": 7,
     "metadata": {},
     "output_type": "execute_result"
    }
   ],
   "source": [
    "df_p.head()"
   ]
  },
  {
   "cell_type": "code",
   "execution_count": 8,
   "id": "cfdb2bf8",
   "metadata": {},
   "outputs": [
    {
     "name": "stdout",
     "output_type": "stream",
     "text": [
      "<class 'pandas.core.frame.DataFrame'>\n",
      "Int64Index: 3112 entries, 0 to 3111\n",
      "Data columns (total 9 columns):\n",
      " #   Column            Non-Null Count  Dtype \n",
      "---  ------            --------------  ----- \n",
      " 0   sex               3112 non-null   object\n",
      " 1   job               3112 non-null   object\n",
      " 2   blood_group       3112 non-null   object\n",
      " 3   name              3112 non-null   object\n",
      " 4   race              3112 non-null   object\n",
      " 5   address           3112 non-null   object\n",
      " 6   birthdate         3112 non-null   object\n",
      " 7   current_location  3112 non-null   object\n",
      " 8   ssn               3112 non-null   object\n",
      "dtypes: object(9)\n",
      "memory usage: 243.1+ KB\n"
     ]
    }
   ],
   "source": [
    "df_p.info()"
   ]
  },
  {
   "cell_type": "markdown",
   "id": "45ff3a4b-3bd4-436d-ad0f-429af3a3e20a",
   "metadata": {},
   "source": [
    "## popis stlpcov\n",
    "- sex -> pohlavie (M/F)\n",
    "- job -> profesia\n",
    "- blood_group -> krvna skupina (0+, 0-, AB+, AB-, A+, A-, B+, B-)\n",
    "- name -> meno pacienta\n",
    "- race -> rasa (Hawaiian, White, Black, Asian, Indian)\n",
    "- address -> adresa pacienta\n",
    "- birthdate -> datum narodenia\n",
    "- current_location -> momentalna lokacia (suradnice -> tuple)\n",
    "- ssn -> Social Secure Number (nieco ako rodne cislo?)"
   ]
  },
  {
   "cell_type": "markdown",
   "id": "a3fea0e8-4b6b-47b9-bbea-ae2d5f9a0a98",
   "metadata": {},
   "source": [
    "## testy"
   ]
  },
  {
   "cell_type": "code",
   "execution_count": 10,
   "id": "a56208b7-4b02-40d4-a7d7-e76a78b9c90b",
   "metadata": {},
   "outputs": [
    {
     "data": {
      "text/plain": [
       "array(['O+', 'AB+', 'AB-', 'A+', 'B-', 'O-', 'B+', 'A-'], dtype=object)"
      ]
     },
     "execution_count": 10,
     "metadata": {},
     "output_type": "execute_result"
    }
   ],
   "source": [
    "df_p.blood_group.unique()"
   ]
  },
  {
   "cell_type": "code",
   "execution_count": 11,
   "id": "89945d59-aa17-4bff-9e4c-3e15a8d44d6f",
   "metadata": {},
   "outputs": [
    {
     "data": {
      "text/plain": [
       "array(['Hawaiian', 'White', 'Black', 'Asian', 'Indian', 'black', 'blsck',\n",
       "       'white'], dtype=object)"
      ]
     },
     "execution_count": 11,
     "metadata": {},
     "output_type": "execute_result"
    }
   ],
   "source": [
    "df_p.race.unique()"
   ]
  },
  {
   "cell_type": "code",
   "execution_count": 13,
   "id": "086d87cc-0642-40a2-800d-b943cbf0cc88",
   "metadata": {},
   "outputs": [
    {
     "data": {
      "text/plain": [
       "sex                 object\n",
       "job                 object\n",
       "blood_group         object\n",
       "name                object\n",
       "race                object\n",
       "address             object\n",
       "birthdate           object\n",
       "current_location    object\n",
       "ssn                 object\n",
       "dtype: object"
      ]
     },
     "execution_count": 13,
     "metadata": {},
     "output_type": "execute_result"
    }
   ],
   "source": [
    "df_p.dtypes"
   ]
  },
  {
   "cell_type": "markdown",
   "id": "fda09935-6cc0-49c3-992f-dcdd0c98986b",
   "metadata": {},
   "source": [
    "# Opis dat\n",
    "## labor\n",
    "- pocet zaznamov: 9987\n",
    "- pocet atributov: 17 (atributy=stlpce?)\n",
    "- ich typy: \n",
    "- vyznamne atributy:\n",
    "\n",
    "## profiles\n",
    "- pocet zaznamov: 3112\n",
    "- pocet atributov: 9\n",
    "- ich typy:\n",
    "    - vacsina: string (object)\n",
    "    - birthday: dalo by sa prerobit na timestamp\n",
    "    - current_location: tuple - (decimal, decimal)\n",
    "- vyznamne atributy:"
   ]
  },
  {
   "cell_type": "code",
   "execution_count": null,
   "id": "c060ff72-1a5c-4b07-ab6d-97b7db7449fd",
   "metadata": {},
   "outputs": [],
   "source": []
  }
 ],
 "metadata": {
  "kernelspec": {
   "display_name": "Python 3 (ipykernel)",
   "language": "python",
   "name": "python3"
  },
  "language_info": {
   "codemirror_mode": {
    "name": "ipython",
    "version": 3
   },
   "file_extension": ".py",
   "mimetype": "text/x-python",
   "name": "python",
   "nbconvert_exporter": "python",
   "pygments_lexer": "ipython3",
   "version": "3.8.6"
  }
 },
 "nbformat": 4,
 "nbformat_minor": 5
}
