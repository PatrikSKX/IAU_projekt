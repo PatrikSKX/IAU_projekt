{
 "cells": [
  {
   "cell_type": "code",
   "execution_count": 1,
   "id": "49180404-bd64-4a15-8e1a-32aa7ce0acee",
   "metadata": {},
   "outputs": [],
   "source": [
    "import matplotlib.pyplot as plt\n",
    "import seaborn as sns\n",
    "import pandas as pd\n",
    "import numpy as np\n",
    "import scipy.stats as stats\n",
    "import random"
   ]
  },
  {
   "cell_type": "code",
   "execution_count": 2,
   "id": "a33eb11f-b2db-439c-b71c-f666b63732b9",
   "metadata": {},
   "outputs": [],
   "source": [
    "filename = \"020/profiles.csv\"\n",
    "profiles = pd.read_csv(filename, sep='\\t', index_col=0)\n",
    "filename2 = \"020/labor.csv\"\n",
    "labor = pd.read_csv(filename2, sep='\\t', index_col=0)"
   ]
  },
  {
   "cell_type": "code",
   "execution_count": 3,
   "id": "6fc88084-765c-487e-a941-c56695ebfe5c",
   "metadata": {},
   "outputs": [],
   "source": [
    "labor.loc[labor['smoker'] == 'yes', 'smoker']='Y'\n",
    "labor.loc[labor['smoker'] == 'no', 'smoker']='N'\n",
    "labor['weight']=labor['weight'].apply(abs)\n",
    "labor = labor.drop_duplicates()\n",
    "labor = labor.reset_index(drop = True)"
   ]
  },
  {
   "cell_type": "code",
   "execution_count": 4,
   "id": "50d63eb4-9a2f-4d3f-a8ba-31cad27f34d0",
   "metadata": {},
   "outputs": [],
   "source": [
    "labor.loc[labor['smoker'] == 'Y', 'smoker']=1\n",
    "labor.loc[labor['smoker'] == 'N', 'smoker']=0\n",
    "labor['smoker'] = labor['smoker'].astype(float, errors = 'raise')"
   ]
  },
  {
   "cell_type": "markdown",
   "id": "7605bada-d089-41ab-8262-c07ca2c61c42",
   "metadata": {},
   "source": [
    "## numerical data"
   ]
  },
  {
   "cell_type": "code",
   "execution_count": 5,
   "id": "8060daa7-0c3c-4f60-bb0c-25c8a63f972c",
   "metadata": {},
   "outputs": [
    {
     "data": {
      "text/html": [
       "<div>\n",
       "<style scoped>\n",
       "    .dataframe tbody tr th:only-of-type {\n",
       "        vertical-align: middle;\n",
       "    }\n",
       "\n",
       "    .dataframe tbody tr th {\n",
       "        vertical-align: top;\n",
       "    }\n",
       "\n",
       "    .dataframe thead th {\n",
       "        text-align: right;\n",
       "    }\n",
       "</style>\n",
       "<table border=\"1\" class=\"dataframe\">\n",
       "  <thead>\n",
       "    <tr style=\"text-align: right;\">\n",
       "      <th></th>\n",
       "      <th>er-cv</th>\n",
       "      <th>name</th>\n",
       "      <th>indicator</th>\n",
       "      <th>leukocyty</th>\n",
       "      <th>weight</th>\n",
       "      <th>ssn</th>\n",
       "      <th>relationship</th>\n",
       "      <th>etytr</th>\n",
       "      <th>smoker</th>\n",
       "      <th>erytrocyty</th>\n",
       "      <th>trombocyty</th>\n",
       "      <th>hemoglobin</th>\n",
       "      <th>ast</th>\n",
       "      <th>alp</th>\n",
       "      <th>alt</th>\n",
       "      <th>hematokrit</th>\n",
       "      <th>hbver</th>\n",
       "    </tr>\n",
       "  </thead>\n",
       "  <tbody>\n",
       "    <tr>\n",
       "      <th>0</th>\n",
       "      <td>43.09887</td>\n",
       "      <td>Devin Diaz</td>\n",
       "      <td>1.0</td>\n",
       "      <td>4.47526</td>\n",
       "      <td>65.57593</td>\n",
       "      <td>597-97-9078</td>\n",
       "      <td>single</td>\n",
       "      <td>5.96219</td>\n",
       "      <td>0.0</td>\n",
       "      <td>6.20665</td>\n",
       "      <td>5.71427</td>\n",
       "      <td>5.06667</td>\n",
       "      <td>57.92930</td>\n",
       "      <td>57.60257</td>\n",
       "      <td>5.12934</td>\n",
       "      <td>7.11081</td>\n",
       "      <td>6.32708</td>\n",
       "    </tr>\n",
       "    <tr>\n",
       "      <th>1</th>\n",
       "      <td>32.51734</td>\n",
       "      <td>Theodore Morris</td>\n",
       "      <td>1.0</td>\n",
       "      <td>4.41339</td>\n",
       "      <td>58.47779</td>\n",
       "      <td>100-19-5038</td>\n",
       "      <td>divoced</td>\n",
       "      <td>5.44840</td>\n",
       "      <td>0.0</td>\n",
       "      <td>5.58217</td>\n",
       "      <td>6.29619</td>\n",
       "      <td>6.90945</td>\n",
       "      <td>61.47846</td>\n",
       "      <td>83.38342</td>\n",
       "      <td>10.59365</td>\n",
       "      <td>8.52324</td>\n",
       "      <td>9.06429</td>\n",
       "    </tr>\n",
       "    <tr>\n",
       "      <th>2</th>\n",
       "      <td>54.39106</td>\n",
       "      <td>Ashley Mccormick</td>\n",
       "      <td>1.0</td>\n",
       "      <td>4.71119</td>\n",
       "      <td>37.58396</td>\n",
       "      <td>241-30-2551</td>\n",
       "      <td>widowed</td>\n",
       "      <td>6.75478</td>\n",
       "      <td>1.0</td>\n",
       "      <td>6.36030</td>\n",
       "      <td>6.67129</td>\n",
       "      <td>4.08668</td>\n",
       "      <td>59.37033</td>\n",
       "      <td>31.60935</td>\n",
       "      <td>10.72644</td>\n",
       "      <td>8.41874</td>\n",
       "      <td>7.11435</td>\n",
       "    </tr>\n",
       "    <tr>\n",
       "      <th>3</th>\n",
       "      <td>45.79943</td>\n",
       "      <td>Brent Howard</td>\n",
       "      <td>1.0</td>\n",
       "      <td>5.38079</td>\n",
       "      <td>88.06628</td>\n",
       "      <td>667-52-4116</td>\n",
       "      <td>married</td>\n",
       "      <td>6.33099</td>\n",
       "      <td>0.0</td>\n",
       "      <td>5.45784</td>\n",
       "      <td>6.24957</td>\n",
       "      <td>5.57164</td>\n",
       "      <td>50.31551</td>\n",
       "      <td>75.29715</td>\n",
       "      <td>9.26557</td>\n",
       "      <td>4.69702</td>\n",
       "      <td>7.00724</td>\n",
       "    </tr>\n",
       "    <tr>\n",
       "      <th>4</th>\n",
       "      <td>48.81261</td>\n",
       "      <td>Paul Jordan</td>\n",
       "      <td>0.0</td>\n",
       "      <td>4.72469</td>\n",
       "      <td>44.59816</td>\n",
       "      <td>368-59-5827</td>\n",
       "      <td>divoced</td>\n",
       "      <td>6.62153</td>\n",
       "      <td>0.0</td>\n",
       "      <td>6.36262</td>\n",
       "      <td>6.44608</td>\n",
       "      <td>6.49617</td>\n",
       "      <td>50.44424</td>\n",
       "      <td>84.90135</td>\n",
       "      <td>9.31196</td>\n",
       "      <td>6.31221</td>\n",
       "      <td>8.54503</td>\n",
       "    </tr>\n",
       "  </tbody>\n",
       "</table>\n",
       "</div>"
      ],
      "text/plain": [
       "      er-cv              name  indicator  leukocyty    weight          ssn  \\\n",
       "0  43.09887        Devin Diaz        1.0    4.47526  65.57593  597-97-9078   \n",
       "1  32.51734   Theodore Morris        1.0    4.41339  58.47779  100-19-5038   \n",
       "2  54.39106  Ashley Mccormick        1.0    4.71119  37.58396  241-30-2551   \n",
       "3  45.79943      Brent Howard        1.0    5.38079  88.06628  667-52-4116   \n",
       "4  48.81261       Paul Jordan        0.0    4.72469  44.59816  368-59-5827   \n",
       "\n",
       "  relationship    etytr  smoker  erytrocyty  trombocyty  hemoglobin       ast  \\\n",
       "0       single  5.96219     0.0     6.20665     5.71427     5.06667  57.92930   \n",
       "1      divoced  5.44840     0.0     5.58217     6.29619     6.90945  61.47846   \n",
       "2      widowed  6.75478     1.0     6.36030     6.67129     4.08668  59.37033   \n",
       "3      married  6.33099     0.0     5.45784     6.24957     5.57164  50.31551   \n",
       "4      divoced  6.62153     0.0     6.36262     6.44608     6.49617  50.44424   \n",
       "\n",
       "        alp       alt  hematokrit    hbver  \n",
       "0  57.60257   5.12934     7.11081  6.32708  \n",
       "1  83.38342  10.59365     8.52324  9.06429  \n",
       "2  31.60935  10.72644     8.41874  7.11435  \n",
       "3  75.29715   9.26557     4.69702  7.00724  \n",
       "4  84.90135   9.31196     6.31221  8.54503  "
      ]
     },
     "execution_count": 5,
     "metadata": {},
     "output_type": "execute_result"
    }
   ],
   "source": [
    "labor.head()"
   ]
  },
  {
   "cell_type": "code",
   "execution_count": null,
   "id": "7a403110-5930-4a10-9d46-8dea3d8c68e9",
   "metadata": {},
   "outputs": [],
   "source": []
  },
  {
   "cell_type": "markdown",
   "id": "708f9c4c-fd31-4b41-b5f5-25d9b5d8f958",
   "metadata": {},
   "source": [
    "# 1 a\n",
    "\n",
    "Missing values: \n",
    " - labor_dropna -> vymazane vsetky riadky s nan hodnotou\n",
    " - labor -> nan hodnoty v labor su dalej vyplnene podla funkcie my_fill_na (vyplnene priemerom)"
   ]
  },
  {
   "cell_type": "code",
   "execution_count": 6,
   "id": "f659eab2-d3f6-4921-b6d4-78b99af93c27",
   "metadata": {},
   "outputs": [],
   "source": [
    "def my_fill_na(arg1,ind):\n",
    "    labor.loc[labor['indicator'] == ind , arg1] = labor.loc[labor['indicator'] == ind , arg1].fillna(\n",
    "    (labor.loc[labor['indicator'] == ind , arg1].mean()))\n",
    "    \n",
    "def drop_na(df):\n",
    "    return df.copy().dropna()\n",
    "\n",
    "def use_my_fill_na(atributes):\n",
    "    for atribute in atributes:\n",
    "        my_fill_na(atribute, 0)\n",
    "        my_fill_na(atribute, 1)"
   ]
  },
  {
   "cell_type": "code",
   "execution_count": 7,
   "id": "48b35e1b-5d42-4ddd-b5fb-53532916b7e9",
   "metadata": {},
   "outputs": [],
   "source": [
    "drop_labor = drop_na(labor)\n",
    "use_my_fill_na(['er-cv', 'leukocyty', 'etytr', 'erytrocyty', 'trombocyty', 'hemoglobin', 'ast', 'alt', 'alp', 'hematokrit', 'hbver'])"
   ]
  },
  {
   "cell_type": "markdown",
   "id": "0bb26b10-cd97-429c-98db-0fedc2e80664",
   "metadata": {},
   "source": [
    "# 1 b"
   ]
  },
  {
   "cell_type": "code",
   "execution_count": 8,
   "id": "f766f1e2-ce33-40ff-8769-fe86031abbb2",
   "metadata": {},
   "outputs": [],
   "source": [
    "def detect_outlier(atr):\n",
    "    lower = atr.quantile(0.25) - 1.5\n",
    "    upper = atr.quantile(0.75) + 1.5\n",
    "    \n",
    "    return atr[(atr > upper) | (atr < lower)]\n",
    "\n",
    "def detect_upper_lower_outliers(atr):\n",
    "    lower = atr.quantile(0.25) - 1.5\n",
    "    upper = atr.quantile(0.75) + 1.5\n",
    "    \n",
    "    return atr[(atr > upper)], atr[(atr < lower)]\n",
    "\n",
    "# Tato funkcia najde vrchnych a spodnych outlierov a vyplni ich nahodnou hodnotou medzi minimom bez outlierov a 10 spodnych % pripadne maximom bez outlierov a 10 vrchnych %\n",
    "def fill_outliers(df, atr):\n",
    "    df.loc[detect_upper_lower_outliers(df[atr])[0].index, [atr]] = random.uniform(df.drop(detect_upper_lower_outliers(df[atr])[0].index)[atr].quantile(0.90), df.drop(detect_upper_lower_outliers(df[atr])[0].index)[atr].max())\n",
    "    df.loc[detect_upper_lower_outliers(df[atr])[1].index, [atr]] = random.uniform(df.drop(detect_upper_lower_outliers(df[atr])[1].index)[atr].min(), df.drop(detect_upper_lower_outliers(df[atr])[1].index)[atr].quantile(0.10))\n",
    "    df[atr]\n",
    "    \n",
    "def handle_outlier(df, atributes, handle_type='fill'):\n",
    "    result = df.copy()\n",
    "    if handle_type == 'fill':\n",
    "        for atribute in atributes:\n",
    "            fill_outliers(result, atribute)\n",
    "    elif handle_type == 'drop':\n",
    "        for atribute in atributes:\n",
    "            result.drop(detect_outlier(result[atribute]).index, inplace=True)\n",
    "    else:\n",
    "        print(\"incorrect handle_type\")\n",
    "    return result"
   ]
  },
  {
   "cell_type": "code",
   "execution_count": 9,
   "id": "53d134da-3506-4c86-a03c-5fbdf9eca7ff",
   "metadata": {},
   "outputs": [],
   "source": [
    "fill_labor = handle_outlier(labor, ['er-cv', 'leukocyty', 'etytr', 'erytrocyty', 'trombocyty', 'hemoglobin', 'ast', 'alt', 'alp', 'hematokrit', 'hbver'], 'fill')\n",
    "drop_labor = handle_outlier(labor, ['er-cv', 'leukocyty', 'etytr', 'erytrocyty', 'trombocyty', 'hemoglobin', 'ast', 'alt', 'alp', 'hematokrit', 'hbver'], 'drop')"
   ]
  },
  {
   "cell_type": "code",
   "execution_count": 10,
   "id": "b80e627e-87ef-45d7-a18a-3fe0d78965d9",
   "metadata": {},
   "outputs": [],
   "source": [
    "# decision\n",
    "labor = fill_labor"
   ]
  },
  {
   "cell_type": "markdown",
   "id": "97512116-3c14-491b-922b-e0e85e3fe880",
   "metadata": {},
   "source": [
    "# 2 a"
   ]
  },
  {
   "cell_type": "code",
   "execution_count": 11,
   "id": "7fc86a0c-de92-47d5-ad3b-93288dca7ef4",
   "metadata": {},
   "outputs": [],
   "source": [
    "split_by = 0.75\n",
    "labor_train = labor.sample(frac=split_by,random_state=200)\n",
    "labor_test = labor\n",
    "labor_test = pd.merge(labor_test,labor_train,indicator = True, how = 'outer').query('_merge==\"left_only\"').drop('_merge', axis = 1)\n",
    "labor_train=labor_train.drop(['name','relationship','ssn'],axis=1)"
   ]
  },
  {
   "cell_type": "markdown",
   "id": "fbe9a102-2932-4142-8fda-489c2394cf99",
   "metadata": {},
   "source": [
    "# 2 b"
   ]
  },
  {
   "cell_type": "code",
   "execution_count": 12,
   "id": "6d707d7c-b317-4415-b9f1-c2744bf77d03",
   "metadata": {},
   "outputs": [],
   "source": [
    "atributes = ['er-cv', 'leukocyty', 'etytr', 'erytrocyty', 'trombocyty', 'hemoglobin', 'ast', 'alt', 'alp', 'hematokrit', 'hbver']"
   ]
  },
  {
   "cell_type": "code",
   "execution_count": 13,
   "id": "b9eed22e-2454-4b95-af76-49596d8f0eaa",
   "metadata": {},
   "outputs": [],
   "source": [
    "def my_fit(df, scaler, atributes):\n",
    "    return scaler.fit_transform(df.loc[:, atributes])"
   ]
  },
  {
   "cell_type": "code",
   "execution_count": 14,
   "id": "d2a6c0fd-2bac-4424-8458-6fdf06bc9d48",
   "metadata": {},
   "outputs": [
    {
     "data": {
      "text/plain": [
       "<AxesSubplot:ylabel='Count'>"
      ]
     },
     "execution_count": 14,
     "metadata": {},
     "output_type": "execute_result"
    },
    {
     "data": {
      "image/png": "[encoded data removed]",
      "text/plain": [
       "<Figure size 432x288 with 1 Axes>"
      ]
     },
     "metadata": {
      "needs_background": "light"
     },
     "output_type": "display_data"
    }
   ],
   "source": [
    "sns.histplot(drop_labor.loc[:, atributes])"
   ]
  },
  {
   "cell_type": "code",
   "execution_count": 15,
   "id": "f3a594b9-699a-4971-86d3-ed1081c47c9d",
   "metadata": {},
   "outputs": [
    {
     "data": {
      "text/plain": [
       "<AxesSubplot:ylabel='Count'>"
      ]
     },
     "execution_count": 15,
     "metadata": {},
     "output_type": "execute_result"
    },
    {
     "data": {
      "image/png": "[encoded data removed]",
      "text/plain": [
       "<Figure size 432x288 with 1 Axes>"
      ]
     },
     "metadata": {
      "needs_background": "light"
     },
     "output_type": "display_data"
    }
   ],
   "source": [
    "from sklearn.preprocessing import MinMaxScaler\n",
    "scaler = MinMaxScaler()\n",
    "scaled = scaler.fit_transform(drop_labor.loc[:, atributes])\n",
    "sns.histplot(scaled)"
   ]
  },
  {
   "cell_type": "code",
   "execution_count": 16,
   "id": "a3301c3e-36ab-404f-a08e-261147f2cc9e",
   "metadata": {},
   "outputs": [
    {
     "data": {
      "text/plain": [
       "<AxesSubplot:ylabel='Count'>"
      ]
     },
     "execution_count": 16,
     "metadata": {},
     "output_type": "execute_result"
    },
    {
     "data": {
      "image/png": "[encoded data removed]",
      "text/plain": [
       "<Figure size 432x288 with 1 Axes>"
      ]
     },
     "metadata": {
      "needs_background": "light"
     },
     "output_type": "display_data"
    }
   ],
   "source": [
    "from sklearn.preprocessing import StandardScaler\n",
    "scaler = StandardScaler()\n",
    "scaled = scaler.fit_transform(drop_labor.loc[:, atributes])\n",
    "sns.histplot(scaled)"
   ]
  },
  {
   "cell_type": "code",
   "execution_count": 17,
   "id": "94cc463b-06d1-4142-a85d-abbd33182fc6",
   "metadata": {},
   "outputs": [
    {
     "data": {
      "text/plain": [
       "<AxesSubplot:ylabel='Count'>"
      ]
     },
     "execution_count": 17,
     "metadata": {},
     "output_type": "execute_result"
    },
    {
     "data": {
      "image/png": "[encoded data removed]",
      "text/plain": [
       "<Figure size 432x288 with 1 Axes>"
      ]
     },
     "metadata": {
      "needs_background": "light"
     },
     "output_type": "display_data"
    }
   ],
   "source": [
    "from sklearn.preprocessing import RobustScaler\n",
    "scaler = RobustScaler()\n",
    "scaled = scaler.fit_transform(drop_labor.loc[:, atributes])\n",
    "sns.histplot(scaled)"
   ]
  },
  {
   "cell_type": "code",
   "execution_count": 18,
   "id": "42474688-b84c-4066-9f1f-48b1efb0ae72",
   "metadata": {},
   "outputs": [
    {
     "data": {
      "text/plain": [
       "<AxesSubplot:ylabel='Count'>"
      ]
     },
     "execution_count": 18,
     "metadata": {},
     "output_type": "execute_result"
    },
    {
     "data": {
      "image/png": "[encoded data removed]",
      "text/plain": [
       "<Figure size 432x288 with 1 Axes>"
      ]
     },
     "metadata": {
      "needs_background": "light"
     },
     "output_type": "display_data"
    }
   ],
   "source": [
    "from sklearn.preprocessing import PowerTransformer\n",
    "power = PowerTransformer(method='yeo-johnson', standardize=True)\n",
    "trans = power.fit_transform(drop_labor.loc[:, atributes])\n",
    "sns.histplot(trans)"
   ]
  },
  {
   "cell_type": "code",
   "execution_count": 19,
   "id": "0705b417-f659-48c6-b554-99ac8f8229d5",
   "metadata": {},
   "outputs": [
    {
     "data": {
      "text/plain": [
       "<AxesSubplot:ylabel='Count'>"
      ]
     },
     "execution_count": 19,
     "metadata": {},
     "output_type": "execute_result"
    },
    {
     "data": {
      "image/png": "[encoded data removed]",
      "text/plain": [
       "<Figure size 432x288 with 1 Axes>"
      ]
     },
     "metadata": {
      "needs_background": "light"
     },
     "output_type": "display_data"
    }
   ],
   "source": [
    "from sklearn.preprocessing import QuantileTransformer\n",
    "qt = QuantileTransformer(n_quantiles=10, random_state=0)\n",
    "trans = qt.fit_transform(drop_labor.loc[:, atributes])\n",
    "sns.histplot(trans)"
   ]
  },
  {
   "cell_type": "code",
   "execution_count": 20,
   "id": "7886dab7-5b44-4c2f-830f-3a9ef55c97b0",
   "metadata": {},
   "outputs": [],
   "source": [
    "# decision\n",
    "# from sklearn.preprocessing import MinMaxScaler\n",
    "# scaler = MinMaxScaler()\n",
    "# labor = my_fit(labor, scaler, ['er-cv', 'leukocyty', 'etytr', 'erytrocyty', 'trombocyty', 'hemoglobin', 'ast', 'alt', 'alp', 'hematokrit', 'hbver'])\n",
    "# sns.histplot(labor)"
   ]
  },
  {
   "cell_type": "code",
   "execution_count": 21,
   "id": "d4989d38-4c75-4ba5-a6ea-52696208aa94",
   "metadata": {},
   "outputs": [],
   "source": [
    "# data cleaning (2.1)\n",
    "def run_data_clean(atributes):\n",
    "    use_my_fill_na(atributes)\n",
    "    fill_labor = handle_outlier(labor, atributes, 'fill')\n",
    "    \n",
    "# preprocessing realisation (2.2)\n",
    "def run_preprocessing_realisation(df):\n",
    "    split_by = 0.75\n",
    "    df_train = df.sample(frac=split_by,random_state=200)\n",
    "    df_train.sort_index()\n",
    "    df_test = df\n",
    "    df_test = pd.merge(df_test,df_train,indicator = True, how = 'outer').query('_merge==\"left_only\"').drop('_merge', axis = 1)\n",
    "    return df_train, df_test\n",
    "\n",
    "def transformation(df, atributes):\n",
    "    from sklearn.preprocessing import MinMaxScaler\n",
    "    scaler = MinMaxScaler()\n",
    "    return my_fit(df, scaler, atributes)\n",
    "    \n"
   ]
  },
  {
   "cell_type": "code",
   "execution_count": 22,
   "id": "1e495b87-9a04-4d86-813a-d39c601a3216",
   "metadata": {},
   "outputs": [
    {
     "data": {
      "text/plain": [
       "<AxesSubplot:ylabel='Count'>"
      ]
     },
     "execution_count": 22,
     "metadata": {},
     "output_type": "execute_result"
    },
    {
     "data": {
      "image/png": "[encoded data removed]",
      "text/plain": [
       "<Figure size 432x288 with 1 Axes>"
      ]
     },
     "metadata": {
      "needs_background": "light"
     },
     "output_type": "display_data"
    }
   ],
   "source": [
    "sns.histplot(labor)"
   ]
  },
  {
   "cell_type": "code",
   "execution_count": 25,
   "id": "d3f4fd87-ba81-4b76-8c3d-b3211379df41",
   "metadata": {},
   "outputs": [
    {
     "ename": "AttributeError",
     "evalue": "'Pipeline' object has no attribute 'drop'",
     "output_type": "error",
     "traceback": [
      "\u001b[1;31m---------------------------------------------------------------------------\u001b[0m",
      "\u001b[1;31mAttributeError\u001b[0m                            Traceback (most recent call last)",
      "\u001b[1;32m~\\AppData\\Local\\Temp/ipykernel_16336/1254181826.py\u001b[0m in \u001b[0;36m<module>\u001b[1;34m\u001b[0m\n\u001b[0;32m      1\u001b[0m \u001b[1;32mfrom\u001b[0m \u001b[0msklearn\u001b[0m\u001b[1;33m.\u001b[0m\u001b[0mmodel_selection\u001b[0m \u001b[1;32mimport\u001b[0m \u001b[0mtrain_test_split\u001b[0m\u001b[1;33m\u001b[0m\u001b[1;33m\u001b[0m\u001b[0m\n\u001b[0;32m      2\u001b[0m \u001b[1;33m\u001b[0m\u001b[0m\n\u001b[1;32m----> 3\u001b[1;33m \u001b[0mX\u001b[0m \u001b[1;33m=\u001b[0m \u001b[0mlabor\u001b[0m\u001b[1;33m.\u001b[0m\u001b[0mdrop\u001b[0m\u001b[1;33m(\u001b[0m\u001b[1;33m[\u001b[0m\u001b[1;34m'name'\u001b[0m\u001b[1;33m,\u001b[0m\u001b[1;34m'relationship'\u001b[0m\u001b[1;33m,\u001b[0m\u001b[1;34m'ssn'\u001b[0m\u001b[1;33m]\u001b[0m\u001b[1;33m,\u001b[0m\u001b[0maxis\u001b[0m\u001b[1;33m=\u001b[0m\u001b[1;36m1\u001b[0m\u001b[1;33m)\u001b[0m\u001b[1;33m\u001b[0m\u001b[1;33m\u001b[0m\u001b[0m\n\u001b[0m\u001b[0;32m      4\u001b[0m \u001b[0my\u001b[0m \u001b[1;33m=\u001b[0m \u001b[0mlabor\u001b[0m\u001b[1;33m[\u001b[0m\u001b[1;34m'name'\u001b[0m\u001b[1;33m,\u001b[0m\u001b[1;34m'relationship'\u001b[0m\u001b[1;33m,\u001b[0m\u001b[1;34m'ssn'\u001b[0m\u001b[1;33m]\u001b[0m\u001b[1;33m\u001b[0m\u001b[1;33m\u001b[0m\u001b[0m\n\u001b[0;32m      5\u001b[0m \u001b[0mX_train\u001b[0m\u001b[1;33m,\u001b[0m \u001b[0mX_test\u001b[0m\u001b[1;33m,\u001b[0m \u001b[0my_train\u001b[0m\u001b[1;33m,\u001b[0m \u001b[0my_test\u001b[0m \u001b[1;33m=\u001b[0m \u001b[0mtrain_test_split\u001b[0m\u001b[1;33m(\u001b[0m\u001b[0mX\u001b[0m\u001b[1;33m,\u001b[0m \u001b[0my\u001b[0m\u001b[1;33m,\u001b[0m \u001b[0mtest_size\u001b[0m\u001b[1;33m=\u001b[0m\u001b[1;36m0.2\u001b[0m\u001b[1;33m,\u001b[0m \u001b[0mrandom_state\u001b[0m\u001b[1;33m=\u001b[0m\u001b[1;36m123\u001b[0m\u001b[1;33m)\u001b[0m\u001b[1;33m\u001b[0m\u001b[1;33m\u001b[0m\u001b[0m\n",
      "\u001b[1;31mAttributeError\u001b[0m: 'Pipeline' object has no attribute 'drop'"
     ]
    }
   ],
   "source": [
    "from sklearn.model_selection import train_test_split\n",
    "\n",
    "X = labor.drop(['name','relationship','ssn'],axis=1)\n",
    "y = labor['name','relationship','ssn']\n",
    "X_train, X_test, y_train, y_test = train_test_split(X, y, test_size=0.2, random_state=123)"
   ]
  },
  {
   "cell_type": "code",
   "execution_count": 24,
   "id": "407aa4c9-012c-4d2e-ad33-393b02be266d",
   "metadata": {},
   "outputs": [
    {
     "ename": "TypeError",
     "evalue": "Invalid object type at position 0",
     "output_type": "error",
     "traceback": [
      "\u001b[1;31m---------------------------------------------------------------------------\u001b[0m",
      "\u001b[1;31mTypeError\u001b[0m                                 Traceback (most recent call last)",
      "\u001b[1;32m~\\Documents\\Programming\\IAU\\env_iau\\lib\\site-packages\\pandas\\_libs\\lib.pyx\u001b[0m in \u001b[0;36mpandas._libs.lib.maybe_convert_numeric\u001b[1;34m()\u001b[0m\n",
      "\u001b[1;31mTypeError\u001b[0m: Invalid object type",
      "\nDuring handling of the above exception, another exception occurred:\n",
      "\u001b[1;31mTypeError\u001b[0m                                 Traceback (most recent call last)",
      "\u001b[1;32m~\\AppData\\Local\\Temp/ipykernel_16336/2674571184.py\u001b[0m in \u001b[0;36m<module>\u001b[1;34m\u001b[0m\n\u001b[1;32m----> 1\u001b[1;33m \u001b[0msns\u001b[0m\u001b[1;33m.\u001b[0m\u001b[0mhistplot\u001b[0m\u001b[1;33m(\u001b[0m\u001b[0mlabor\u001b[0m\u001b[1;33m)\u001b[0m\u001b[1;33m\u001b[0m\u001b[1;33m\u001b[0m\u001b[0m\n\u001b[0m",
      "\u001b[1;32m~\\Documents\\Programming\\IAU\\env_iau\\lib\\site-packages\\seaborn\\distributions.py\u001b[0m in \u001b[0;36mhistplot\u001b[1;34m(data, x, y, hue, weights, stat, bins, binwidth, binrange, discrete, cumulative, common_bins, common_norm, multiple, element, fill, shrink, kde, kde_kws, line_kws, thresh, pthresh, pmax, cbar, cbar_ax, cbar_kws, palette, hue_order, hue_norm, color, log_scale, legend, ax, **kwargs)\u001b[0m\n\u001b[0;32m   1460\u001b[0m     \u001b[1;32mif\u001b[0m \u001b[0mp\u001b[0m\u001b[1;33m.\u001b[0m\u001b[0munivariate\u001b[0m\u001b[1;33m:\u001b[0m\u001b[1;33m\u001b[0m\u001b[1;33m\u001b[0m\u001b[0m\n\u001b[0;32m   1461\u001b[0m \u001b[1;33m\u001b[0m\u001b[0m\n\u001b[1;32m-> 1462\u001b[1;33m         p.plot_univariate_histogram(\n\u001b[0m\u001b[0;32m   1463\u001b[0m             \u001b[0mmultiple\u001b[0m\u001b[1;33m=\u001b[0m\u001b[0mmultiple\u001b[0m\u001b[1;33m,\u001b[0m\u001b[1;33m\u001b[0m\u001b[1;33m\u001b[0m\u001b[0m\n\u001b[0;32m   1464\u001b[0m             \u001b[0melement\u001b[0m\u001b[1;33m=\u001b[0m\u001b[0melement\u001b[0m\u001b[1;33m,\u001b[0m\u001b[1;33m\u001b[0m\u001b[1;33m\u001b[0m\u001b[0m\n",
      "\u001b[1;32m~\\Documents\\Programming\\IAU\\env_iau\\lib\\site-packages\\seaborn\\distributions.py\u001b[0m in \u001b[0;36mplot_univariate_histogram\u001b[1;34m(self, multiple, element, fill, common_norm, common_bins, shrink, kde, kde_kws, color, legend, line_kws, estimate_kws, **plot_kws)\u001b[0m\n\u001b[0;32m    426\u001b[0m \u001b[1;33m\u001b[0m\u001b[0m\n\u001b[0;32m    427\u001b[0m         \u001b[1;31m# First pass through the data to compute the histograms\u001b[0m\u001b[1;33m\u001b[0m\u001b[1;33m\u001b[0m\u001b[1;33m\u001b[0m\u001b[0m\n\u001b[1;32m--> 428\u001b[1;33m         \u001b[1;32mfor\u001b[0m \u001b[0msub_vars\u001b[0m\u001b[1;33m,\u001b[0m \u001b[0msub_data\u001b[0m \u001b[1;32min\u001b[0m \u001b[0mself\u001b[0m\u001b[1;33m.\u001b[0m\u001b[0miter_data\u001b[0m\u001b[1;33m(\u001b[0m\u001b[1;34m\"hue\"\u001b[0m\u001b[1;33m,\u001b[0m \u001b[0mfrom_comp_data\u001b[0m\u001b[1;33m=\u001b[0m\u001b[1;32mTrue\u001b[0m\u001b[1;33m)\u001b[0m\u001b[1;33m:\u001b[0m\u001b[1;33m\u001b[0m\u001b[1;33m\u001b[0m\u001b[0m\n\u001b[0m\u001b[0;32m    429\u001b[0m \u001b[1;33m\u001b[0m\u001b[0m\n\u001b[0;32m    430\u001b[0m             \u001b[1;31m# Prepare the relevant data\u001b[0m\u001b[1;33m\u001b[0m\u001b[1;33m\u001b[0m\u001b[1;33m\u001b[0m\u001b[0m\n",
      "\u001b[1;32m~\\Documents\\Programming\\IAU\\env_iau\\lib\\site-packages\\seaborn\\_core.py\u001b[0m in \u001b[0;36miter_data\u001b[1;34m(self, grouping_vars, reverse, from_comp_data)\u001b[0m\n\u001b[0;32m    981\u001b[0m \u001b[1;33m\u001b[0m\u001b[0m\n\u001b[0;32m    982\u001b[0m         \u001b[1;32mif\u001b[0m \u001b[0mfrom_comp_data\u001b[0m\u001b[1;33m:\u001b[0m\u001b[1;33m\u001b[0m\u001b[1;33m\u001b[0m\u001b[0m\n\u001b[1;32m--> 983\u001b[1;33m             \u001b[0mdata\u001b[0m \u001b[1;33m=\u001b[0m \u001b[0mself\u001b[0m\u001b[1;33m.\u001b[0m\u001b[0mcomp_data\u001b[0m\u001b[1;33m\u001b[0m\u001b[1;33m\u001b[0m\u001b[0m\n\u001b[0m\u001b[0;32m    984\u001b[0m         \u001b[1;32melse\u001b[0m\u001b[1;33m:\u001b[0m\u001b[1;33m\u001b[0m\u001b[1;33m\u001b[0m\u001b[0m\n\u001b[0;32m    985\u001b[0m             \u001b[0mdata\u001b[0m \u001b[1;33m=\u001b[0m \u001b[0mself\u001b[0m\u001b[1;33m.\u001b[0m\u001b[0mplot_data\u001b[0m\u001b[1;33m\u001b[0m\u001b[1;33m\u001b[0m\u001b[0m\n",
      "\u001b[1;32m~\\Documents\\Programming\\IAU\\env_iau\\lib\\site-packages\\seaborn\\_core.py\u001b[0m in \u001b[0;36mcomp_data\u001b[1;34m(self)\u001b[0m\n\u001b[0;32m   1055\u001b[0m                     \u001b[0morig\u001b[0m \u001b[1;33m=\u001b[0m \u001b[0mself\u001b[0m\u001b[1;33m.\u001b[0m\u001b[0mplot_data\u001b[0m\u001b[1;33m[\u001b[0m\u001b[0mvar\u001b[0m\u001b[1;33m]\u001b[0m\u001b[1;33m.\u001b[0m\u001b[0mdropna\u001b[0m\u001b[1;33m(\u001b[0m\u001b[1;33m)\u001b[0m\u001b[1;33m\u001b[0m\u001b[1;33m\u001b[0m\u001b[0m\n\u001b[0;32m   1056\u001b[0m                 \u001b[0mcomp_col\u001b[0m \u001b[1;33m=\u001b[0m \u001b[0mpd\u001b[0m\u001b[1;33m.\u001b[0m\u001b[0mSeries\u001b[0m\u001b[1;33m(\u001b[0m\u001b[0mindex\u001b[0m\u001b[1;33m=\u001b[0m\u001b[0morig\u001b[0m\u001b[1;33m.\u001b[0m\u001b[0mindex\u001b[0m\u001b[1;33m,\u001b[0m \u001b[0mdtype\u001b[0m\u001b[1;33m=\u001b[0m\u001b[0mfloat\u001b[0m\u001b[1;33m,\u001b[0m \u001b[0mname\u001b[0m\u001b[1;33m=\u001b[0m\u001b[0mvar\u001b[0m\u001b[1;33m)\u001b[0m\u001b[1;33m\u001b[0m\u001b[1;33m\u001b[0m\u001b[0m\n\u001b[1;32m-> 1057\u001b[1;33m                 \u001b[0mcomp_col\u001b[0m\u001b[1;33m.\u001b[0m\u001b[0mloc\u001b[0m\u001b[1;33m[\u001b[0m\u001b[0morig\u001b[0m\u001b[1;33m.\u001b[0m\u001b[0mindex\u001b[0m\u001b[1;33m]\u001b[0m \u001b[1;33m=\u001b[0m \u001b[0mpd\u001b[0m\u001b[1;33m.\u001b[0m\u001b[0mto_numeric\u001b[0m\u001b[1;33m(\u001b[0m\u001b[0maxis\u001b[0m\u001b[1;33m.\u001b[0m\u001b[0mconvert_units\u001b[0m\u001b[1;33m(\u001b[0m\u001b[0morig\u001b[0m\u001b[1;33m)\u001b[0m\u001b[1;33m)\u001b[0m\u001b[1;33m\u001b[0m\u001b[1;33m\u001b[0m\u001b[0m\n\u001b[0m\u001b[0;32m   1058\u001b[0m \u001b[1;33m\u001b[0m\u001b[0m\n\u001b[0;32m   1059\u001b[0m                 \u001b[1;32mif\u001b[0m \u001b[0maxis\u001b[0m\u001b[1;33m.\u001b[0m\u001b[0mget_scale\u001b[0m\u001b[1;33m(\u001b[0m\u001b[1;33m)\u001b[0m \u001b[1;33m==\u001b[0m \u001b[1;34m\"log\"\u001b[0m\u001b[1;33m:\u001b[0m\u001b[1;33m\u001b[0m\u001b[1;33m\u001b[0m\u001b[0m\n",
      "\u001b[1;32m~\\Documents\\Programming\\IAU\\env_iau\\lib\\site-packages\\pandas\\core\\tools\\numeric.py\u001b[0m in \u001b[0;36mto_numeric\u001b[1;34m(arg, errors, downcast)\u001b[0m\n\u001b[0;32m    181\u001b[0m         \u001b[0mcoerce_numeric\u001b[0m \u001b[1;33m=\u001b[0m \u001b[0merrors\u001b[0m \u001b[1;32mnot\u001b[0m \u001b[1;32min\u001b[0m \u001b[1;33m(\u001b[0m\u001b[1;34m\"ignore\"\u001b[0m\u001b[1;33m,\u001b[0m \u001b[1;34m\"raise\"\u001b[0m\u001b[1;33m)\u001b[0m\u001b[1;33m\u001b[0m\u001b[1;33m\u001b[0m\u001b[0m\n\u001b[0;32m    182\u001b[0m         \u001b[1;32mtry\u001b[0m\u001b[1;33m:\u001b[0m\u001b[1;33m\u001b[0m\u001b[1;33m\u001b[0m\u001b[0m\n\u001b[1;32m--> 183\u001b[1;33m             values, _ = lib.maybe_convert_numeric(\n\u001b[0m\u001b[0;32m    184\u001b[0m                 \u001b[0mvalues\u001b[0m\u001b[1;33m,\u001b[0m \u001b[0mset\u001b[0m\u001b[1;33m(\u001b[0m\u001b[1;33m)\u001b[0m\u001b[1;33m,\u001b[0m \u001b[0mcoerce_numeric\u001b[0m\u001b[1;33m=\u001b[0m\u001b[0mcoerce_numeric\u001b[0m\u001b[1;33m\u001b[0m\u001b[1;33m\u001b[0m\u001b[0m\n\u001b[0;32m    185\u001b[0m             )\n",
      "\u001b[1;32m~\\Documents\\Programming\\IAU\\env_iau\\lib\\site-packages\\pandas\\_libs\\lib.pyx\u001b[0m in \u001b[0;36mpandas._libs.lib.maybe_convert_numeric\u001b[1;34m()\u001b[0m\n",
      "\u001b[1;31mTypeError\u001b[0m: Invalid object type at position 0"
     ]
    },
    {
     "data": {
      "image/png": "[encoded data removed]",
      "text/plain": [
       "<Figure size 432x288 with 1 Axes>"
      ]
     },
     "metadata": {
      "needs_background": "light"
     },
     "output_type": "display_data"
    }
   ],
   "source": [
    "sns.histplot(labor)"
   ]
  },
  {
   "cell_type": "code",
   "execution_count": null,
   "id": "e08b5ae9-bf31-45b9-bd8b-001869812e3e",
   "metadata": {},
   "outputs": [],
   "source": [
    "from sklearn import set_config\n",
    "set_config(display='diagram')\n",
    "clf"
   ]
  },
  {
   "cell_type": "code",
   "execution_count": null,
   "id": "fd2e6d01-bbcc-451c-ab1f-be4b9790417c",
   "metadata": {},
   "outputs": [],
   "source": []
  }
 ],
 "metadata": {
  "kernelspec": {
   "display_name": "Python 3 (ipykernel)",
   "language": "python",
   "name": "python3"
  },
  "language_info": {
   "codemirror_mode": {
    "name": "ipython",
    "version": 3
   },
   "file_extension": ".py",
   "mimetype": "text/x-python",
   "name": "python",
   "nbconvert_exporter": "python",
   "pygments_lexer": "ipython3",
   "version": "3.9.2"
  }
 },
 "nbformat": 4,
 "nbformat_minor": 5
}
