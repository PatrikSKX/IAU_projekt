{
 "cells": [
  {
   "cell_type": "code",
   "execution_count": 1,
   "id": "ec00d9cc-0c61-461a-8dec-64ffcc69fc20",
   "metadata": {},
   "outputs": [],
   "source": [
    "import matplotlib.pyplot as plt\n",
    "import seaborn as sns\n",
    "import pandas as pd\n",
    "import numpy as np\n",
    "import scipy.stats as stats\n",
    "import random"
   ]
  },
  {
   "cell_type": "code",
   "execution_count": 2,
   "id": "9595fddf-eed3-4bf2-9f74-1402e7241992",
   "metadata": {},
   "outputs": [
    {
     "data": {
      "text/html": [
       "<div>\n",
       "<style scoped>\n",
       "    .dataframe tbody tr th:only-of-type {\n",
       "        vertical-align: middle;\n",
       "    }\n",
       "\n",
       "    .dataframe tbody tr th {\n",
       "        vertical-align: top;\n",
       "    }\n",
       "\n",
       "    .dataframe thead th {\n",
       "        text-align: right;\n",
       "    }\n",
       "</style>\n",
       "<table border=\"1\" class=\"dataframe\">\n",
       "  <thead>\n",
       "    <tr style=\"text-align: right;\">\n",
       "      <th></th>\n",
       "      <th>sex</th>\n",
       "      <th>job</th>\n",
       "      <th>blood_group</th>\n",
       "      <th>name</th>\n",
       "      <th>race</th>\n",
       "      <th>address</th>\n",
       "      <th>birthdate</th>\n",
       "      <th>current_location</th>\n",
       "      <th>ssn</th>\n",
       "    </tr>\n",
       "  </thead>\n",
       "  <tbody>\n",
       "    <tr>\n",
       "      <th>0</th>\n",
       "      <td>M</td>\n",
       "      <td>Secretary/administrator</td>\n",
       "      <td>O+</td>\n",
       "      <td>Colton Garcia</td>\n",
       "      <td>Hawaiian</td>\n",
       "      <td>222 Smith Shoals\\r\\nOrtegaland, NM 25312</td>\n",
       "      <td>1990-04-02</td>\n",
       "      <td>(Decimal('81.068645'), Decimal('-61.887841'))</td>\n",
       "      <td>224-40-1972</td>\n",
       "    </tr>\n",
       "    <tr>\n",
       "      <th>1</th>\n",
       "      <td>M</td>\n",
       "      <td>Hydrogeologist</td>\n",
       "      <td>AB+</td>\n",
       "      <td>James Gray</td>\n",
       "      <td>Hawaiian</td>\n",
       "      <td>755 Graham Lake\\r\\nValdezfurt, IN 21739</td>\n",
       "      <td>03/25/1926, 00:00:00</td>\n",
       "      <td>(Decimal('-5.4110755'), Decimal('-172.109419'))</td>\n",
       "      <td>351-11-1730</td>\n",
       "    </tr>\n",
       "    <tr>\n",
       "      <th>2</th>\n",
       "      <td>M</td>\n",
       "      <td>Tourism officer</td>\n",
       "      <td>AB-</td>\n",
       "      <td>Franklin Moore</td>\n",
       "      <td>White</td>\n",
       "      <td>42832 Patrick Island\\r\\nEast Bradton, DE 36334</td>\n",
       "      <td>05/06/1958, 00:00:00</td>\n",
       "      <td>(Decimal('-88.540956'), Decimal('-94.396339'))</td>\n",
       "      <td>824-41-6795</td>\n",
       "    </tr>\n",
       "    <tr>\n",
       "      <th>3</th>\n",
       "      <td>F</td>\n",
       "      <td>Social worker</td>\n",
       "      <td>A+</td>\n",
       "      <td>Jennifer Anderson</td>\n",
       "      <td>White</td>\n",
       "      <td>Unit 8158 Box 0225\\r\\nDPO AP 69059</td>\n",
       "      <td>1908-06-07</td>\n",
       "      <td>(Decimal('85.9643255'), Decimal('-165.105180'))</td>\n",
       "      <td>077-59-6064</td>\n",
       "    </tr>\n",
       "    <tr>\n",
       "      <th>4</th>\n",
       "      <td>F</td>\n",
       "      <td>Naval architect</td>\n",
       "      <td>A+</td>\n",
       "      <td>Carrie Wilson</td>\n",
       "      <td>Black</td>\n",
       "      <td>0994 Daniel Park Apt. 137\\r\\nWest Melinda, KS ...</td>\n",
       "      <td>13 Jan 1974</td>\n",
       "      <td>(Decimal('-27.169289'), Decimal('96.479444'))</td>\n",
       "      <td>004-15-9553</td>\n",
       "    </tr>\n",
       "  </tbody>\n",
       "</table>\n",
       "</div>"
      ],
      "text/plain": [
       "  sex                      job blood_group               name      race  \\\n",
       "0   M  Secretary/administrator          O+      Colton Garcia  Hawaiian   \n",
       "1   M           Hydrogeologist         AB+         James Gray  Hawaiian   \n",
       "2   M          Tourism officer         AB-     Franklin Moore     White   \n",
       "3   F            Social worker          A+  Jennifer Anderson     White   \n",
       "4   F          Naval architect          A+      Carrie Wilson     Black   \n",
       "\n",
       "                                             address             birthdate  \\\n",
       "0           222 Smith Shoals\\r\\nOrtegaland, NM 25312            1990-04-02   \n",
       "1            755 Graham Lake\\r\\nValdezfurt, IN 21739  03/25/1926, 00:00:00   \n",
       "2     42832 Patrick Island\\r\\nEast Bradton, DE 36334  05/06/1958, 00:00:00   \n",
       "3                 Unit 8158 Box 0225\\r\\nDPO AP 69059            1908-06-07   \n",
       "4  0994 Daniel Park Apt. 137\\r\\nWest Melinda, KS ...           13 Jan 1974   \n",
       "\n",
       "                                  current_location          ssn  \n",
       "0    (Decimal('81.068645'), Decimal('-61.887841'))  224-40-1972  \n",
       "1  (Decimal('-5.4110755'), Decimal('-172.109419'))  351-11-1730  \n",
       "2   (Decimal('-88.540956'), Decimal('-94.396339'))  824-41-6795  \n",
       "3  (Decimal('85.9643255'), Decimal('-165.105180'))  077-59-6064  \n",
       "4    (Decimal('-27.169289'), Decimal('96.479444'))  004-15-9553  "
      ]
     },
     "execution_count": 2,
     "metadata": {},
     "output_type": "execute_result"
    }
   ],
   "source": [
    "filename = \"020/profiles.csv\"\n",
    "profiles = pd.read_csv(filename, sep='\\t', index_col=0)\n",
    "profiles.head()"
   ]
  },
  {
   "cell_type": "code",
   "execution_count": 3,
   "id": "e41fdaba-23b6-4d33-b171-df7cdd7f7a77",
   "metadata": {},
   "outputs": [
    {
     "data": {
      "text/html": [
       "<div>\n",
       "<style scoped>\n",
       "    .dataframe tbody tr th:only-of-type {\n",
       "        vertical-align: middle;\n",
       "    }\n",
       "\n",
       "    .dataframe tbody tr th {\n",
       "        vertical-align: top;\n",
       "    }\n",
       "\n",
       "    .dataframe thead th {\n",
       "        text-align: right;\n",
       "    }\n",
       "</style>\n",
       "<table border=\"1\" class=\"dataframe\">\n",
       "  <thead>\n",
       "    <tr style=\"text-align: right;\">\n",
       "      <th></th>\n",
       "      <th>er-cv</th>\n",
       "      <th>name</th>\n",
       "      <th>indicator</th>\n",
       "      <th>leukocyty</th>\n",
       "      <th>weight</th>\n",
       "      <th>ssn</th>\n",
       "      <th>relationship</th>\n",
       "      <th>etytr</th>\n",
       "      <th>smoker</th>\n",
       "      <th>erytrocyty</th>\n",
       "      <th>trombocyty</th>\n",
       "      <th>hemoglobin</th>\n",
       "      <th>ast</th>\n",
       "      <th>alp</th>\n",
       "      <th>alt</th>\n",
       "      <th>hematokrit</th>\n",
       "      <th>hbver</th>\n",
       "    </tr>\n",
       "  </thead>\n",
       "  <tbody>\n",
       "    <tr>\n",
       "      <th>0</th>\n",
       "      <td>43.09887</td>\n",
       "      <td>Devin Diaz</td>\n",
       "      <td>1.0</td>\n",
       "      <td>4.47526</td>\n",
       "      <td>65.57593</td>\n",
       "      <td>597-97-9078</td>\n",
       "      <td>single</td>\n",
       "      <td>5.96219</td>\n",
       "      <td>no</td>\n",
       "      <td>6.20665</td>\n",
       "      <td>5.71427</td>\n",
       "      <td>5.06667</td>\n",
       "      <td>57.92930</td>\n",
       "      <td>57.60257</td>\n",
       "      <td>5.12934</td>\n",
       "      <td>7.11081</td>\n",
       "      <td>6.32708</td>\n",
       "    </tr>\n",
       "    <tr>\n",
       "      <th>1</th>\n",
       "      <td>32.51734</td>\n",
       "      <td>Theodore Morris</td>\n",
       "      <td>1.0</td>\n",
       "      <td>4.41339</td>\n",
       "      <td>58.47779</td>\n",
       "      <td>100-19-5038</td>\n",
       "      <td>divoced</td>\n",
       "      <td>5.44840</td>\n",
       "      <td>no</td>\n",
       "      <td>5.58217</td>\n",
       "      <td>6.29619</td>\n",
       "      <td>6.90945</td>\n",
       "      <td>61.47846</td>\n",
       "      <td>83.38342</td>\n",
       "      <td>10.59365</td>\n",
       "      <td>8.52324</td>\n",
       "      <td>9.06429</td>\n",
       "    </tr>\n",
       "    <tr>\n",
       "      <th>2</th>\n",
       "      <td>54.39106</td>\n",
       "      <td>Ashley Mccormick</td>\n",
       "      <td>1.0</td>\n",
       "      <td>4.71119</td>\n",
       "      <td>37.58396</td>\n",
       "      <td>241-30-2551</td>\n",
       "      <td>widowed</td>\n",
       "      <td>6.75478</td>\n",
       "      <td>Y</td>\n",
       "      <td>6.36030</td>\n",
       "      <td>6.67129</td>\n",
       "      <td>4.08668</td>\n",
       "      <td>59.37033</td>\n",
       "      <td>31.60935</td>\n",
       "      <td>10.72644</td>\n",
       "      <td>8.41874</td>\n",
       "      <td>7.11435</td>\n",
       "    </tr>\n",
       "    <tr>\n",
       "      <th>3</th>\n",
       "      <td>45.79943</td>\n",
       "      <td>Brent Howard</td>\n",
       "      <td>1.0</td>\n",
       "      <td>5.38079</td>\n",
       "      <td>88.06628</td>\n",
       "      <td>667-52-4116</td>\n",
       "      <td>married</td>\n",
       "      <td>6.33099</td>\n",
       "      <td>no</td>\n",
       "      <td>5.45784</td>\n",
       "      <td>6.24957</td>\n",
       "      <td>5.57164</td>\n",
       "      <td>50.31551</td>\n",
       "      <td>75.29715</td>\n",
       "      <td>9.26557</td>\n",
       "      <td>4.69702</td>\n",
       "      <td>7.00724</td>\n",
       "    </tr>\n",
       "    <tr>\n",
       "      <th>4</th>\n",
       "      <td>48.81261</td>\n",
       "      <td>Paul Jordan</td>\n",
       "      <td>0.0</td>\n",
       "      <td>4.72469</td>\n",
       "      <td>44.59816</td>\n",
       "      <td>368-59-5827</td>\n",
       "      <td>divoced</td>\n",
       "      <td>6.62153</td>\n",
       "      <td>no</td>\n",
       "      <td>6.36262</td>\n",
       "      <td>6.44608</td>\n",
       "      <td>6.49617</td>\n",
       "      <td>50.44424</td>\n",
       "      <td>84.90135</td>\n",
       "      <td>9.31196</td>\n",
       "      <td>6.31221</td>\n",
       "      <td>8.54503</td>\n",
       "    </tr>\n",
       "  </tbody>\n",
       "</table>\n",
       "</div>"
      ],
      "text/plain": [
       "      er-cv              name  indicator  leukocyty    weight          ssn  \\\n",
       "0  43.09887        Devin Diaz        1.0    4.47526  65.57593  597-97-9078   \n",
       "1  32.51734   Theodore Morris        1.0    4.41339  58.47779  100-19-5038   \n",
       "2  54.39106  Ashley Mccormick        1.0    4.71119  37.58396  241-30-2551   \n",
       "3  45.79943      Brent Howard        1.0    5.38079  88.06628  667-52-4116   \n",
       "4  48.81261       Paul Jordan        0.0    4.72469  44.59816  368-59-5827   \n",
       "\n",
       "  relationship    etytr smoker  erytrocyty  trombocyty  hemoglobin       ast  \\\n",
       "0       single  5.96219     no     6.20665     5.71427     5.06667  57.92930   \n",
       "1      divoced  5.44840     no     5.58217     6.29619     6.90945  61.47846   \n",
       "2      widowed  6.75478      Y     6.36030     6.67129     4.08668  59.37033   \n",
       "3      married  6.33099     no     5.45784     6.24957     5.57164  50.31551   \n",
       "4      divoced  6.62153     no     6.36262     6.44608     6.49617  50.44424   \n",
       "\n",
       "        alp       alt  hematokrit    hbver  \n",
       "0  57.60257   5.12934     7.11081  6.32708  \n",
       "1  83.38342  10.59365     8.52324  9.06429  \n",
       "2  31.60935  10.72644     8.41874  7.11435  \n",
       "3  75.29715   9.26557     4.69702  7.00724  \n",
       "4  84.90135   9.31196     6.31221  8.54503  "
      ]
     },
     "execution_count": 3,
     "metadata": {},
     "output_type": "execute_result"
    }
   ],
   "source": [
    "filename2 = \"020/labor.csv\"\n",
    "labor = pd.read_csv(filename2, sep='\\t', index_col=0)\n",
    "labor.head()"
   ]
  },
  {
   "cell_type": "code",
   "execution_count": 4,
   "id": "268de0a5-6b12-40bf-aba9-2550bc4a648e",
   "metadata": {},
   "outputs": [],
   "source": [
    "def my_fill_na(arg1,ind):\n",
    "    labor.loc[labor['indicator'] == ind , arg1] = labor.loc[labor['indicator'] == ind , arg1].fillna(\n",
    "    (labor.loc[labor['indicator'] == ind , arg1].mean()))"
   ]
  },
  {
   "cell_type": "code",
   "execution_count": 5,
   "id": "2adc7341-9a8a-4d11-96b0-c247c3250c6f",
   "metadata": {},
   "outputs": [],
   "source": [
    "my_fill_na('er-cv',0)\n",
    "my_fill_na('er-cv',1)\n",
    "my_fill_na('leukocyty',0)\n",
    "my_fill_na('leukocyty',1)\n",
    "my_fill_na('etytr',0)\n",
    "my_fill_na('etytr',1)\n",
    "my_fill_na('erytrocyty',0)\n",
    "my_fill_na('erytrocyty',1)\n",
    "my_fill_na('trombocyty',0)\n",
    "my_fill_na('trombocyty',1)\n",
    "my_fill_na('hemoglobin',0)\n",
    "my_fill_na('hemoglobin',1)\n",
    "my_fill_na('ast',0)\n",
    "my_fill_na('ast',1)\n",
    "my_fill_na('alt',0)\n",
    "my_fill_na('alt',1)\n",
    "my_fill_na('alp',0)\n",
    "my_fill_na('alp',1)\n",
    "my_fill_na('hematokrit',0)\n",
    "my_fill_na('hematokrit',1)\n",
    "my_fill_na('hbver',0)\n",
    "my_fill_na('hbver',1)"
   ]
  },
  {
   "cell_type": "code",
   "execution_count": 6,
   "id": "533d2328-4337-4621-abab-cb377351ac44",
   "metadata": {},
   "outputs": [
    {
     "data": {
      "text/plain": [
       "0"
      ]
     },
     "execution_count": 6,
     "metadata": {},
     "output_type": "execute_result"
    }
   ],
   "source": [
    "labor.isna().any(axis=1).sum()"
   ]
  },
  {
   "cell_type": "code",
   "execution_count": 7,
   "id": "35200fc2-a43d-4efd-b0ba-5e6ecfc374d0",
   "metadata": {},
   "outputs": [
    {
     "data": {
      "text/plain": [
       "0"
      ]
     },
     "execution_count": 7,
     "metadata": {},
     "output_type": "execute_result"
    }
   ],
   "source": [
    "profiles.isna().any(axis=1).sum()"
   ]
  },
  {
   "cell_type": "code",
   "execution_count": 8,
   "id": "0404e97e-9312-4e37-ae9f-5097cafa201c",
   "metadata": {},
   "outputs": [
    {
     "name": "stdout",
     "output_type": "stream",
     "text": [
      "<class 'pandas.core.frame.DataFrame'>\n",
      "Int64Index: 9987 entries, 0 to 9986\n",
      "Data columns (total 17 columns):\n",
      " #   Column        Non-Null Count  Dtype  \n",
      "---  ------        --------------  -----  \n",
      " 0   er-cv         9987 non-null   float64\n",
      " 1   name          9987 non-null   object \n",
      " 2   indicator     9987 non-null   float64\n",
      " 3   leukocyty     9987 non-null   float64\n",
      " 4   weight        9987 non-null   float64\n",
      " 5   ssn           9987 non-null   object \n",
      " 6   relationship  9987 non-null   object \n",
      " 7   etytr         9987 non-null   float64\n",
      " 8   smoker        9987 non-null   object \n",
      " 9   erytrocyty    9987 non-null   float64\n",
      " 10  trombocyty    9987 non-null   float64\n",
      " 11  hemoglobin    9987 non-null   float64\n",
      " 12  ast           9987 non-null   float64\n",
      " 13  alp           9987 non-null   float64\n",
      " 14  alt           9987 non-null   float64\n",
      " 15  hematokrit    9987 non-null   float64\n",
      " 16  hbver         9987 non-null   float64\n",
      "dtypes: float64(13), object(4)\n",
      "memory usage: 1.4+ MB\n"
     ]
    }
   ],
   "source": [
    "labor.info()"
   ]
  },
  {
   "cell_type": "code",
   "execution_count": 9,
   "id": "cbe61526-6861-40fb-bfe6-b140ae4a56ee",
   "metadata": {},
   "outputs": [],
   "source": [
    "def detect_outliner(atr):\n",
    "    lower = atr.quantile(0.25) - 1.5\n",
    "    upper = atr.quantile(0.75) + 1.5\n",
    "    \n",
    "    return atr[(atr > upper) | (atr < lower)]"
   ]
  },
  {
   "cell_type": "code",
   "execution_count": 10,
   "id": "371ff24d-e604-492c-8d9e-a55c3ad8f435",
   "metadata": {},
   "outputs": [],
   "source": [
    "def detect_upper_lower_outliners(atr):\n",
    "    lower = atr.quantile(0.25) - 1.5\n",
    "    upper = atr.quantile(0.75) + 1.5\n",
    "    \n",
    "    return atr[(atr > upper)], atr[(atr < lower)]"
   ]
  },
  {
   "cell_type": "code",
   "execution_count": 11,
   "id": "20a70a82-5f05-4d02-bfe9-de200f753a92",
   "metadata": {},
   "outputs": [],
   "source": [
    "# Tato funkcia najde vrchnych a spodnych outlinerov a vyplni ich nahodnou hodnotou medzi minimom bez outlinerov a 10 spodnych % pripadne maximom bez outlinerov a 10 vrchnych %\n",
    "def fill_outliners(df, atr):\n",
    "    df.loc[detect_upper_lower_outliners(df[atr])[0].index, [atr]] = random.uniform(df.drop(detect_upper_lower_outliners(df[atr])[0].index)[atr].quantile(0.90), df.drop(detect_upper_lower_outliners(df[atr])[0].index)[atr].max())\n",
    "    df.loc[detect_upper_lower_outliners(df[atr])[1].index, [atr]] = random.uniform(df.drop(detect_upper_lower_outliners(df[atr])[1].index)[atr].min(), df.drop(detect_upper_lower_outliners(df[atr])[1].index)[atr].quantile(0.10))\n",
    "    df[atr]"
   ]
  },
  {
   "cell_type": "code",
   "execution_count": 12,
   "id": "8aa0156e-2468-4c7d-a642-7742b0489870",
   "metadata": {},
   "outputs": [],
   "source": [
    "fill_labor = labor.copy()\n",
    "fill_outliners(fill_labor, \"leukocyty\")\n",
    "fill_outliners(fill_labor, \"hemoglobin\")\n",
    "fill_outliners(fill_labor, \"hematokrit\")"
   ]
  },
  {
   "cell_type": "code",
   "execution_count": 13,
   "id": "e3fbad6c-dcb6-4d2a-b582-58a6426eff26",
   "metadata": {},
   "outputs": [
    {
     "name": "stdout",
     "output_type": "stream",
     "text": [
      "(9987, 17)\n",
      "(7363, 17)\n"
     ]
    }
   ],
   "source": [
    "drop_labor = labor.copy()\n",
    "print(drop_labor.shape)\n",
    "drop_labor.drop(detect_outliner(drop_labor.leukocyty).index, inplace=True)\n",
    "drop_labor.drop(detect_outliner(drop_labor.hemoglobin).index, inplace=True)\n",
    "drop_labor.drop(detect_outliner(drop_labor.hematokrit).index, inplace=True)\n",
    "print(drop_labor.shape)"
   ]
  },
  {
   "cell_type": "code",
   "execution_count": 14,
   "id": "8b064073-d2a3-4d4c-b4f7-b3a7839166cd",
   "metadata": {},
   "outputs": [],
   "source": [
    "# sns.boxplot(data=labor.leukocyty)"
   ]
  },
  {
   "cell_type": "code",
   "execution_count": 15,
   "id": "ebdf9ba3-d004-44ad-b032-9901a8796c40",
   "metadata": {},
   "outputs": [],
   "source": [
    "# sns.boxplot(data=labor.drop(detect_outliner(labor.leukocyty).index).leukocyty)"
   ]
  },
  {
   "cell_type": "code",
   "execution_count": 16,
   "id": "c836f1e6-86f2-4efa-ba6b-9abfad6302e0",
   "metadata": {},
   "outputs": [],
   "source": [
    "# sns.boxplot(data=labor.hemoglobin)"
   ]
  },
  {
   "cell_type": "code",
   "execution_count": 17,
   "id": "7877cf19-e693-4bc2-94c0-decc456ff725",
   "metadata": {},
   "outputs": [],
   "source": [
    "# sns.boxplot(data=labor.drop(detect_outliner(labor.hemoglobin).index).hemoglobin)"
   ]
  },
  {
   "cell_type": "code",
   "execution_count": 18,
   "id": "0d51dd90-4926-4f41-a523-878b12b85459",
   "metadata": {},
   "outputs": [],
   "source": [
    "# sns.boxplot(data=labor.hematokrit)"
   ]
  },
  {
   "cell_type": "code",
   "execution_count": 19,
   "id": "275fb1dc-ddc7-45ac-b4c7-ddaa4bdbd2b7",
   "metadata": {},
   "outputs": [],
   "source": [
    "# sns.boxplot(data=labor.drop(detect_outliner(labor.hematokrit).index).hematokrit)"
   ]
  },
  {
   "cell_type": "code",
   "execution_count": null,
   "id": "a2ef147c-b6c3-4b09-9833-0a11d22d6a49",
   "metadata": {},
   "outputs": [],
   "source": []
  },
  {
   "cell_type": "code",
   "execution_count": 20,
   "id": "bce07642-f1f5-486f-962a-9f387aea250a",
   "metadata": {},
   "outputs": [],
   "source": []
  },
  {
   "cell_type": "code",
   "execution_count": 31,
   "id": "a5fd6d7e-9774-40b4-a63b-bac0e2e2519d",
   "metadata": {},
   "outputs": [
    {
     "data": {
      "text/plain": [
       "<AxesSubplot:ylabel='Count'>"
      ]
     },
     "execution_count": 31,
     "metadata": {},
     "output_type": "execute_result"
    },
    {
     "data": {
      "image/png": "[encoded data removed]",
      "text/plain": [
       "<Figure size 432x288 with 1 Axes>"
      ]
     },
     "metadata": {
      "needs_background": "light"
     },
     "output_type": "display_data"
    }
   ],
   "source": [
    "sns.histplot(drop_labor.loc[:, [\"leukocyty\", \"hemoglobin\", \"hematokrit\"]])"
   ]
  },
  {
   "cell_type": "code",
   "execution_count": 37,
   "id": "069becfc-4736-4e48-a67e-9787427a6329",
   "metadata": {},
   "outputs": [
    {
     "data": {
      "text/plain": [
       "<AxesSubplot:ylabel='Count'>"
      ]
     },
     "execution_count": 37,
     "metadata": {},
     "output_type": "execute_result"
    },
    {
     "data": {
      "image/png": "[encoded data removed]",
      "text/plain": [
       "<Figure size 432x288 with 1 Axes>"
      ]
     },
     "metadata": {
      "needs_background": "light"
     },
     "output_type": "display_data"
    }
   ],
   "source": [
    "from sklearn.preprocessing import MinMaxScaler\n",
    "scaler = MinMaxScaler()\n",
    "scaled = scaler.fit_transform(drop_labor.loc[:, [\"leukocyty\", \"hemoglobin\", \"hematokrit\"]])\n",
    "sns.histplot(scaled)"
   ]
  },
  {
   "cell_type": "code",
   "execution_count": 36,
   "id": "def7b852-b71d-45f9-b3df-817cf512edd6",
   "metadata": {},
   "outputs": [
    {
     "data": {
      "text/plain": [
       "<AxesSubplot:ylabel='Count'>"
      ]
     },
     "execution_count": 36,
     "metadata": {},
     "output_type": "execute_result"
    },
    {
     "data": {
      "image/png": "[encoded data removed]",
      "text/plain": [
       "<Figure size 432x288 with 1 Axes>"
      ]
     },
     "metadata": {
      "needs_background": "light"
     },
     "output_type": "display_data"
    }
   ],
   "source": [
    "from sklearn.preprocessing import StandardScaler\n",
    "scaler = StandardScaler()\n",
    "scaled = scaler.fit_transform(drop_labor.loc[:, [\"leukocyty\", \"hemoglobin\", \"hematokrit\"]])\n",
    "sns.histplot(scaled)"
   ]
  },
  {
   "cell_type": "code",
   "execution_count": 38,
   "id": "28e5533c-7945-432c-938c-755575fb8889",
   "metadata": {},
   "outputs": [
    {
     "data": {
      "text/plain": [
       "<AxesSubplot:ylabel='Count'>"
      ]
     },
     "execution_count": 38,
     "metadata": {},
     "output_type": "execute_result"
    },
    {
     "data": {
      "image/png": "[encoded data removed]",
      "text/plain": [
       "<Figure size 432x288 with 1 Axes>"
      ]
     },
     "metadata": {
      "needs_background": "light"
     },
     "output_type": "display_data"
    }
   ],
   "source": [
    "from sklearn.preprocessing import RobustScaler\n",
    "scaler = RobustScaler()\n",
    "scaled = scaler.fit_transform(drop_labor.loc[:, [\"leukocyty\", \"hemoglobin\", \"hematokrit\"]])\n",
    "sns.histplot(scaled)"
   ]
  },
  {
   "cell_type": "code",
   "execution_count": 41,
   "id": "79e4ce92-4488-4dee-96c2-eee9e05ef37a",
   "metadata": {},
   "outputs": [
    {
     "data": {
      "text/plain": [
       "<AxesSubplot:ylabel='Count'>"
      ]
     },
     "execution_count": 41,
     "metadata": {},
     "output_type": "execute_result"
    },
    {
     "data": {
      "image/png": "[encoded data removed]",
      "text/plain": [
       "<Figure size 432x288 with 1 Axes>"
      ]
     },
     "metadata": {
      "needs_background": "light"
     },
     "output_type": "display_data"
    }
   ],
   "source": [
    "from sklearn.preprocessing import PowerTransformer\n",
    "power = PowerTransformer(method='yeo-johnson', standardize=True)\n",
    "trans = power.fit_transform(drop_labor.loc[:, [\"leukocyty\", \"hemoglobin\", \"hematokrit\"]])\n",
    "sns.histplot(trans)"
   ]
  },
  {
   "cell_type": "code",
   "execution_count": 42,
   "id": "4b309fb7-a164-4efd-b4ba-c1da9af6b6d1",
   "metadata": {},
   "outputs": [
    {
     "data": {
      "text/plain": [
       "<AxesSubplot:ylabel='Count'>"
      ]
     },
     "execution_count": 42,
     "metadata": {},
     "output_type": "execute_result"
    },
    {
     "data": {
      "image/png": "[encoded data removed]",
      "text/plain": [
       "<Figure size 432x288 with 1 Axes>"
      ]
     },
     "metadata": {
      "needs_background": "light"
     },
     "output_type": "display_data"
    }
   ],
   "source": [
    "from sklearn.preprocessing import QuantileTransformer\n",
    "qt = QuantileTransformer(n_quantiles=10, random_state=0)\n",
    "trans = qt.fit_transform(drop_labor.loc[:, [\"leukocyty\", \"hemoglobin\", \"hematokrit\"]])\n",
    "sns.histplot(trans)"
   ]
  },
  {
   "cell_type": "code",
   "execution_count": null,
   "id": "27ebe494-30a4-437e-8c96-454a1322a215",
   "metadata": {},
   "outputs": [],
   "source": []
  }
 ],
 "metadata": {
  "kernelspec": {
   "display_name": "Python 3 (ipykernel)",
   "language": "python",
   "name": "python3"
  },
  "language_info": {
   "codemirror_mode": {
    "name": "ipython",
    "version": 3
   },
   "file_extension": ".py",
   "mimetype": "text/x-python",
   "name": "python",
   "nbconvert_exporter": "python",
   "pygments_lexer": "ipython3",
   "version": "3.8.6"
  }
 },
 "nbformat": 4,
 "nbformat_minor": 5
}
